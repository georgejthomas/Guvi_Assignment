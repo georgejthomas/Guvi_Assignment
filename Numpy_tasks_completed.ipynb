{
  "cells": [
    {
      "cell_type": "markdown",
      "metadata": {
        "id": "ik23fo2Py2Sd"
      },
      "source": [
        "# Numpy\n",
        "\n"
      ]
    },
    {
      "cell_type": "markdown",
      "metadata": {
        "id": "OnpVugMcy2Sp"
      },
      "source": [
        "#### 1. Import the numpy package under the name `np` (★☆☆) \n",
        "(**hint**: import … as …)"
      ]
    },
    {
      "cell_type": "code",
      "execution_count": null,
      "metadata": {
        "collapsed": true,
        "id": "lrqVVIamy2Sr"
      },
      "outputs": [],
      "source": [
        "import numpy as np\n"
      ]
    },
    {
      "cell_type": "markdown",
      "metadata": {
        "id": "IcyYkwhsy2St"
      },
      "source": [
        "#### 2. Print the numpy version and the configuration (★☆☆) \n",
        "(**hint**: np.\\_\\_version\\_\\_, np.show\\_config)"
      ]
    },
    {
      "cell_type": "code",
      "execution_count": null,
      "metadata": {
        "colab": {
          "base_uri": "https://localhost:8080/"
        },
        "id": "OWEXvIpqy2Sv",
        "outputId": "9290ffef-09ce-49a5-96e3-30e4fbb9c512"
      },
      "outputs": [
        {
          "output_type": "stream",
          "name": "stdout",
          "text": [
            "1.21.5\n",
            "blas_mkl_info:\n",
            "  NOT AVAILABLE\n",
            "blis_info:\n",
            "  NOT AVAILABLE\n",
            "openblas_info:\n",
            "    libraries = ['openblas', 'openblas']\n",
            "    library_dirs = ['/usr/local/lib']\n",
            "    language = c\n",
            "    define_macros = [('HAVE_CBLAS', None)]\n",
            "    runtime_library_dirs = ['/usr/local/lib']\n",
            "blas_opt_info:\n",
            "    libraries = ['openblas', 'openblas']\n",
            "    library_dirs = ['/usr/local/lib']\n",
            "    language = c\n",
            "    define_macros = [('HAVE_CBLAS', None)]\n",
            "    runtime_library_dirs = ['/usr/local/lib']\n",
            "lapack_mkl_info:\n",
            "  NOT AVAILABLE\n",
            "openblas_lapack_info:\n",
            "    libraries = ['openblas', 'openblas']\n",
            "    library_dirs = ['/usr/local/lib']\n",
            "    language = c\n",
            "    define_macros = [('HAVE_CBLAS', None)]\n",
            "    runtime_library_dirs = ['/usr/local/lib']\n",
            "lapack_opt_info:\n",
            "    libraries = ['openblas', 'openblas']\n",
            "    library_dirs = ['/usr/local/lib']\n",
            "    language = c\n",
            "    define_macros = [('HAVE_CBLAS', None)]\n",
            "    runtime_library_dirs = ['/usr/local/lib']\n",
            "Supported SIMD extensions in this NumPy install:\n",
            "    baseline = SSE,SSE2,SSE3\n",
            "    found = SSSE3,SSE41,POPCNT,SSE42,AVX,F16C,FMA3,AVX2\n",
            "    not found = AVX512F,AVX512CD,AVX512_KNL,AVX512_KNM,AVX512_SKX,AVX512_CLX,AVX512_CNL,AVX512_ICL\n"
          ]
        }
      ],
      "source": [
        "print(np.__version__)\n",
        "\n",
        "np.__config__.show()"
      ]
    },
    {
      "cell_type": "markdown",
      "metadata": {
        "id": "mFx00qXwy2Sw"
      },
      "source": [
        "#### 3. Create a null vector of size 10 (★☆☆) \n",
        "(**hint**: np.zeros)"
      ]
    },
    {
      "cell_type": "code",
      "execution_count": null,
      "metadata": {
        "colab": {
          "base_uri": "https://localhost:8080/"
        },
        "id": "HdJVTKMZy2Sx",
        "outputId": "30f31da3-b99c-488d-ca7c-7d318d3e35d7"
      },
      "outputs": [
        {
          "output_type": "stream",
          "name": "stdout",
          "text": [
            "[0. 0. 0. 0. 0. 0. 0. 0. 0. 0.]\n"
          ]
        }
      ],
      "source": [
        "null_vector = np.zeros(10)\n",
        "print(null_vector)"
      ]
    },
    {
      "cell_type": "markdown",
      "metadata": {
        "id": "bg3pBQHGy2Sz"
      },
      "source": [
        "#### 4.  How to find the memory size of any array (★☆☆) \n",
        "(**hint**: size, itemsize)"
      ]
    },
    {
      "cell_type": "code",
      "execution_count": null,
      "metadata": {
        "colab": {
          "base_uri": "https://localhost:8080/"
        },
        "id": "k3i5YMxjy2S0",
        "outputId": "5a53e3a4-0b7f-471d-d228-9ac99526b019"
      },
      "outputs": [
        {
          "output_type": "stream",
          "name": "stdout",
          "text": [
            "Memory size of an array:  24 (Total number of elements in the array * memory size of each element in the arry)\n"
          ]
        }
      ],
      "source": [
        "x = np.array([20,30,10])\n",
        "print(\"Memory size of an array: \",x.size * x.itemsize, \"(Total number of elements in the array * memory size of each element in the arry)\")"
      ]
    },
    {
      "cell_type": "markdown",
      "metadata": {
        "id": "X7z3j-qDy2S1"
      },
      "source": [
        "#### 5.  How to get the documentation of the numpy add function from the command line? (★☆☆) \n",
        "(**hint**: np.info)"
      ]
    },
    {
      "cell_type": "code",
      "execution_count": null,
      "metadata": {
        "collapsed": true,
        "id": "raDLeP_Gy2S2"
      },
      "outputs": [],
      "source": [
        "python -c \"import numpy; numpy.info(numpy.add())\""
      ]
    },
    {
      "cell_type": "markdown",
      "metadata": {
        "id": "G5E4VBo-y2S3"
      },
      "source": [
        "#### 6.  Create a null vector of size 10 but the fifth value which is 1 (★☆☆) \n",
        "(**hint**: array\\[4\\])"
      ]
    },
    {
      "cell_type": "code",
      "execution_count": null,
      "metadata": {
        "colab": {
          "base_uri": "https://localhost:8080/"
        },
        "id": "u-8oXPfRy2S4",
        "outputId": "ee84edfa-9320-492e-8935-120ab0ee148f"
      },
      "outputs": [
        {
          "output_type": "stream",
          "name": "stdout",
          "text": [
            "[0. 0. 0. 0. 0. 0. 0. 0. 0. 0.]\n",
            "[0. 0. 0. 0. 1. 0. 0. 0. 0. 0.]\n"
          ]
        }
      ],
      "source": [
        "x= np.zeros(10)\n",
        "print(x)\n",
        "x[4] = 1\n",
        "print(x)"
      ]
    },
    {
      "cell_type": "markdown",
      "metadata": {
        "id": "uM10TjrJy2S5"
      },
      "source": [
        "#### 7.  Create a vector with values ranging from 10 to 49 (★☆☆) \n",
        "(**hint**: np.arange)"
      ]
    },
    {
      "cell_type": "code",
      "execution_count": null,
      "metadata": {
        "colab": {
          "base_uri": "https://localhost:8080/"
        },
        "id": "a6JFe0LJy2S6",
        "outputId": "6e88767e-96b6-4730-b7b7-a0cc8e6a0bce"
      },
      "outputs": [
        {
          "output_type": "stream",
          "name": "stdout",
          "text": [
            "[10 11 12 13 14 15 16 17 18 19 20 21 22 23 24 25 26 27 28 29 30 31 32 33\n",
            " 34 35 36 37 38 39 40 41 42 43 44 45 46 47 48 49]\n"
          ]
        }
      ],
      "source": [
        "x = np.arange(10,50)\n",
        "print(x)"
      ]
    },
    {
      "cell_type": "markdown",
      "metadata": {
        "id": "U5vx8hGOy2S6"
      },
      "source": [
        "#### 8.  Reverse a vector (first element becomes last) (★☆☆) \n",
        "(**hint**: array\\[::-1\\])"
      ]
    },
    {
      "cell_type": "code",
      "execution_count": null,
      "metadata": {
        "colab": {
          "base_uri": "https://localhost:8080/"
        },
        "id": "tXY-zHd3y2S7",
        "outputId": "9b2c631b-0ed0-4079-f05d-e48f016f9499"
      },
      "outputs": [
        {
          "output_type": "stream",
          "name": "stdout",
          "text": [
            "[10 11 12 13 14 15 16 17 18 19 20 21 22 23 24 25 26 27 28 29 30 31 32 33\n",
            " 34 35 36 37 38 39 40 41 42 43 44 45 46 47 48 49]\n",
            "[49 48 47 46 45 44 43 42 41 40 39 38 37 36 35 34 33 32 31 30 29 28 27 26\n",
            " 25 24 23 22 21 20 19 18 17 16 15 14 13 12 11 10]\n"
          ]
        }
      ],
      "source": [
        "x = np.arange(10,50)\n",
        "print(x)\n",
        "z = x[::-1]\n",
        "print(z)"
      ]
    },
    {
      "cell_type": "markdown",
      "metadata": {
        "id": "-s18Azppy2S7"
      },
      "source": [
        "#### 9.  Create a 3x3 matrix with values ranging from 0 to 8 (★☆☆) \n",
        "(**hint**: reshape)"
      ]
    },
    {
      "cell_type": "code",
      "execution_count": null,
      "metadata": {
        "colab": {
          "base_uri": "https://localhost:8080/"
        },
        "id": "aOog2uU1y2S8",
        "outputId": "b33685c8-5562-49c8-8fa1-f55f631c22f7"
      },
      "outputs": [
        {
          "output_type": "stream",
          "name": "stdout",
          "text": [
            "[0 1 2 3 4 5 6 7 8]\n",
            "[[0 1 2]\n",
            " [3 4 5]\n",
            " [6 7 8]]\n"
          ]
        }
      ],
      "source": [
        "x = np.arange(0,9)\n",
        "print(x)\n",
        "\n",
        "print(x.reshape(3,3))"
      ]
    },
    {
      "cell_type": "markdown",
      "metadata": {
        "id": "-wLJuT9Uy2S9"
      },
      "source": [
        "#### 10. Find indices of non-zero elements from \\[1,2,0,0,4,0\\] (★☆☆) \n",
        "(**hint**: np.nonzero)"
      ]
    },
    {
      "cell_type": "code",
      "execution_count": null,
      "metadata": {
        "colab": {
          "base_uri": "https://localhost:8080/"
        },
        "id": "YZki9ANDy2S9",
        "outputId": "2c564076-e8e3-4d91-e078-d38cf8a3a937"
      },
      "outputs": [
        {
          "output_type": "stream",
          "name": "stdout",
          "text": [
            "(array([0, 1, 4]),)\n"
          ]
        }
      ],
      "source": [
        "x = np.nonzero([1,2,0,0,4,0])\n",
        "print(x)"
      ]
    },
    {
      "cell_type": "markdown",
      "metadata": {
        "id": "3AC2cQvPy2S9"
      },
      "source": [
        "#### 11. Create a 3x3 identity matrix (★☆☆) \n",
        "(**hint**: np.eye)"
      ]
    },
    {
      "cell_type": "code",
      "execution_count": null,
      "metadata": {
        "colab": {
          "base_uri": "https://localhost:8080/"
        },
        "id": "Q_gE-qXly2S-",
        "outputId": "274f6ded-5b62-4da7-b800-6adf3ced6651"
      },
      "outputs": [
        {
          "output_type": "stream",
          "name": "stdout",
          "text": [
            "[[1. 0. 0.]\n",
            " [0. 1. 0.]\n",
            " [0. 0. 1.]]\n"
          ]
        }
      ],
      "source": [
        "x = np.eye(3)\n",
        "print(x)"
      ]
    },
    {
      "cell_type": "markdown",
      "metadata": {
        "id": "8ZVf8yTcy2S-"
      },
      "source": [
        "#### 12. Create a 3x3x3 array with random values (★☆☆) \n",
        "(**hint**: np.random.random)"
      ]
    },
    {
      "cell_type": "code",
      "execution_count": null,
      "metadata": {
        "collapsed": true,
        "colab": {
          "base_uri": "https://localhost:8080/"
        },
        "id": "M4UWApgzy2S-",
        "outputId": "5c3ebd54-3965-47af-9e44-e84191bd6599"
      },
      "outputs": [
        {
          "output_type": "stream",
          "name": "stdout",
          "text": [
            "[[[0.17232291 0.40722389 0.38278477]\n",
            "  [0.79223558 0.52622683 0.75540908]\n",
            "  [0.48623169 0.2399814  0.76095856]]\n",
            "\n",
            " [[0.82932827 0.15783251 0.05199399]\n",
            "  [0.69023282 0.33277018 0.09322393]\n",
            "  [0.14006221 0.86450171 0.81325222]]\n",
            "\n",
            " [[0.60815938 0.97594213 0.98100045]\n",
            "  [0.08282156 0.18322574 0.3886521 ]\n",
            "  [0.80492828 0.01647435 0.23855129]]]\n",
            "27\n"
          ]
        }
      ],
      "source": [
        "x = np.random.random(size=(3,3,3))\n",
        "print(x)\n",
        "print(x.size)"
      ]
    },
    {
      "cell_type": "markdown",
      "metadata": {
        "id": "quojhwv9y2S_"
      },
      "source": [
        "#### 13. Create a 10x10 array with random values and find the minimum and maximum values (★☆☆) \n",
        "(**hint**: min, max)"
      ]
    },
    {
      "cell_type": "code",
      "execution_count": null,
      "metadata": {
        "colab": {
          "base_uri": "https://localhost:8080/"
        },
        "id": "FXlV9S2Sy2S_",
        "outputId": "3e5cc0e2-590c-431d-d3aa-32190a7adf3b"
      },
      "outputs": [
        {
          "output_type": "stream",
          "name": "stdout",
          "text": [
            "[[0.38568665 0.41890569 0.02563397 0.87352016 0.68646794 0.06194749\n",
            "  0.25523157 0.21224917 0.22520456 0.69217281]\n",
            " [0.53756751 0.24634577 0.63898094 0.57196099 0.76263359 0.38115975\n",
            "  0.8725085  0.08843785 0.68190219 0.25269627]\n",
            " [0.29081504 0.86823773 0.13503848 0.90583223 0.22707098 0.87250329\n",
            "  0.08609147 0.68251394 0.73321211 0.30463684]\n",
            " [0.5686306  0.40555675 0.00100233 0.09315845 0.18608179 0.0175246\n",
            "  0.7279542  0.41443356 0.42834127 0.72006022]\n",
            " [0.31922109 0.42399047 0.4754103  0.02769593 0.09254657 0.49318241\n",
            "  0.15250613 0.3246535  0.06691255 0.79717052]\n",
            " [0.0360311  0.87743622 0.11879825 0.4757361  0.78662761 0.27778943\n",
            "  0.46354852 0.43210618 0.37589353 0.08651295]\n",
            " [0.11176455 0.43422212 0.07211744 0.97236514 0.94454176 0.88009586\n",
            "  0.50787173 0.64723304 0.90528108 0.21753458]\n",
            " [0.82401886 0.46378817 0.18150253 0.34735206 0.69795826 0.50840999\n",
            "  0.16584763 0.18329045 0.79119935 0.31849022]\n",
            " [0.34359658 0.19570377 0.97643189 0.04371994 0.88718644 0.11605088\n",
            "  0.98829759 0.42406235 0.11666608 0.74276306]\n",
            " [0.3642169  0.79702015 0.72452733 0.48576001 0.76757134 0.01783662\n",
            "  0.11807263 0.23714769 0.05628726 0.23302574]]\n",
            "Minimum value in x:  0.0010023322220489295\n",
            "Maximum value in x:  0.9882975936420773\n"
          ]
        }
      ],
      "source": [
        "x = np.random.random(size=(10,10))\n",
        "print(x)\n",
        "print(\"Minimum value in x: \",x.min())\n",
        "print(\"Maximum value in x: \",x.max())"
      ]
    },
    {
      "cell_type": "markdown",
      "metadata": {
        "id": "eHbZDbEMy2S_"
      },
      "source": [
        "#### 14. Create a random vector of size 30 and find the mean value (★☆☆) \n",
        "(**hint**: mean)"
      ]
    },
    {
      "cell_type": "code",
      "execution_count": null,
      "metadata": {
        "colab": {
          "base_uri": "https://localhost:8080/"
        },
        "id": "AHZ-M1QCy2TA",
        "outputId": "e67e1cbd-042e-4263-e6d1-ad154f0881d1"
      },
      "outputs": [
        {
          "output_type": "stream",
          "name": "stdout",
          "text": [
            "[0.663062   0.72938242 0.07135876 0.07739094 0.45458727 0.75831287\n",
            " 0.37107658 0.33284748 0.81864583 0.86823863 0.38266947 0.85924009\n",
            " 0.93650221 0.13092306 0.8166869  0.87906829 0.5863395  0.23310509\n",
            " 0.4791562  0.01117058 0.10196357 0.56243216 0.01765053 0.59822766\n",
            " 0.47203426 0.77627177 0.25263349 0.16149658 0.93674604 0.8314808 ]\n",
            "0.5056900336696183\n"
          ]
        }
      ],
      "source": [
        "x = np.random.random(30)\n",
        "print(x)\n",
        "print(x.mean())"
      ]
    },
    {
      "cell_type": "markdown",
      "metadata": {
        "id": "QkvjFn_-y2TA"
      },
      "source": [
        "#### 15. Create a 2d array with 1 on the border and 0 inside (★☆☆) \n",
        "(**hint**: array\\[1:-1, 1:-1\\])"
      ]
    },
    {
      "cell_type": "code",
      "execution_count": null,
      "metadata": {
        "colab": {
          "base_uri": "https://localhost:8080/"
        },
        "id": "TYwkolPEy2TA",
        "outputId": "d843beae-06da-48eb-94f9-4c67cd8beaf7"
      },
      "outputs": [
        {
          "output_type": "stream",
          "name": "stdout",
          "text": [
            "[[1. 1. 1. 1. 1.]\n",
            " [1. 0. 0. 0. 1.]\n",
            " [1. 0. 0. 0. 1.]\n",
            " [1. 0. 0. 0. 1.]\n",
            " [1. 1. 1. 1. 1.]]\n"
          ]
        }
      ],
      "source": [
        "x = np.ones((5,5))\n",
        "x[1:-1,1:-1] = 0\n",
        "print(x)"
      ]
    },
    {
      "cell_type": "markdown",
      "metadata": {
        "id": "YmCMWcFMy2TA"
      },
      "source": [
        "#### 16. How to add a border (filled with 0's) around an existing array? (★☆☆) \n",
        "(**hint**: np.pad)"
      ]
    },
    {
      "cell_type": "code",
      "execution_count": null,
      "metadata": {
        "colab": {
          "base_uri": "https://localhost:8080/"
        },
        "id": "vf7SEvMsy2TB",
        "outputId": "634be6d7-3526-4cbc-dca4-9b4d387fe323"
      },
      "outputs": [
        {
          "output_type": "stream",
          "name": "stdout",
          "text": [
            "[[1. 1. 1.]\n",
            " [1. 1. 1.]\n",
            " [1. 1. 1.]]\n",
            "\n",
            "[[0. 0. 0. 0. 0.]\n",
            " [0. 1. 1. 1. 0.]\n",
            " [0. 1. 1. 1. 0.]\n",
            " [0. 1. 1. 1. 0.]\n",
            " [0. 0. 0. 0. 0.]]\n"
          ]
        }
      ],
      "source": [
        "x = np.ones((3,3))\n",
        "print(x)\n",
        "print()\n",
        "x = np.pad(x, pad_width=1, mode='constant', constant_values=0)\n",
        "print(x)"
      ]
    },
    {
      "cell_type": "markdown",
      "metadata": {
        "id": "-yWR6nFby2TB"
      },
      "source": [
        "#### 17. What is the result of the following expression? (★☆☆) \n",
        "(**hint**: NaN = not a number, inf = infinity)"
      ]
    },
    {
      "cell_type": "markdown",
      "metadata": {
        "id": "WR5Fz68dy2TB"
      },
      "source": [
        "```python\n",
        "0 * np.nan\n",
        "np.nan == np.nan\n",
        "np.inf > np.nan\n",
        "np.nan - np.nan\n",
        "0.3 == 3 * 0.1\n",
        "```"
      ]
    },
    {
      "cell_type": "code",
      "execution_count": null,
      "metadata": {
        "colab": {
          "base_uri": "https://localhost:8080/"
        },
        "id": "S31sdABDy2TC",
        "outputId": "5eab87d5-ebe1-4478-ec82-3e77bee42029"
      },
      "outputs": [
        {
          "output_type": "stream",
          "name": "stdout",
          "text": [
            "nan\n",
            "False\n",
            "False\n",
            "nan\n",
            "False\n"
          ]
        }
      ],
      "source": [
        "print(0 * np.nan)\n",
        "print(np.nan == np.nan)\n",
        "print(np.inf > np.nan)\n",
        "print(np.nan - np.nan)\n",
        "print(0.3 == 3 * 0.1)"
      ]
    },
    {
      "cell_type": "markdown",
      "metadata": {
        "id": "GnAfOruSy2TC"
      },
      "source": [
        "#### 18. Create a 5x5 matrix with values 1,2,3,4 just below the diagonal (★☆☆) \n",
        "(**hint**: np.diag)"
      ]
    },
    {
      "cell_type": "code",
      "execution_count": null,
      "metadata": {
        "colab": {
          "base_uri": "https://localhost:8080/"
        },
        "id": "04clm1ipy2TC",
        "outputId": "87b619ea-345e-4509-cd3c-44b857db9b60"
      },
      "outputs": [
        {
          "output_type": "stream",
          "name": "stdout",
          "text": [
            "[[0 0 0 0 0]\n",
            " [1 0 0 0 0]\n",
            " [0 2 0 0 0]\n",
            " [0 0 3 0 0]\n",
            " [0 0 0 4 0]]\n"
          ]
        }
      ],
      "source": [
        "x = np.diag(1+ np.arange(4),k = -1)\n",
        "print (x)"
      ]
    },
    {
      "cell_type": "markdown",
      "metadata": {
        "id": "5kjrqfV4y2TC"
      },
      "source": [
        "#### 19. Create a 8x8 matrix and fill it with a checkerboard pattern (★☆☆) \n",
        "(**hint**: array\\[::2\\])"
      ]
    },
    {
      "cell_type": "code",
      "execution_count": null,
      "metadata": {
        "colab": {
          "base_uri": "https://localhost:8080/"
        },
        "id": "p5hbpxl9y2TD",
        "outputId": "8ccce588-83f9-4f0e-a030-d2fec2c51062"
      },
      "outputs": [
        {
          "output_type": "stream",
          "name": "stdout",
          "text": [
            "[[0 1 0 1 0 1 0 1]\n",
            " [1 0 1 0 1 0 1 0]\n",
            " [0 1 0 1 0 1 0 1]\n",
            " [1 0 1 0 1 0 1 0]\n",
            " [0 1 0 1 0 1 0 1]\n",
            " [1 0 1 0 1 0 1 0]\n",
            " [0 1 0 1 0 1 0 1]\n",
            " [1 0 1 0 1 0 1 0]]\n"
          ]
        }
      ],
      "source": [
        "x = np.zeros((8,8), dtype= int)\n",
        "x[1::2, ::2]= 1\n",
        "x[::2, 1::2] = 1\n",
        "print(x)"
      ]
    },
    {
      "cell_type": "markdown",
      "metadata": {
        "id": "OriY8FTUy2TD"
      },
      "source": [
        "#### 20. Consider a (6,7,8) shape array, what is the index (x,y,z) of the 100th element? \n",
        "(**hint**: np.unravel_index)"
      ]
    },
    {
      "cell_type": "code",
      "execution_count": null,
      "metadata": {
        "colab": {
          "base_uri": "https://localhost:8080/"
        },
        "id": "pR1qAZ49y2TD",
        "outputId": "137e81da-2a19-4772-8efc-a4bf46930ad6"
      },
      "outputs": [
        {
          "output_type": "stream",
          "name": "stdout",
          "text": [
            "(1, 5, 4)\n"
          ]
        }
      ],
      "source": [
        "print (np.unravel_index(100, (6,7,8)))"
      ]
    },
    {
      "cell_type": "markdown",
      "metadata": {
        "id": "UFKxADz-y2TD"
      },
      "source": [
        "#### 21. Create a checkerboard 8x8 matrix using the tile function (★☆☆) \n",
        "(**hint**: np.tile)"
      ]
    },
    {
      "cell_type": "code",
      "execution_count": null,
      "metadata": {
        "colab": {
          "base_uri": "https://localhost:8080/"
        },
        "id": "oj4rLIF2y2TE",
        "outputId": "829336c6-6180-4bc4-b34f-08ee3492fbac"
      },
      "outputs": [
        {
          "output_type": "stream",
          "name": "stdout",
          "text": [
            "[[0 1 0 1 0 1 0 1]\n",
            " [1 0 1 0 1 0 1 0]\n",
            " [0 1 0 1 0 1 0 1]\n",
            " [1 0 1 0 1 0 1 0]\n",
            " [0 1 0 1 0 1 0 1]\n",
            " [1 0 1 0 1 0 1 0]\n",
            " [0 1 0 1 0 1 0 1]\n",
            " [1 0 1 0 1 0 1 0]]\n"
          ]
        }
      ],
      "source": [
        "x= np.array([[0,1], [1,0]])\n",
        "z = np.tile(x,(4,4))\n",
        "print(z)"
      ]
    },
    {
      "cell_type": "markdown",
      "metadata": {
        "id": "SRMKGzKTy2TE"
      },
      "source": [
        "#### 22. Normalize a 5x5 random matrix (★☆☆) \n",
        "(**hint**: (x - min) / (max - min))"
      ]
    },
    {
      "cell_type": "code",
      "execution_count": null,
      "metadata": {
        "colab": {
          "base_uri": "https://localhost:8080/"
        },
        "id": "TtEwKBIdy2TE",
        "outputId": "3da9e9fb-c1f8-4109-cec9-ca76d26d2162"
      },
      "outputs": [
        {
          "output_type": "stream",
          "name": "stdout",
          "text": [
            "[[0.99158727 0.88908469 0.2629055  0.72407546 0.05551689]\n",
            " [0.92749152 0.16998097 0.58589397 0.41563193 0.53731917]\n",
            " [0.01424365 0.88516109 0.67812151 0.72942203 0.75864093]\n",
            " [0.46665029 0.90049831 0.05348897 0.90882892 0.74967607]\n",
            " [0.02741442 0.83772508 0.69238314 0.5327983  0.07969614]]\n",
            "[[1.         0.89512124 0.25442623 0.72628684 0.04223002]\n",
            " [0.93441841 0.15934756 0.58490209 0.4106931  0.53520124]\n",
            " [0.         0.89110669 0.67926761 0.73175735 0.76165359]\n",
            " [0.46289414 0.90679945 0.04015509 0.91532318 0.75248091]\n",
            " [0.01347609 0.84257103 0.69385984 0.53057557 0.06696979]]\n"
          ]
        }
      ],
      "source": [
        "x = np.random.random((5,5))\n",
        "xmax, xmin = x.max(), x.min()\n",
        "Z= (x-xmin)/(xmax-xmin)\n",
        "print(x)\n",
        "print (Z)"
      ]
    },
    {
      "cell_type": "markdown",
      "metadata": {
        "id": "aaY5do21y2TE"
      },
      "source": [
        "#### 23. Create a custom dtype that describes a color as four unsigned bytes (RGBA) (★☆☆) \n",
        "(**hint**: np.dtype)"
      ]
    },
    {
      "cell_type": "code",
      "execution_count": null,
      "metadata": {
        "collapsed": true,
        "id": "z0jjQO5xy2TE",
        "colab": {
          "base_uri": "https://localhost:8080/"
        },
        "outputId": "0a3ae5d6-c1bc-44a9-ab2e-e179a31a6dec"
      },
      "outputs": [
        {
          "output_type": "stream",
          "name": "stdout",
          "text": [
            "[('r', 'u1'), ('g', 'u1'), ('b', 'u1'), ('a', 'u1')]\n"
          ]
        }
      ],
      "source": [
        "color = np.dtype([(\"r\", np.ubyte),\n",
        "                  (\"g\", np.ubyte),\n",
        "                  (\"b\", np.ubyte),\n",
        "                  (\"a\", np.ubyte)])\n",
        "\n",
        "print(color)"
      ]
    },
    {
      "cell_type": "markdown",
      "metadata": {
        "id": "n_w8zjFvy2TF"
      },
      "source": [
        "#### 24. Multiply a 5x3 matrix by a 3x2 matrix (real matrix product) (★☆☆) \n",
        "(**hint**: np.dot | @)"
      ]
    },
    {
      "cell_type": "code",
      "execution_count": null,
      "metadata": {
        "colab": {
          "base_uri": "https://localhost:8080/"
        },
        "id": "EZaM2a2cy2TF",
        "outputId": "348aa0fa-95f5-448b-d0b3-8d8f9b257d51"
      },
      "outputs": [
        {
          "output_type": "stream",
          "name": "stdout",
          "text": [
            "x:  [[ 0  1  2]\n",
            " [ 3  4  5]\n",
            " [ 6  7  8]\n",
            " [ 9 10 11]\n",
            " [12 13 14]]\n",
            "y: [[0 1]\n",
            " [2 3]\n",
            " [4 5]]\n",
            "x.y:  [[ 10  13]\n",
            " [ 28  40]\n",
            " [ 46  67]\n",
            " [ 64  94]\n",
            " [ 82 121]]\n"
          ]
        }
      ],
      "source": [
        "x = np.arange(15).reshape((5,3))\n",
        "print(\"x: \",x)\n",
        "y = np.arange(6).reshape((3,2))\n",
        "print(\"y:\",y)\n",
        "print(\"x.y: \",np.dot(x,y))"
      ]
    },
    {
      "cell_type": "markdown",
      "metadata": {
        "id": "KwnmCjuPy2TF"
      },
      "source": [
        "#### 25. Given a 1D array, negate all elements which are between 3 and 8, in place. (★☆☆) \n",
        "(**hint**: >, <=)"
      ]
    },
    {
      "cell_type": "code",
      "execution_count": null,
      "metadata": {
        "colab": {
          "base_uri": "https://localhost:8080/"
        },
        "id": "1BHKyqY3y2TF",
        "outputId": "a183fa08-fd39-4133-d1a7-280aadbbc298"
      },
      "outputs": [
        {
          "output_type": "stream",
          "name": "stdout",
          "text": [
            "[ 0  1  2 -1 -1 -1 -1 -1 -1  9 10]\n"
          ]
        }
      ],
      "source": [
        "x = np.arange(11)\n",
        "x[(x >= 3) & (x <= 8)] = -1\n",
        "print(x)"
      ]
    },
    {
      "cell_type": "markdown",
      "metadata": {
        "id": "h7CB56pJy2TF"
      },
      "source": [
        "#### 26. What is the output of the following script? (★☆☆) \n",
        "(**hint**: np.sum)"
      ]
    },
    {
      "cell_type": "markdown",
      "metadata": {
        "id": "eaokIPyBy2TG"
      },
      "source": [
        "```python\n",
        "# Author: Jake VanderPlas\n",
        "\n",
        "print(sum(range(5),-1))  #9\n",
        "\n",
        "from numpy import *\n",
        "print(sum(range(5),-1))   #10\n",
        "```"
      ]
    },
    {
      "cell_type": "code",
      "execution_count": null,
      "metadata": {
        "id": "3m8Pj4exy2TG"
      },
      "outputs": [],
      "source": [
        ""
      ]
    },
    {
      "cell_type": "markdown",
      "metadata": {
        "id": "3dcuBgWUy2TG"
      },
      "source": [
        "#### 27. Consider an integer vector Z, which of these expressions are legal? (★☆☆)"
      ]
    },
    {
      "cell_type": "markdown",
      "metadata": {
        "id": "zNa83uA_y2TG"
      },
      "source": [
        "```python\n",
        "Z**Z\n",
        "2 << Z >> 2\n",
        "Z <- Z\n",
        "1j*Z\n",
        "Z/1/1\n",
        "Z<Z>Z\n",
        "```"
      ]
    },
    {
      "cell_type": "code",
      "execution_count": null,
      "metadata": {
        "id": "kay8mwAOy2TG"
      },
      "outputs": [],
      "source": [
        "Z = np.arange(3) \n",
        "print(Z ** Z) # = [0^0, 1^1, 2^2] = [1, 1, 4]\n",
        "print(2 << Z >> 2) #  [0, 1, 2]\n",
        "print(Z < - Z) # = [False, False, False]\n",
        "print(1j * Z) # = [0 + 0.j, 0 + 1.j, 0 + 2.j]\n",
        "print(Z / 1 / 1)  = [0, 1, 2]\n",
        "print(Z < Z > Z) #ValueError"
      ]
    },
    {
      "cell_type": "markdown",
      "metadata": {
        "id": "983a7aQoy2TG"
      },
      "source": [
        "#### 28. What are the result of the following expressions?"
      ]
    },
    {
      "cell_type": "markdown",
      "metadata": {
        "id": "dx70ztu1y2TH"
      },
      "source": [
        "```python\n",
        "np.array(0) / np.array(0)\n",
        "np.array(0) // np.array(0)\n",
        "np.array([np.nan]).astype(int).astype(float)\n",
        "```"
      ]
    },
    {
      "cell_type": "code",
      "execution_count": null,
      "metadata": {
        "colab": {
          "base_uri": "https://localhost:8080/"
        },
        "id": "yUXHSIVwy2TH",
        "outputId": "17d2df4c-7868-4fbc-cea2-eb96b3d64cf0"
      },
      "outputs": [
        {
          "output_type": "stream",
          "name": "stderr",
          "text": [
            "/usr/local/lib/python3.7/dist-packages/ipykernel_launcher.py:1: RuntimeWarning: invalid value encountered in true_divide\n",
            "  \"\"\"Entry point for launching an IPython kernel.\n",
            "/usr/local/lib/python3.7/dist-packages/ipykernel_launcher.py:2: RuntimeWarning: divide by zero encountered in floor_divide\n",
            "  \n"
          ]
        },
        {
          "output_type": "execute_result",
          "data": {
            "text/plain": [
              "array([-9.22337204e+18])"
            ]
          },
          "metadata": {},
          "execution_count": 101
        }
      ],
      "source": [
        "np.array(0) / np.array(0) #Error\n",
        "np.array(0) // np.array(0) #0\n",
        "np.array([np.nan]).astype(int).astype(float) #array([-9.22337204e+18])"
      ]
    },
    {
      "cell_type": "markdown",
      "metadata": {
        "id": "SSJPlFL8y2TH"
      },
      "source": [
        "#### 29. How to round away from zero a float array ? (★☆☆) \n",
        "(**hint**: np.uniform, np.copysign, np.ceil, np.abs)"
      ]
    },
    {
      "cell_type": "code",
      "execution_count": null,
      "metadata": {
        "colab": {
          "base_uri": "https://localhost:8080/"
        },
        "id": "w8kUtwD1y2TH",
        "outputId": "96924b7c-5956-4935-e0eb-8e438019797f"
      },
      "outputs": [
        {
          "output_type": "execute_result",
          "data": {
            "text/plain": [
              "array([-10.,   5.,   6.,   5.,   1.,  10.,  -9.,   9.,   8.,  -3.])"
            ]
          },
          "metadata": {},
          "execution_count": 102
        }
      ],
      "source": [
        "x = np.random.uniform(-10, +10, 10)\n",
        "np.copysign(np.ceil(np.abs(x)), x)"
      ]
    },
    {
      "cell_type": "markdown",
      "metadata": {
        "id": "rpyNjnTay2TH"
      },
      "source": [
        "#### 30. How to find common values between two arrays? (★☆☆) \n",
        "(**hint**: np.intersect1d)"
      ]
    },
    {
      "cell_type": "code",
      "execution_count": null,
      "metadata": {
        "id": "_HfIwhC5y2TI",
        "colab": {
          "base_uri": "https://localhost:8080/"
        },
        "outputId": "07f010ad-86e5-41bf-ff90-2fa3420b06a4"
      },
      "outputs": [
        {
          "output_type": "stream",
          "name": "stdout",
          "text": [
            "[0 3 4]\n"
          ]
        }
      ],
      "source": [
        "x = np.random.randint(0,10,10)\n",
        "y = np.random.randint(0,10,10)\n",
        "print(np.intersect1d(x,y))"
      ]
    },
    {
      "cell_type": "markdown",
      "metadata": {
        "id": "XC6mzbewy2TI"
      },
      "source": [
        "#### 31. How to ignore all numpy warnings (not recommended)? (★☆☆) \n",
        "(**hint**: np.seterr, np.errstate)"
      ]
    },
    {
      "cell_type": "code",
      "execution_count": null,
      "metadata": {
        "id": "OzbBIi84y2TI"
      },
      "outputs": [],
      "source": [
        "#Way 1:\n",
        "chk = np.seterr(all=\"ignore\")\n",
        "x = np.ones(1) / 0\n",
        "\n",
        "# Way 2\n",
        "with np.errstate(all=\"ignore\"):\n",
        "    np.arange(3) / 0"
      ]
    },
    {
      "cell_type": "markdown",
      "metadata": {
        "id": "hkYGsMk7y2TI"
      },
      "source": [
        "#### 32. Is the following expressions true? (★☆☆) \n",
        "(**hint**: imaginary number)"
      ]
    },
    {
      "cell_type": "markdown",
      "metadata": {
        "id": "jELUqAFjy2TI"
      },
      "source": [
        "```python\n",
        "np.sqrt(-1) == np.emath.sqrt(-1)\n",
        "```"
      ]
    },
    {
      "cell_type": "code",
      "execution_count": null,
      "metadata": {
        "id": "PwJZPtUqy2TI",
        "colab": {
          "base_uri": "https://localhost:8080/"
        },
        "outputId": "99b877ed-44a9-4dbe-f175-deff51903898"
      },
      "outputs": [
        {
          "output_type": "execute_result",
          "data": {
            "text/plain": [
              "False"
            ]
          },
          "metadata": {},
          "execution_count": 7
        }
      ],
      "source": [
        "np.sqrt(-1) == np.emath.sqrt(-1)"
      ]
    },
    {
      "cell_type": "markdown",
      "metadata": {
        "id": "FOMzz216y2TI"
      },
      "source": [
        "#### 33. How to get the dates of yesterday, today and tomorrow? (★☆☆) \n",
        "(**hint**: np.datetime64, np.timedelta64)"
      ]
    },
    {
      "cell_type": "code",
      "execution_count": null,
      "metadata": {
        "collapsed": true,
        "id": "1DfIKgFty2TJ",
        "colab": {
          "base_uri": "https://localhost:8080/"
        },
        "outputId": "9ab96bf2-7ee3-494b-f7bc-7a75d80831e4"
      },
      "outputs": [
        {
          "output_type": "stream",
          "name": "stdout",
          "text": [
            "Yesterday: 2022-04-10   Today: 2022-04-11    Tomorrow: 2022-04-12\n"
          ]
        }
      ],
      "source": [
        "today     = np.datetime64('today')\n",
        "yesterday = today - np.timedelta64(1)\n",
        "tomorrow  = today + np.timedelta64(1)\n",
        "print(\"Yesterday:\",yesterday,\"  Today:\",today,\"   Tomorrow:\",tomorrow)"
      ]
    },
    {
      "cell_type": "markdown",
      "metadata": {
        "id": "suOruJC4y2TJ"
      },
      "source": [
        "#### 34. How to get all the dates corresponding to the month of July 2016? (★★☆) \n",
        "(**hint**: np.arange(dtype=datetime64\\['D'\\]))"
      ]
    },
    {
      "cell_type": "code",
      "execution_count": null,
      "metadata": {
        "id": "aMWFyzJ3y2TJ",
        "colab": {
          "base_uri": "https://localhost:8080/"
        },
        "outputId": "6facc9c1-4042-4666-b9d7-c502f8df6d1c"
      },
      "outputs": [
        {
          "output_type": "stream",
          "name": "stdout",
          "text": [
            "['2016-07-01' '2016-07-02' '2016-07-03' '2016-07-04' '2016-07-05'\n",
            " '2016-07-06' '2016-07-07' '2016-07-08' '2016-07-09' '2016-07-10'\n",
            " '2016-07-11' '2016-07-12' '2016-07-13' '2016-07-14' '2016-07-15'\n",
            " '2016-07-16' '2016-07-17' '2016-07-18' '2016-07-19' '2016-07-20'\n",
            " '2016-07-21' '2016-07-22' '2016-07-23' '2016-07-24' '2016-07-25'\n",
            " '2016-07-26' '2016-07-27' '2016-07-28' '2016-07-29' '2016-07-30'\n",
            " '2016-07-31']\n"
          ]
        }
      ],
      "source": [
        "x = np.arange('2016-07', '2016-08', dtype='datetime64[D]')\n",
        "print(x)"
      ]
    },
    {
      "cell_type": "markdown",
      "metadata": {
        "id": "bv2t-W6by2TJ"
      },
      "source": [
        "#### 35. How to compute ((A+B)\\*(-A/2)) in place (without copy)? (★★☆) \n",
        "(**hint**: np.add(out=), np.negative(out=), np.multiply(out=), np.divide(out=))"
      ]
    },
    {
      "cell_type": "code",
      "execution_count": null,
      "metadata": {
        "id": "yFm5lZcoy2TJ",
        "colab": {
          "base_uri": "https://localhost:8080/"
        },
        "outputId": "93083788-d494-4472-aead-5b5611a14245"
      },
      "outputs": [
        {
          "output_type": "execute_result",
          "data": {
            "text/plain": [
              "array([-1.5, -1.5, -1.5])"
            ]
          },
          "metadata": {},
          "execution_count": 13
        }
      ],
      "source": [
        "A = np.ones(3)*1\n",
        "B = np.ones(3)*2\n",
        "np.add(A,B,out=B)\n",
        "np.divide(A,2,out=A)\n",
        "np.negative(A,out=A)\n",
        "np.multiply(A,B,out=A)"
      ]
    },
    {
      "cell_type": "markdown",
      "metadata": {
        "id": "2sL_Nc5zy2TJ"
      },
      "source": [
        "#### 36. Extract the integer part of a random array using 5 different methods (★★☆) \n",
        "(**hint**: %, np.floor, np.ceil, astype, np.trunc)"
      ]
    },
    {
      "cell_type": "code",
      "execution_count": null,
      "metadata": {
        "id": "qCzjyNxNy2TJ",
        "colab": {
          "base_uri": "https://localhost:8080/"
        },
        "outputId": "5527ca98-504f-4c1d-92bc-b3e6cf5abfb4"
      },
      "outputs": [
        {
          "output_type": "stream",
          "name": "stdout",
          "text": [
            "[4. 8. 4. 2. 1. 0. 8. 2. 7. 8.]\n",
            "[4. 8. 4. 2. 1. 0. 8. 2. 7. 8.]\n",
            "[4. 8. 4. 2. 1. 0. 8. 2. 7. 8.]\n",
            "[4 8 4 2 1 0 8 2 7 8]\n",
            "[4. 8. 4. 2. 1. 0. 8. 2. 7. 8.]\n"
          ]
        }
      ],
      "source": [
        "Z = np.random.uniform(0,10,10)\n",
        "\n",
        "print(Z - Z%1)\n",
        "print(Z // 1)\n",
        "print(np.floor(Z))\n",
        "print(Z.astype(int))\n",
        "print(np.trunc(Z))"
      ]
    },
    {
      "cell_type": "markdown",
      "metadata": {
        "id": "Qa6qCjMdy2TK"
      },
      "source": [
        "#### 37. Create a 5x5 matrix with row values ranging from 0 to 4 (★★☆) \n",
        "(**hint**: np.arange)"
      ]
    },
    {
      "cell_type": "code",
      "execution_count": null,
      "metadata": {
        "id": "yS9Di_Dyy2TK",
        "colab": {
          "base_uri": "https://localhost:8080/"
        },
        "outputId": "291b8a3a-c3bb-4348-c998-66d9487af8ae"
      },
      "outputs": [
        {
          "output_type": "stream",
          "name": "stdout",
          "text": [
            "[[0. 1. 2. 3. 4.]\n",
            " [0. 1. 2. 3. 4.]\n",
            " [0. 1. 2. 3. 4.]\n",
            " [0. 1. 2. 3. 4.]\n",
            " [0. 1. 2. 3. 4.]]\n"
          ]
        }
      ],
      "source": [
        "x = np.zeros((5,5))\n",
        "x += np.arange(5)\n",
        "print(x)"
      ]
    },
    {
      "cell_type": "markdown",
      "metadata": {
        "id": "z5jr5Gbwy2TK"
      },
      "source": [
        "#### 38. Consider a generator function that generates 10 integers and use it to build an array (★☆☆) \n",
        "(**hint**: np.fromiter)"
      ]
    },
    {
      "cell_type": "code",
      "execution_count": null,
      "metadata": {
        "id": "evbblmtGy2TK",
        "colab": {
          "base_uri": "https://localhost:8080/"
        },
        "outputId": "73d419ec-1b0f-41eb-afd0-f6be41061e42"
      },
      "outputs": [
        {
          "output_type": "stream",
          "name": "stdout",
          "text": [
            "[0. 1. 2. 3. 4. 5. 6. 7. 8. 9.]\n"
          ]
        }
      ],
      "source": [
        "def generate():\n",
        "    for x in range(10):\n",
        "        yield x\n",
        "Z = np.fromiter(generate(),dtype=float,count=-1)\n",
        "print(Z)"
      ]
    },
    {
      "cell_type": "markdown",
      "metadata": {
        "id": "doRs_BYGy2TK"
      },
      "source": [
        "#### 39. Create a vector of size 10 with values ranging from 0 to 1, both excluded (★★☆) \n",
        "(**hint**: np.linspace)"
      ]
    },
    {
      "cell_type": "code",
      "execution_count": null,
      "metadata": {
        "id": "TtIUfBrXy2TK",
        "colab": {
          "base_uri": "https://localhost:8080/"
        },
        "outputId": "8cf4bf23-1820-4bb7-de67-4114358a86cd"
      },
      "outputs": [
        {
          "output_type": "stream",
          "name": "stdout",
          "text": [
            "[0.09090909 0.18181818 0.27272727 0.36363636 0.45454545 0.54545455\n",
            " 0.63636364 0.72727273 0.81818182 0.90909091]\n"
          ]
        }
      ],
      "source": [
        "x = np.linspace(start=0, stop=1, num=11, endpoint=False)[1:]\n",
        "print(x)"
      ]
    },
    {
      "cell_type": "markdown",
      "metadata": {
        "id": "Q0o8BqnOy2TL"
      },
      "source": [
        "#### 40. Create a random vector of size 10 and sort it (★★☆) \n",
        "(**hint**: sort)"
      ]
    },
    {
      "cell_type": "code",
      "execution_count": null,
      "metadata": {
        "id": "Bh2U88Aby2TL",
        "colab": {
          "base_uri": "https://localhost:8080/"
        },
        "outputId": "35c8a30c-28bf-4397-bf67-c817d9194315"
      },
      "outputs": [
        {
          "output_type": "stream",
          "name": "stdout",
          "text": [
            "[0.22612461 0.23517461 0.3035002  0.39439234 0.46619839 0.54661193\n",
            " 0.63098588 0.81872398 0.8353581  0.97343077]\n"
          ]
        }
      ],
      "source": [
        "x = np.random.random(10)\n",
        "x.sort()\n",
        "print(x)"
      ]
    },
    {
      "cell_type": "markdown",
      "metadata": {
        "id": "9VuMHcwny2TL"
      },
      "source": [
        "#### 41. How to sum a small array faster than np.sum? (★★☆) \n",
        "(**hint**: np.add.reduce)"
      ]
    },
    {
      "cell_type": "code",
      "execution_count": null,
      "metadata": {
        "id": "JvHhVS-zy2TL",
        "colab": {
          "base_uri": "https://localhost:8080/"
        },
        "outputId": "3b6dd8cd-75ce-450b-e9fd-6fb3de2d2634"
      },
      "outputs": [
        {
          "output_type": "execute_result",
          "data": {
            "text/plain": [
              "45"
            ]
          },
          "metadata": {},
          "execution_count": 20
        }
      ],
      "source": [
        "Z = np.arange(10)\n",
        "np.add.reduce(Z)"
      ]
    },
    {
      "cell_type": "markdown",
      "metadata": {
        "id": "AOF0fDaPy2TL"
      },
      "source": [
        "#### 42. Consider two random array A and B, check if they are equal (★★☆) \n",
        "(**hint**: np.allclose, np.array\\_equal)"
      ]
    },
    {
      "cell_type": "code",
      "execution_count": null,
      "metadata": {
        "id": "N8dem9tdy2TL",
        "colab": {
          "base_uri": "https://localhost:8080/"
        },
        "outputId": "8813a333-5967-4381-c329-42c55682e6f0"
      },
      "outputs": [
        {
          "output_type": "execute_result",
          "data": {
            "text/plain": [
              "False"
            ]
          },
          "metadata": {},
          "execution_count": 21
        }
      ],
      "source": [
        "A = np.random.randint(0,2,5)\n",
        "B = np.random.randint(0,2,5)\n",
        "np.array_equal(A, B)"
      ]
    },
    {
      "cell_type": "markdown",
      "metadata": {
        "id": "G3zVUy5by2TL"
      },
      "source": [
        "#### 43. Make an array immutable (read-only) (★★☆) \n",
        "(**hint**: flags.writeable)"
      ]
    },
    {
      "cell_type": "code",
      "execution_count": null,
      "metadata": {
        "id": "oX60MoQhy2TM",
        "colab": {
          "base_uri": "https://localhost:8080/",
          "height": 200
        },
        "outputId": "83d6677a-12bd-4025-f5fc-a51a91230ce7"
      },
      "outputs": [
        {
          "output_type": "error",
          "ename": "ValueError",
          "evalue": "ignored",
          "traceback": [
            "\u001b[0;31m---------------------------------------------------------------------------\u001b[0m",
            "\u001b[0;31mValueError\u001b[0m                                Traceback (most recent call last)",
            "\u001b[0;32m<ipython-input-22-dcc5e7f145b5>\u001b[0m in \u001b[0;36m<module>\u001b[0;34m()\u001b[0m\n\u001b[1;32m      1\u001b[0m \u001b[0mZ\u001b[0m \u001b[0;34m=\u001b[0m \u001b[0mnp\u001b[0m\u001b[0;34m.\u001b[0m\u001b[0mzeros\u001b[0m\u001b[0;34m(\u001b[0m\u001b[0;36m10\u001b[0m\u001b[0;34m)\u001b[0m\u001b[0;34m\u001b[0m\u001b[0;34m\u001b[0m\u001b[0m\n\u001b[1;32m      2\u001b[0m \u001b[0mZ\u001b[0m\u001b[0;34m.\u001b[0m\u001b[0mflags\u001b[0m\u001b[0;34m.\u001b[0m\u001b[0mwriteable\u001b[0m \u001b[0;34m=\u001b[0m \u001b[0;32mFalse\u001b[0m\u001b[0;34m\u001b[0m\u001b[0;34m\u001b[0m\u001b[0m\n\u001b[0;32m----> 3\u001b[0;31m \u001b[0mZ\u001b[0m\u001b[0;34m[\u001b[0m\u001b[0;36m0\u001b[0m\u001b[0;34m]\u001b[0m \u001b[0;34m=\u001b[0m \u001b[0;36m1\u001b[0m\u001b[0;34m\u001b[0m\u001b[0;34m\u001b[0m\u001b[0m\n\u001b[0m",
            "\u001b[0;31mValueError\u001b[0m: assignment destination is read-only"
          ]
        }
      ],
      "source": [
        "Z = np.zeros(10)\n",
        "Z.flags.writeable = False\n",
        "Z[0] = 1"
      ]
    },
    {
      "cell_type": "markdown",
      "metadata": {
        "id": "n2q1vQ62y2TM"
      },
      "source": [
        "#### 44. Consider a random 10x2 matrix representing cartesian coordinates, convert them to polar coordinates (★★☆) \n",
        "(**hint**: np.sqrt, np.arctan2)"
      ]
    },
    {
      "cell_type": "code",
      "execution_count": null,
      "metadata": {
        "id": "kirEAXlpy2TM",
        "colab": {
          "base_uri": "https://localhost:8080/"
        },
        "outputId": "2841ac02-ba81-4463-9418-f588bbf2220a"
      },
      "outputs": [
        {
          "output_type": "stream",
          "name": "stdout",
          "text": [
            "[0.96006888 0.53740106 0.53896184 0.73773978 0.8328548  1.29720346\n",
            " 0.84619627 0.92121969 0.48042575 0.2236471 ]\n",
            "[1.37229984 0.40901532 1.00398871 0.82825094 1.54535099 0.83286097\n",
            " 1.37002012 0.84577508 0.04926629 0.72641747]\n"
          ]
        }
      ],
      "source": [
        "Z = np.random.random((10, 2))\n",
        "X, Y = Z[:, 0], Z[:, 1]\n",
        "R = np.sqrt(X ** 2 + Y ** 2)\n",
        "T = np.arctan2(Y, X)\n",
        "print(R)\n",
        "print(T)"
      ]
    },
    {
      "cell_type": "markdown",
      "metadata": {
        "id": "6UqCTBFoy2TM"
      },
      "source": [
        "#### 45. Create random vector of size 10 and replace the maximum value by 0 (★★☆) \n",
        "(**hint**: argmax)"
      ]
    },
    {
      "cell_type": "code",
      "execution_count": null,
      "metadata": {
        "id": "sqSat8D9y2TM",
        "colab": {
          "base_uri": "https://localhost:8080/"
        },
        "outputId": "717ab991-3dfa-42ab-a3d7-06d8d1213a00"
      },
      "outputs": [
        {
          "output_type": "stream",
          "name": "stdout",
          "text": [
            "[0.35819433 0.31374922 0.47125198 0.02698236 0.19466033 0.58136535\n",
            " 0.83398362 0.95542914 0.31371423 0.60495295]\n",
            "[0.35819433 0.31374922 0.47125198 0.02698236 0.19466033 0.58136535\n",
            " 0.83398362 0.         0.31371423 0.60495295]\n"
          ]
        }
      ],
      "source": [
        "x = np.random.random(10)\n",
        "print(x)\n",
        "x[x.argmax()] = 0\n",
        "print(x)"
      ]
    },
    {
      "cell_type": "markdown",
      "metadata": {
        "id": "jyNq9Geyy2TN"
      },
      "source": [
        "#### 46. Create a structured array with `x` and `y` coordinates covering the \\[0,1\\]x\\[0,1\\] area (★★☆) \n",
        "(**hint**: np.meshgrid)"
      ]
    },
    {
      "cell_type": "code",
      "execution_count": null,
      "metadata": {
        "id": "26PNv_WOy2TN",
        "colab": {
          "base_uri": "https://localhost:8080/"
        },
        "outputId": "7df11b9e-42d6-435c-c83b-13a5a74d181c"
      },
      "outputs": [
        {
          "output_type": "stream",
          "name": "stdout",
          "text": [
            "[[(0., 0.) (0., 0.) (0., 0.) (0., 0.) (0., 0.)]\n",
            " [(0., 0.) (0., 0.) (0., 0.) (0., 0.) (0., 0.)]\n",
            " [(0., 0.) (0., 0.) (0., 0.) (0., 0.) (0., 0.)]\n",
            " [(0., 0.) (0., 0.) (0., 0.) (0., 0.) (0., 0.)]\n",
            " [(0., 0.) (0., 0.) (0., 0.) (0., 0.) (0., 0.)]]\n",
            "\n",
            " [[(0.  , 0.  ) (0.25, 0.  ) (0.5 , 0.  ) (0.75, 0.  ) (1.  , 0.  )]\n",
            " [(0.  , 0.25) (0.25, 0.25) (0.5 , 0.25) (0.75, 0.25) (1.  , 0.25)]\n",
            " [(0.  , 0.5 ) (0.25, 0.5 ) (0.5 , 0.5 ) (0.75, 0.5 ) (1.  , 0.5 )]\n",
            " [(0.  , 0.75) (0.25, 0.75) (0.5 , 0.75) (0.75, 0.75) (1.  , 0.75)]\n",
            " [(0.  , 1.  ) (0.25, 1.  ) (0.5 , 1.  ) (0.75, 1.  ) (1.  , 1.  )]]\n"
          ]
        }
      ],
      "source": [
        "z = np.zeros((5, 5), [('x', float), ('y', float)])\n",
        "print(z)\n",
        "z['x'], z['y'] = np.meshgrid(np.linspace(0, 1, 5), np.linspace(0, 1, 5))\n",
        "print(\"\\n\",z)"
      ]
    },
    {
      "cell_type": "markdown",
      "metadata": {
        "id": "mLfepA1Xy2TN"
      },
      "source": [
        "####  47. Given two arrays, X and Y, construct the Cauchy matrix C (Cij =1/(xi - yj)) \n",
        "(**hint**: np.subtract.outer)"
      ]
    },
    {
      "cell_type": "code",
      "execution_count": null,
      "metadata": {
        "id": "SyxkFFcdy2TN",
        "colab": {
          "base_uri": "https://localhost:8080/"
        },
        "outputId": "e638c766-9476-4b2f-c9d3-dab68f286e58"
      },
      "outputs": [
        {
          "output_type": "stream",
          "name": "stdout",
          "text": [
            "[[-2.31097973e+03  2.71468894e+03 -5.81641258e+04 -2.26840273e+04\n",
            "   5.69290401e+03]\n",
            " [-5.24141085e+04 -1.52598393e+03 -4.33177439e+07 -7.50078192e+08\n",
            "  -2.36482959e+05]\n",
            " [-6.96367106e+06 -9.48750008e+04 -1.44785626e+07  3.53673557e+07\n",
            "  -3.19475599e+06]\n",
            " [-2.68627976e+06  6.57199567e+03  8.49443745e+08 -5.45555017e+06\n",
            "  -2.95633735e+02]\n",
            " [ 1.05965522e+05  1.30789265e+04  3.55650515e+04 -6.23304937e+05\n",
            "  -2.89819820e+04]]\n"
          ]
        }
      ],
      "source": [
        "x = np.random.random((5, 5))\n",
        "y = np.random.random((5, 5))\n",
        "c = 1.0 / np.subtract.outer(x, y)\n",
        "print(np.linalg.det(c))"
      ]
    },
    {
      "cell_type": "markdown",
      "metadata": {
        "id": "n5xbS8tBy2TN"
      },
      "source": [
        "#### 48. Print the minimum and maximum representable value for each numpy scalar type (★★☆) \n",
        "(**hint**: np.iinfo, np.finfo, eps)"
      ]
    },
    {
      "cell_type": "code",
      "execution_count": null,
      "metadata": {
        "id": "_UOHkv-my2TN",
        "colab": {
          "base_uri": "https://localhost:8080/"
        },
        "outputId": "821d3987-0db9-4a99-8a79-75fc314366d3"
      },
      "outputs": [
        {
          "output_type": "stream",
          "name": "stdout",
          "text": [
            "-128\n",
            "127\n",
            "-2147483648\n",
            "2147483647\n",
            "-9223372036854775808\n",
            "9223372036854775807\n",
            "-3.4028235e+38\n",
            "3.4028235e+38\n",
            "1.1920929e-07\n",
            "-1.7976931348623157e+308\n",
            "1.7976931348623157e+308\n",
            "2.220446049250313e-16\n"
          ]
        }
      ],
      "source": [
        "for dtype in [np.int8, np.int32, np.int64]:\n",
        "   print(np.iinfo(dtype).min)\n",
        "   print(np.iinfo(dtype).max)\n",
        "for dtype in [np.float32, np.float64]:\n",
        "   print(np.finfo(dtype).min)\n",
        "   print(np.finfo(dtype).max)\n",
        "   print(np.finfo(dtype).eps)"
      ]
    },
    {
      "cell_type": "markdown",
      "metadata": {
        "id": "RKWsi2DHy2TN"
      },
      "source": [
        "#### 49. How to print all the values of an array? (★★☆) \n",
        "(**hint**: np.set\\_printoptions)"
      ]
    },
    {
      "cell_type": "code",
      "execution_count": null,
      "metadata": {
        "id": "LTdwLDIGy2TO",
        "colab": {
          "base_uri": "https://localhost:8080/"
        },
        "outputId": "e6e80180-8804-4358-db9c-72f69797b34f"
      },
      "outputs": [
        {
          "output_type": "stream",
          "name": "stdout",
          "text": [
            "[[0. 0. 0. 0. 0. 0. 0. 0. 0. 0. 0. 0. 0. 0. 0. 0. 0. 0. 0. 0. 0. 0. 0. 0.\n",
            "  0. 0. 0. 0. 0. 0. 0. 0. 0. 0. 0. 0. 0. 0. 0. 0.]\n",
            " [0. 0. 0. 0. 0. 0. 0. 0. 0. 0. 0. 0. 0. 0. 0. 0. 0. 0. 0. 0. 0. 0. 0. 0.\n",
            "  0. 0. 0. 0. 0. 0. 0. 0. 0. 0. 0. 0. 0. 0. 0. 0.]\n",
            " [0. 0. 0. 0. 0. 0. 0. 0. 0. 0. 0. 0. 0. 0. 0. 0. 0. 0. 0. 0. 0. 0. 0. 0.\n",
            "  0. 0. 0. 0. 0. 0. 0. 0. 0. 0. 0. 0. 0. 0. 0. 0.]\n",
            " [0. 0. 0. 0. 0. 0. 0. 0. 0. 0. 0. 0. 0. 0. 0. 0. 0. 0. 0. 0. 0. 0. 0. 0.\n",
            "  0. 0. 0. 0. 0. 0. 0. 0. 0. 0. 0. 0. 0. 0. 0. 0.]\n",
            " [0. 0. 0. 0. 0. 0. 0. 0. 0. 0. 0. 0. 0. 0. 0. 0. 0. 0. 0. 0. 0. 0. 0. 0.\n",
            "  0. 0. 0. 0. 0. 0. 0. 0. 0. 0. 0. 0. 0. 0. 0. 0.]\n",
            " [0. 0. 0. 0. 0. 0. 0. 0. 0. 0. 0. 0. 0. 0. 0. 0. 0. 0. 0. 0. 0. 0. 0. 0.\n",
            "  0. 0. 0. 0. 0. 0. 0. 0. 0. 0. 0. 0. 0. 0. 0. 0.]\n",
            " [0. 0. 0. 0. 0. 0. 0. 0. 0. 0. 0. 0. 0. 0. 0. 0. 0. 0. 0. 0. 0. 0. 0. 0.\n",
            "  0. 0. 0. 0. 0. 0. 0. 0. 0. 0. 0. 0. 0. 0. 0. 0.]\n",
            " [0. 0. 0. 0. 0. 0. 0. 0. 0. 0. 0. 0. 0. 0. 0. 0. 0. 0. 0. 0. 0. 0. 0. 0.\n",
            "  0. 0. 0. 0. 0. 0. 0. 0. 0. 0. 0. 0. 0. 0. 0. 0.]\n",
            " [0. 0. 0. 0. 0. 0. 0. 0. 0. 0. 0. 0. 0. 0. 0. 0. 0. 0. 0. 0. 0. 0. 0. 0.\n",
            "  0. 0. 0. 0. 0. 0. 0. 0. 0. 0. 0. 0. 0. 0. 0. 0.]\n",
            " [0. 0. 0. 0. 0. 0. 0. 0. 0. 0. 0. 0. 0. 0. 0. 0. 0. 0. 0. 0. 0. 0. 0. 0.\n",
            "  0. 0. 0. 0. 0. 0. 0. 0. 0. 0. 0. 0. 0. 0. 0. 0.]\n",
            " [0. 0. 0. 0. 0. 0. 0. 0. 0. 0. 0. 0. 0. 0. 0. 0. 0. 0. 0. 0. 0. 0. 0. 0.\n",
            "  0. 0. 0. 0. 0. 0. 0. 0. 0. 0. 0. 0. 0. 0. 0. 0.]\n",
            " [0. 0. 0. 0. 0. 0. 0. 0. 0. 0. 0. 0. 0. 0. 0. 0. 0. 0. 0. 0. 0. 0. 0. 0.\n",
            "  0. 0. 0. 0. 0. 0. 0. 0. 0. 0. 0. 0. 0. 0. 0. 0.]\n",
            " [0. 0. 0. 0. 0. 0. 0. 0. 0. 0. 0. 0. 0. 0. 0. 0. 0. 0. 0. 0. 0. 0. 0. 0.\n",
            "  0. 0. 0. 0. 0. 0. 0. 0. 0. 0. 0. 0. 0. 0. 0. 0.]\n",
            " [0. 0. 0. 0. 0. 0. 0. 0. 0. 0. 0. 0. 0. 0. 0. 0. 0. 0. 0. 0. 0. 0. 0. 0.\n",
            "  0. 0. 0. 0. 0. 0. 0. 0. 0. 0. 0. 0. 0. 0. 0. 0.]\n",
            " [0. 0. 0. 0. 0. 0. 0. 0. 0. 0. 0. 0. 0. 0. 0. 0. 0. 0. 0. 0. 0. 0. 0. 0.\n",
            "  0. 0. 0. 0. 0. 0. 0. 0. 0. 0. 0. 0. 0. 0. 0. 0.]\n",
            " [0. 0. 0. 0. 0. 0. 0. 0. 0. 0. 0. 0. 0. 0. 0. 0. 0. 0. 0. 0. 0. 0. 0. 0.\n",
            "  0. 0. 0. 0. 0. 0. 0. 0. 0. 0. 0. 0. 0. 0. 0. 0.]\n",
            " [0. 0. 0. 0. 0. 0. 0. 0. 0. 0. 0. 0. 0. 0. 0. 0. 0. 0. 0. 0. 0. 0. 0. 0.\n",
            "  0. 0. 0. 0. 0. 0. 0. 0. 0. 0. 0. 0. 0. 0. 0. 0.]\n",
            " [0. 0. 0. 0. 0. 0. 0. 0. 0. 0. 0. 0. 0. 0. 0. 0. 0. 0. 0. 0. 0. 0. 0. 0.\n",
            "  0. 0. 0. 0. 0. 0. 0. 0. 0. 0. 0. 0. 0. 0. 0. 0.]\n",
            " [0. 0. 0. 0. 0. 0. 0. 0. 0. 0. 0. 0. 0. 0. 0. 0. 0. 0. 0. 0. 0. 0. 0. 0.\n",
            "  0. 0. 0. 0. 0. 0. 0. 0. 0. 0. 0. 0. 0. 0. 0. 0.]\n",
            " [0. 0. 0. 0. 0. 0. 0. 0. 0. 0. 0. 0. 0. 0. 0. 0. 0. 0. 0. 0. 0. 0. 0. 0.\n",
            "  0. 0. 0. 0. 0. 0. 0. 0. 0. 0. 0. 0. 0. 0. 0. 0.]\n",
            " [0. 0. 0. 0. 0. 0. 0. 0. 0. 0. 0. 0. 0. 0. 0. 0. 0. 0. 0. 0. 0. 0. 0. 0.\n",
            "  0. 0. 0. 0. 0. 0. 0. 0. 0. 0. 0. 0. 0. 0. 0. 0.]\n",
            " [0. 0. 0. 0. 0. 0. 0. 0. 0. 0. 0. 0. 0. 0. 0. 0. 0. 0. 0. 0. 0. 0. 0. 0.\n",
            "  0. 0. 0. 0. 0. 0. 0. 0. 0. 0. 0. 0. 0. 0. 0. 0.]\n",
            " [0. 0. 0. 0. 0. 0. 0. 0. 0. 0. 0. 0. 0. 0. 0. 0. 0. 0. 0. 0. 0. 0. 0. 0.\n",
            "  0. 0. 0. 0. 0. 0. 0. 0. 0. 0. 0. 0. 0. 0. 0. 0.]\n",
            " [0. 0. 0. 0. 0. 0. 0. 0. 0. 0. 0. 0. 0. 0. 0. 0. 0. 0. 0. 0. 0. 0. 0. 0.\n",
            "  0. 0. 0. 0. 0. 0. 0. 0. 0. 0. 0. 0. 0. 0. 0. 0.]\n",
            " [0. 0. 0. 0. 0. 0. 0. 0. 0. 0. 0. 0. 0. 0. 0. 0. 0. 0. 0. 0. 0. 0. 0. 0.\n",
            "  0. 0. 0. 0. 0. 0. 0. 0. 0. 0. 0. 0. 0. 0. 0. 0.]\n",
            " [0. 0. 0. 0. 0. 0. 0. 0. 0. 0. 0. 0. 0. 0. 0. 0. 0. 0. 0. 0. 0. 0. 0. 0.\n",
            "  0. 0. 0. 0. 0. 0. 0. 0. 0. 0. 0. 0. 0. 0. 0. 0.]\n",
            " [0. 0. 0. 0. 0. 0. 0. 0. 0. 0. 0. 0. 0. 0. 0. 0. 0. 0. 0. 0. 0. 0. 0. 0.\n",
            "  0. 0. 0. 0. 0. 0. 0. 0. 0. 0. 0. 0. 0. 0. 0. 0.]\n",
            " [0. 0. 0. 0. 0. 0. 0. 0. 0. 0. 0. 0. 0. 0. 0. 0. 0. 0. 0. 0. 0. 0. 0. 0.\n",
            "  0. 0. 0. 0. 0. 0. 0. 0. 0. 0. 0. 0. 0. 0. 0. 0.]\n",
            " [0. 0. 0. 0. 0. 0. 0. 0. 0. 0. 0. 0. 0. 0. 0. 0. 0. 0. 0. 0. 0. 0. 0. 0.\n",
            "  0. 0. 0. 0. 0. 0. 0. 0. 0. 0. 0. 0. 0. 0. 0. 0.]\n",
            " [0. 0. 0. 0. 0. 0. 0. 0. 0. 0. 0. 0. 0. 0. 0. 0. 0. 0. 0. 0. 0. 0. 0. 0.\n",
            "  0. 0. 0. 0. 0. 0. 0. 0. 0. 0. 0. 0. 0. 0. 0. 0.]\n",
            " [0. 0. 0. 0. 0. 0. 0. 0. 0. 0. 0. 0. 0. 0. 0. 0. 0. 0. 0. 0. 0. 0. 0. 0.\n",
            "  0. 0. 0. 0. 0. 0. 0. 0. 0. 0. 0. 0. 0. 0. 0. 0.]\n",
            " [0. 0. 0. 0. 0. 0. 0. 0. 0. 0. 0. 0. 0. 0. 0. 0. 0. 0. 0. 0. 0. 0. 0. 0.\n",
            "  0. 0. 0. 0. 0. 0. 0. 0. 0. 0. 0. 0. 0. 0. 0. 0.]\n",
            " [0. 0. 0. 0. 0. 0. 0. 0. 0. 0. 0. 0. 0. 0. 0. 0. 0. 0. 0. 0. 0. 0. 0. 0.\n",
            "  0. 0. 0. 0. 0. 0. 0. 0. 0. 0. 0. 0. 0. 0. 0. 0.]\n",
            " [0. 0. 0. 0. 0. 0. 0. 0. 0. 0. 0. 0. 0. 0. 0. 0. 0. 0. 0. 0. 0. 0. 0. 0.\n",
            "  0. 0. 0. 0. 0. 0. 0. 0. 0. 0. 0. 0. 0. 0. 0. 0.]\n",
            " [0. 0. 0. 0. 0. 0. 0. 0. 0. 0. 0. 0. 0. 0. 0. 0. 0. 0. 0. 0. 0. 0. 0. 0.\n",
            "  0. 0. 0. 0. 0. 0. 0. 0. 0. 0. 0. 0. 0. 0. 0. 0.]\n",
            " [0. 0. 0. 0. 0. 0. 0. 0. 0. 0. 0. 0. 0. 0. 0. 0. 0. 0. 0. 0. 0. 0. 0. 0.\n",
            "  0. 0. 0. 0. 0. 0. 0. 0. 0. 0. 0. 0. 0. 0. 0. 0.]\n",
            " [0. 0. 0. 0. 0. 0. 0. 0. 0. 0. 0. 0. 0. 0. 0. 0. 0. 0. 0. 0. 0. 0. 0. 0.\n",
            "  0. 0. 0. 0. 0. 0. 0. 0. 0. 0. 0. 0. 0. 0. 0. 0.]\n",
            " [0. 0. 0. 0. 0. 0. 0. 0. 0. 0. 0. 0. 0. 0. 0. 0. 0. 0. 0. 0. 0. 0. 0. 0.\n",
            "  0. 0. 0. 0. 0. 0. 0. 0. 0. 0. 0. 0. 0. 0. 0. 0.]\n",
            " [0. 0. 0. 0. 0. 0. 0. 0. 0. 0. 0. 0. 0. 0. 0. 0. 0. 0. 0. 0. 0. 0. 0. 0.\n",
            "  0. 0. 0. 0. 0. 0. 0. 0. 0. 0. 0. 0. 0. 0. 0. 0.]\n",
            " [0. 0. 0. 0. 0. 0. 0. 0. 0. 0. 0. 0. 0. 0. 0. 0. 0. 0. 0. 0. 0. 0. 0. 0.\n",
            "  0. 0. 0. 0. 0. 0. 0. 0. 0. 0. 0. 0. 0. 0. 0. 0.]]\n"
          ]
        }
      ],
      "source": [
        "np.set_printoptions(threshold=float(\"inf\"))\n",
        "x = np.zeros((40,40))\n",
        "print(x)"
      ]
    },
    {
      "cell_type": "markdown",
      "metadata": {
        "id": "lG_d8q-Ky2TO"
      },
      "source": [
        "#### 50. How to find the closest value (to a given scalar) in a vector? (★★☆) \n",
        "(**hint**: argmin)"
      ]
    },
    {
      "cell_type": "code",
      "execution_count": null,
      "metadata": {
        "id": "B7-b5r8ay2TO",
        "colab": {
          "base_uri": "https://localhost:8080/"
        },
        "outputId": "69311023-82b8-4edd-fcf8-b9bf454d8785"
      },
      "outputs": [
        {
          "output_type": "stream",
          "name": "stdout",
          "text": [
            "11\n"
          ]
        }
      ],
      "source": [
        "x = np.arange(100)\n",
        "v = np.random.uniform(0,100)\n",
        "index = (np.abs(x-v)).argmin()\n",
        "print(x[index])"
      ]
    },
    {
      "cell_type": "markdown",
      "metadata": {
        "id": "KKVt61W4y2TO"
      },
      "source": [
        "#### 51. Create a structured array representing a position (x,y) and a color (r,g,b) (★★☆) \n",
        "(**hint**: dtype)"
      ]
    },
    {
      "cell_type": "code",
      "execution_count": null,
      "metadata": {
        "id": "isQIdYG-y2TO",
        "colab": {
          "base_uri": "https://localhost:8080/"
        },
        "outputId": "7984cdc1-bd99-46b2-d84c-14f16d5ae34f"
      },
      "outputs": [
        {
          "output_type": "stream",
          "name": "stdout",
          "text": [
            "[((0., 0.), (0., 0., 0.)) ((0., 0.), (0., 0., 0.))\n",
            " ((0., 0.), (0., 0., 0.)) ((0., 0.), (0., 0., 0.))\n",
            " ((0., 0.), (0., 0., 0.)) ((0., 0.), (0., 0., 0.))\n",
            " ((0., 0.), (0., 0., 0.)) ((0., 0.), (0., 0., 0.))\n",
            " ((0., 0.), (0., 0., 0.)) ((0., 0.), (0., 0., 0.))]\n"
          ]
        }
      ],
      "source": [
        "Z = np.zeros(10, [ ('position', [ ('x', float),\n",
        "                                  ('y', float)]),\n",
        "                   ('color',    [ ('r', float),\n",
        "                                  ('g', float),\n",
        "                                  ('b', float)])])\n",
        "print(Z)"
      ]
    },
    {
      "cell_type": "markdown",
      "metadata": {
        "id": "NISnqPpKy2TO"
      },
      "source": [
        "#### 52. Consider a random vector with shape (100,2) representing coordinates, find point by point distances (★★☆) \n",
        "(**hint**: np.atleast\\_2d, T, np.sqrt)"
      ]
    },
    {
      "cell_type": "code",
      "execution_count": null,
      "metadata": {
        "id": "7k93cXKey2TP",
        "colab": {
          "base_uri": "https://localhost:8080/"
        },
        "outputId": "bf8f01c5-035f-4907-b90c-6d5b952e1349"
      },
      "outputs": [
        {
          "output_type": "stream",
          "name": "stdout",
          "text": [
            "[[0.         0.81543363 0.42781388 1.04105098 0.70113906 0.57787249\n",
            "  0.32424337 0.71159479 0.90860815 0.67841624]\n",
            " [0.81543363 0.         0.97229596 0.32874908 0.13077224 0.89430564\n",
            "  0.63971423 0.9025173  0.30354172 0.49393244]\n",
            " [0.42781388 0.97229596 0.         1.07703818 0.89886325 0.23019559\n",
            "  0.33729236 0.37658905 0.92537116 0.60020692]\n",
            " [1.04105098 0.32874908 1.07703818 0.         0.44857932 0.93246588\n",
            "  0.78534954 0.8872601  0.15212313 0.48693179]\n",
            " [0.70113906 0.13077224 0.89886325 0.44857932 0.         0.84938929\n",
            "  0.56167463 0.87864649 0.39299483 0.49510205]\n",
            " [0.57787249 0.89430564 0.23019559 0.93246588 0.84938929 0.\n",
            "  0.3424795  0.14818807 0.78138561 0.4459174 ]\n",
            " [0.32424337 0.63971423 0.33729236 0.78534954 0.56167463 0.3424795\n",
            "  0.         0.44011634 0.63935472 0.36306007]\n",
            " [0.71159479 0.9025173  0.37658905 0.8872601  0.87864649 0.14818807\n",
            "  0.44011634 0.         0.74140033 0.41791206]\n",
            " [0.90860815 0.30354172 0.92537116 0.15212313 0.39299483 0.78138561\n",
            "  0.63935472 0.74140033 0.         0.33551146]\n",
            " [0.67841624 0.49393244 0.60020692 0.48693179 0.49510205 0.4459174\n",
            "  0.36306007 0.41791206 0.33551146 0.        ]]\n"
          ]
        }
      ],
      "source": [
        "x = np.random.random((10,2))\n",
        "#print(x)\n",
        "i,j = np.atleast_2d(x[:,0], x[:,1])\n",
        "D = np.sqrt( (i-i.T)**2 + (j-j.T)**2)\n",
        "print(D)"
      ]
    },
    {
      "cell_type": "markdown",
      "metadata": {
        "id": "AwVFTE3xy2TP"
      },
      "source": [
        "#### 53. How to convert a float (32 bits) array into an integer (32 bits) in place? \n",
        "(**hint**: astype(copy=False))"
      ]
    },
    {
      "cell_type": "code",
      "execution_count": null,
      "metadata": {
        "id": "ypBMBvKwy2TP",
        "colab": {
          "base_uri": "https://localhost:8080/"
        },
        "outputId": "d15ef9c6-f5ac-4eeb-ab5e-2145c7a7e935"
      },
      "outputs": [
        {
          "output_type": "stream",
          "name": "stdout",
          "text": [
            "[17 21 35 93  7 60 12 63 37 88]\n"
          ]
        }
      ],
      "source": [
        "x = (np.random.rand(10)*100).astype(np.float32)\n",
        "y = x.view(np.int32)\n",
        "y[:] = x\n",
        "print(y)"
      ]
    },
    {
      "cell_type": "markdown",
      "metadata": {
        "id": "V-n_NUJ5y2TP"
      },
      "source": [
        "#### 54. How to read the following file? (★★☆) \n",
        "(**hint**: np.genfromtxt)"
      ]
    },
    {
      "cell_type": "markdown",
      "metadata": {
        "id": "lgCKQPsIy2TP"
      },
      "source": [
        "```\n",
        "1, 2, 3, 4, 5\n",
        "6,  ,  , 7, 8\n",
        " ,  , 9,10,11\n",
        "```"
      ]
    },
    {
      "cell_type": "code",
      "execution_count": null,
      "metadata": {
        "id": "hgDAKOTiy2TP",
        "colab": {
          "base_uri": "https://localhost:8080/"
        },
        "outputId": "cad6e182-88f3-46f8-b8aa-350a6f647229"
      },
      "outputs": [
        {
          "output_type": "stream",
          "name": "stdout",
          "text": [
            "[[ 1  2  3  4  5]\n",
            " [ 6 -1 -1  7  8]\n",
            " [-1 -1  9 10 11]]\n"
          ]
        }
      ],
      "source": [
        "from io import StringIO\n",
        "\n",
        "# Fake file\n",
        "s = StringIO('''1, 2, 3, 4, 5\n",
        "                6,  ,  , 7, 8\n",
        "                 ,  , 9,10,11\n",
        "''')\n",
        "f = np.genfromtxt(s, delimiter=\",\", dtype=int)\n",
        "print(f)"
      ]
    },
    {
      "cell_type": "markdown",
      "metadata": {
        "id": "tZjLwaZ8y2TP"
      },
      "source": [
        "#### 55. What is the equivalent of enumerate for numpy arrays? (★★☆) \n",
        "(**hint**: np.ndenumerate, np.ndindex)"
      ]
    },
    {
      "cell_type": "code",
      "execution_count": null,
      "metadata": {
        "id": "NUOuxvyvy2TP",
        "colab": {
          "base_uri": "https://localhost:8080/"
        },
        "outputId": "f6eb696c-09e2-4aa9-97cc-4bf252913e13"
      },
      "outputs": [
        {
          "output_type": "stream",
          "name": "stdout",
          "text": [
            "(0, 0) 0\n",
            "(0, 1) 1\n",
            "(0, 2) 2\n",
            "(1, 0) 3\n",
            "(1, 1) 4\n",
            "(1, 2) 5\n",
            "(2, 0) 6\n",
            "(2, 1) 7\n",
            "(2, 2) 8\n",
            "(0, 0) 0\n",
            "(0, 1) 1\n",
            "(0, 2) 2\n",
            "(1, 0) 3\n",
            "(1, 1) 4\n",
            "(1, 2) 5\n",
            "(2, 0) 6\n",
            "(2, 1) 7\n",
            "(2, 2) 8\n"
          ]
        }
      ],
      "source": [
        "Z = np.arange(9).reshape(3,3)\n",
        "for index, value in np.ndenumerate(Z):\n",
        "    print(index, value)\n",
        "for index in np.ndindex(Z.shape):\n",
        "    print(index, Z[index])"
      ]
    },
    {
      "cell_type": "markdown",
      "metadata": {
        "id": "5XMQgFtky2TP"
      },
      "source": [
        "#### 56. Generate a generic 2D Gaussian-like array (★★☆) \n",
        "(**hint**: np.meshgrid, np.exp)"
      ]
    },
    {
      "cell_type": "code",
      "execution_count": null,
      "metadata": {
        "id": "pb9-0nGgy2TQ",
        "colab": {
          "base_uri": "https://localhost:8080/"
        },
        "outputId": "e78dc308-9e18-40d2-dbf1-52d731f01875"
      },
      "outputs": [
        {
          "output_type": "stream",
          "name": "stdout",
          "text": [
            "[[0.36787944 0.44822088 0.51979489 0.57375342 0.60279818 0.60279818\n",
            "  0.57375342 0.51979489 0.44822088 0.36787944]\n",
            " [0.44822088 0.54610814 0.63331324 0.69905581 0.73444367 0.73444367\n",
            "  0.69905581 0.63331324 0.54610814 0.44822088]\n",
            " [0.51979489 0.63331324 0.73444367 0.81068432 0.85172308 0.85172308\n",
            "  0.81068432 0.73444367 0.63331324 0.51979489]\n",
            " [0.57375342 0.69905581 0.81068432 0.89483932 0.9401382  0.9401382\n",
            "  0.89483932 0.81068432 0.69905581 0.57375342]\n",
            " [0.60279818 0.73444367 0.85172308 0.9401382  0.98773022 0.98773022\n",
            "  0.9401382  0.85172308 0.73444367 0.60279818]\n",
            " [0.60279818 0.73444367 0.85172308 0.9401382  0.98773022 0.98773022\n",
            "  0.9401382  0.85172308 0.73444367 0.60279818]\n",
            " [0.57375342 0.69905581 0.81068432 0.89483932 0.9401382  0.9401382\n",
            "  0.89483932 0.81068432 0.69905581 0.57375342]\n",
            " [0.51979489 0.63331324 0.73444367 0.81068432 0.85172308 0.85172308\n",
            "  0.81068432 0.73444367 0.63331324 0.51979489]\n",
            " [0.44822088 0.54610814 0.63331324 0.69905581 0.73444367 0.73444367\n",
            "  0.69905581 0.63331324 0.54610814 0.44822088]\n",
            " [0.36787944 0.44822088 0.51979489 0.57375342 0.60279818 0.60279818\n",
            "  0.57375342 0.51979489 0.44822088 0.36787944]]\n"
          ]
        }
      ],
      "source": [
        "x,y = np.meshgrid(np.linspace(-1,1,10), np.linspace(-1,1,10))\n",
        "D = np.sqrt(x*x + y*y)\n",
        "sigma, mu = 1.0, 0.0\n",
        "G = np.exp(-( (D-mu)**2 / ( 2.0 * sigma**2 ) ) )\n",
        "print(G)"
      ]
    },
    {
      "cell_type": "markdown",
      "metadata": {
        "id": "RoS0Grepy2TQ"
      },
      "source": [
        "#### 57. How to randomly place p elements in a 2D array? (★★☆) \n",
        "(**hint**: np.put, np.random.choice)"
      ]
    },
    {
      "cell_type": "code",
      "execution_count": null,
      "metadata": {
        "id": "S2sRzKiVy2TQ",
        "colab": {
          "base_uri": "https://localhost:8080/"
        },
        "outputId": "aa2cb0a5-92c4-4fdb-ff3c-063056d2015e"
      },
      "outputs": [
        {
          "output_type": "stream",
          "name": "stdout",
          "text": [
            "[[0. 0. 0. 0. 0. 0. 0. 0. 0. 0.]\n",
            " [0. 0. 0. 0. 0. 0. 0. 0. 0. 0.]\n",
            " [0. 1. 0. 0. 0. 0. 0. 0. 0. 0.]\n",
            " [0. 0. 0. 0. 0. 0. 0. 0. 0. 0.]\n",
            " [0. 0. 0. 0. 0. 0. 0. 0. 0. 0.]\n",
            " [0. 0. 0. 0. 0. 0. 0. 0. 0. 0.]\n",
            " [0. 0. 0. 0. 0. 0. 0. 0. 0. 0.]\n",
            " [0. 0. 0. 0. 0. 0. 0. 0. 0. 0.]\n",
            " [0. 1. 0. 0. 0. 0. 0. 1. 0. 0.]\n",
            " [0. 0. 0. 0. 0. 0. 0. 0. 0. 0.]]\n"
          ]
        }
      ],
      "source": [
        "n = 10\n",
        "p = 3\n",
        "Z = np.zeros((n,n))\n",
        "np.put(Z, np.random.choice(range(n*n), p, replace=False),1)\n",
        "print(Z)"
      ]
    },
    {
      "cell_type": "markdown",
      "metadata": {
        "id": "vgMytLFBy2TQ"
      },
      "source": [
        "#### 58. Subtract the mean of each row of a matrix (★★☆) \n",
        "(**hint**: mean(axis=,keepdims=))"
      ]
    },
    {
      "cell_type": "code",
      "execution_count": null,
      "metadata": {
        "id": "5TPEQ5ycy2TQ",
        "colab": {
          "base_uri": "https://localhost:8080/"
        },
        "outputId": "4bab2bec-ddf0-4cf0-87c1-8731ba2345a6"
      },
      "outputs": [
        {
          "output_type": "stream",
          "name": "stdout",
          "text": [
            "[[-0.29018786  0.12352954 -0.29631135  0.42001683  0.00340793  0.14475507\n",
            "   0.50448203 -0.28176418 -0.04732796 -0.28060007]\n",
            " [-0.09242434 -0.03112762 -0.12202113 -0.27307577 -0.36296632  0.37858587\n",
            "   0.12681641  0.30932266 -0.24170208  0.30859232]\n",
            " [-0.25140279  0.15242626 -0.17808241 -0.11692483  0.07060941  0.27232132\n",
            "  -0.30020652  0.14384817 -0.11735971  0.3247711 ]\n",
            " [ 0.19689912  0.33643822 -0.2862382  -0.32750313  0.41975301 -0.01063328\n",
            "  -0.37481258  0.12838055  0.17349607 -0.25577977]\n",
            " [ 0.11036912  0.25433703  0.39068999 -0.08312307  0.04317853 -0.23452545\n",
            "   0.45238657 -0.22713505 -0.44365204 -0.26252563]]\n"
          ]
        }
      ],
      "source": [
        "x = np.random.rand(5, 10)\n",
        "\n",
        "y = x - x.mean(axis=1, keepdims=True)\n",
        "\n",
        "print(y)"
      ]
    },
    {
      "cell_type": "markdown",
      "metadata": {
        "id": "Tcnv1gb8y2TQ"
      },
      "source": [
        "#### 59. How to sort an array by the nth column? (★★☆) \n",
        "(**hint**: argsort)"
      ]
    },
    {
      "cell_type": "code",
      "execution_count": null,
      "metadata": {
        "id": "mG8pgTBry2TQ",
        "colab": {
          "base_uri": "https://localhost:8080/"
        },
        "outputId": "8dcca0af-e131-49c3-91c7-6285f6aad405"
      },
      "outputs": [
        {
          "output_type": "stream",
          "name": "stdout",
          "text": [
            "[[9 2 2]\n",
            " [3 7 4]\n",
            " [8 3 9]]\n",
            "[[9 2 2]\n",
            " [8 3 9]\n",
            " [3 7 4]]\n"
          ]
        }
      ],
      "source": [
        "Z = np.random.randint(0,10,(3,3))\n",
        "print(Z)\n",
        "print(Z[Z[:,1].argsort()])\n"
      ]
    },
    {
      "cell_type": "markdown",
      "metadata": {
        "id": "UWSQxwWTy2TQ"
      },
      "source": [
        "#### 60. How to tell if a given 2D array has null columns? (★★☆) \n",
        "(**hint**: any, ~)"
      ]
    },
    {
      "cell_type": "code",
      "execution_count": null,
      "metadata": {
        "id": "sg00Oq3Ty2TR",
        "colab": {
          "base_uri": "https://localhost:8080/"
        },
        "outputId": "88929b41-d717-48f9-95d6-dc199d5cd114"
      },
      "outputs": [
        {
          "output_type": "stream",
          "name": "stdout",
          "text": [
            "False\n"
          ]
        }
      ],
      "source": [
        "Z = np.random.randint(0,3,(3,10))\n",
        "print((~Z.any(axis=0)).any())"
      ]
    },
    {
      "cell_type": "markdown",
      "metadata": {
        "id": "n1BBxNQGy2TR"
      },
      "source": [
        "#### 61. Find the nearest value from a given value in an array (★★☆) \n",
        "(**hint**: np.abs, argmin, flat)"
      ]
    },
    {
      "cell_type": "code",
      "execution_count": null,
      "metadata": {
        "id": "2F6xJ3tMy2TR",
        "colab": {
          "base_uri": "https://localhost:8080/"
        },
        "outputId": "c217aef9-e1b7-4d38-8b7f-b773578f577b"
      },
      "outputs": [
        {
          "output_type": "stream",
          "name": "stdout",
          "text": [
            "0.4429125255403874\n"
          ]
        }
      ],
      "source": [
        "Z = np.random.uniform(0,1,10)\n",
        "z = 0.5\n",
        "m = Z.flat[np.abs(Z - z).argmin()]\n",
        "print(m)"
      ]
    },
    {
      "cell_type": "markdown",
      "metadata": {
        "id": "YYt5X5Jgy2TR"
      },
      "source": [
        "#### 62. Considering two arrays with shape (1,3) and (3,1), how to compute their sum using an iterator? (★★☆) \n",
        "(**hint**: np.nditer)"
      ]
    },
    {
      "cell_type": "code",
      "execution_count": null,
      "metadata": {
        "id": "bzpCZzNqy2TR",
        "colab": {
          "base_uri": "https://localhost:8080/"
        },
        "outputId": "987751bd-f593-4794-bc59-61dc8db26833"
      },
      "outputs": [
        {
          "output_type": "stream",
          "name": "stdout",
          "text": [
            "[[0]\n",
            " [1]\n",
            " [2]]\n",
            "[[0 1 2]]\n",
            "[[0 1 2]\n",
            " [1 2 3]\n",
            " [2 3 4]]\n"
          ]
        }
      ],
      "source": [
        "x = np.arange(3).reshape(3,1)\n",
        "#print(x)\n",
        "y = np.arange(3).reshape(1,3)\n",
        "#print(y)\n",
        "\n",
        "it = np.nditer([x,y,None])\n",
        "for i,j,k in it: \n",
        "  k[...] = i + j\n",
        "print(it.operands[2])"
      ]
    },
    {
      "cell_type": "markdown",
      "metadata": {
        "id": "zoOrA-aFy2TR"
      },
      "source": [
        "#### 63. Create an array class that has a name attribute (★★☆) \n",
        "(**hint**: class method)"
      ]
    },
    {
      "cell_type": "code",
      "execution_count": null,
      "metadata": {
        "id": "S2Bg_SrEy2TR",
        "colab": {
          "base_uri": "https://localhost:8080/"
        },
        "outputId": "0a44eb0f-a2bf-41c9-ddde-bf072e79e124"
      },
      "outputs": [
        {
          "output_type": "stream",
          "name": "stdout",
          "text": [
            "range_10\n"
          ]
        }
      ],
      "source": [
        "class NamedArray(np.ndarray):\n",
        "    def __new__(cls, array, name=\"no name\"):\n",
        "        obj = np.asarray(array).view(cls)\n",
        "        obj.name = name\n",
        "        return obj\n",
        "    def __array_finalize__(self, obj):\n",
        "        if obj is None: return\n",
        "        self.info = getattr(obj, 'name', \"no name\")\n",
        "\n",
        "Z = NamedArray(np.arange(10), \"range_10\")\n",
        "print (Z.name)"
      ]
    },
    {
      "cell_type": "markdown",
      "metadata": {
        "id": "QqX71VjVy2TR"
      },
      "source": [
        "#### 64. Consider a given vector, how to add 1 to each element indexed by a second vector (be careful with repeated indices)? (★★★) \n",
        "(**hint**: np.bincount | np.add.at)"
      ]
    },
    {
      "cell_type": "code",
      "execution_count": null,
      "metadata": {
        "id": "njN4YrsMy2TR",
        "colab": {
          "base_uri": "https://localhost:8080/"
        },
        "outputId": "88676ea6-82a8-4de3-d0d7-17772cd47896"
      },
      "outputs": [
        {
          "output_type": "stream",
          "name": "stdout",
          "text": [
            "[3. 2. 2. 3. 7. 3. 1. 3. 2. 4.]\n",
            "[4. 3. 1. 6. 1. 1. 3. 7. 2. 2.]\n"
          ]
        }
      ],
      "source": [
        "z = np.ones(10)\n",
        "y = np.random.randint(0,len(z),20)\n",
        "z += np.bincount(y, minlength=len(z))\n",
        "print(z)\n",
        "\n",
        "x = np.ones(10)\n",
        "i = np.random.randint(0,len(x),20)\n",
        "np.add.at(x, i, 1)\n",
        "print(x)"
      ]
    },
    {
      "cell_type": "markdown",
      "metadata": {
        "id": "WiPlRQafy2TS"
      },
      "source": [
        "#### 65. How to accumulate elements of a vector (X) to an array (F) based on an index list (I)? (★★★) \n",
        "(**hint**: np.bincount)"
      ]
    },
    {
      "cell_type": "code",
      "execution_count": null,
      "metadata": {
        "id": "WZQojxAEy2TS",
        "colab": {
          "base_uri": "https://localhost:8080/"
        },
        "outputId": "c99d0f72-94a9-4264-c8bc-f47fd342f658"
      },
      "outputs": [
        {
          "output_type": "stream",
          "name": "stdout",
          "text": [
            "[0. 7. 0. 6. 5. 0. 0. 0. 0. 3.]\n"
          ]
        }
      ],
      "source": [
        "X = [1,2,3,4,5,6]\n",
        "I = [1,3,9,3,4,1]\n",
        "F = np.bincount(I,X)\n",
        "print(F)"
      ]
    },
    {
      "cell_type": "markdown",
      "metadata": {
        "id": "23NNYkGdy2TS"
      },
      "source": [
        "#### 66. Considering a (w,h,3) image of (dtype=ubyte), compute the number of unique colors (★★★) \n",
        "(**hint**: np.unique)"
      ]
    },
    {
      "cell_type": "code",
      "execution_count": null,
      "metadata": {
        "id": "wW7NVSmhy2TS",
        "colab": {
          "base_uri": "https://localhost:8080/"
        },
        "outputId": "31db85f5-b3be-4511-9106-bebec18ae446"
      },
      "outputs": [
        {
          "output_type": "stream",
          "name": "stdout",
          "text": [
            "64\n"
          ]
        }
      ],
      "source": [
        "w, h = 256, 256\n",
        "I = np.random.randint(0, 4, (h, w, 3)).astype(np.ubyte)\n",
        "colors = np.unique(I.reshape(-1, 3), axis=0)\n",
        "n = len(colors)\n",
        "print(n)"
      ]
    },
    {
      "cell_type": "markdown",
      "metadata": {
        "id": "QVBkrtPCy2TS"
      },
      "source": [
        "#### 67. Considering a four dimensions array, how to get sum over the last two axis at once? (★★★) \n",
        "(**hint**: sum(axis=(-2,-1)))"
      ]
    },
    {
      "cell_type": "code",
      "execution_count": null,
      "metadata": {
        "id": "N1RxtJxay2TS",
        "colab": {
          "base_uri": "https://localhost:8080/"
        },
        "outputId": "e619edf7-870d-4ac2-8da6-58daee3754fb"
      },
      "outputs": [
        {
          "output_type": "stream",
          "name": "stdout",
          "text": [
            "[[49 53 34 61]\n",
            " [59 38 43 65]\n",
            " [49 56 53 68]]\n"
          ]
        }
      ],
      "source": [
        "x = np.random.randint(0,10,(3,4,3,4))\n",
        "sum = x.sum(axis=(-2,-1))\n",
        "print(sum)"
      ]
    },
    {
      "cell_type": "markdown",
      "metadata": {
        "id": "Jpzm_qfZy2TS"
      },
      "source": [
        "#### 68. Considering a one-dimensional vector D, how to compute means of subsets of D using a vector S of same size describing subset  indices? (★★★) \n",
        "(**hint**: np.bincount)"
      ]
    },
    {
      "cell_type": "code",
      "execution_count": null,
      "metadata": {
        "id": "B0c5IEPSy2TS",
        "colab": {
          "base_uri": "https://localhost:8080/"
        },
        "outputId": "e4229ff5-9b0b-40b6-abcb-7caf03dde0e6"
      },
      "outputs": [
        {
          "output_type": "stream",
          "name": "stdout",
          "text": [
            "[0.40431498 0.5069399  0.41426765 0.37070833 0.40361595 0.60968587\n",
            " 0.40860719 0.48751549 0.65980799 0.45837835]\n"
          ]
        }
      ],
      "source": [
        "D = np.random.uniform(0,1,100)\n",
        "S = np.random.randint(0,10,100)\n",
        "D_sums = np.bincount(S, weights=D)\n",
        "D_counts = np.bincount(S)\n",
        "D_means = D_sums / D_counts\n",
        "print(D_means)"
      ]
    },
    {
      "cell_type": "markdown",
      "metadata": {
        "id": "dNnkj0yLy2TT"
      },
      "source": [
        "#### 69. How to get the diagonal of a dot product? (★★★) \n",
        "(**hint**: np.diag)"
      ]
    },
    {
      "cell_type": "code",
      "execution_count": null,
      "metadata": {
        "id": "2Ow395z-y2TT",
        "colab": {
          "base_uri": "https://localhost:8080/"
        },
        "outputId": "b64847c8-deb1-4e98-ba01-e942c1a5fc5a"
      },
      "outputs": [
        {
          "output_type": "execute_result",
          "data": {
            "text/plain": [
              "array([1.20194577, 0.78071675, 0.51072794, 0.63414434, 1.22709475])"
            ]
          },
          "metadata": {},
          "execution_count": 15
        }
      ],
      "source": [
        "A = np.random.uniform(0,1,(5,5))\n",
        "B = np.random.uniform(0,1,(5,5))\n",
        "\n",
        "np.diag(np.dot(A, B))\n"
      ]
    },
    {
      "cell_type": "markdown",
      "metadata": {
        "id": "a8tzR4gWy2TT"
      },
      "source": [
        "#### 70. Consider the vector \\[1, 2, 3, 4, 5\\], how to build a new vector with 3 consecutive zeros interleaved between each value? (★★★) \n",
        "(**hint**: array\\[::4\\])"
      ]
    },
    {
      "cell_type": "code",
      "execution_count": null,
      "metadata": {
        "id": "7zc_c0-Ky2TT",
        "colab": {
          "base_uri": "https://localhost:8080/"
        },
        "outputId": "b45526ba-336a-4e98-e7e2-d18a986a4036"
      },
      "outputs": [
        {
          "output_type": "stream",
          "name": "stdout",
          "text": [
            "[1. 0. 0. 0. 2. 0. 0. 0. 3. 0. 0. 0. 4. 0. 0. 0. 5.]\n"
          ]
        }
      ],
      "source": [
        "Z = np.array([1,2,3,4,5])\n",
        "nz = 3\n",
        "Z0 = np.zeros(len(Z) + (len(Z)-1)*(nz))\n",
        "Z0[::nz+1] = Z\n",
        "print(Z0)"
      ]
    },
    {
      "cell_type": "markdown",
      "metadata": {
        "id": "4_8C4Z91y2TT"
      },
      "source": [
        "#### 71. Consider an array of dimension (5,5,3), how to mulitply it by an array with dimensions (5,5)? (★★★) \n",
        "(**hint**: array\\[:, :, None\\])"
      ]
    },
    {
      "cell_type": "code",
      "execution_count": null,
      "metadata": {
        "collapsed": true,
        "id": "khsDQoJJy2TU",
        "colab": {
          "base_uri": "https://localhost:8080/"
        },
        "outputId": "76d49c00-6704-4d9a-ab22-995bd6a4e16f"
      },
      "outputs": [
        {
          "output_type": "stream",
          "name": "stdout",
          "text": [
            "[[[2. 2. 2.]\n",
            "  [2. 2. 2.]\n",
            "  [2. 2. 2.]\n",
            "  [2. 2. 2.]\n",
            "  [2. 2. 2.]]\n",
            "\n",
            " [[2. 2. 2.]\n",
            "  [2. 2. 2.]\n",
            "  [2. 2. 2.]\n",
            "  [2. 2. 2.]\n",
            "  [2. 2. 2.]]\n",
            "\n",
            " [[2. 2. 2.]\n",
            "  [2. 2. 2.]\n",
            "  [2. 2. 2.]\n",
            "  [2. 2. 2.]\n",
            "  [2. 2. 2.]]\n",
            "\n",
            " [[2. 2. 2.]\n",
            "  [2. 2. 2.]\n",
            "  [2. 2. 2.]\n",
            "  [2. 2. 2.]\n",
            "  [2. 2. 2.]]\n",
            "\n",
            " [[2. 2. 2.]\n",
            "  [2. 2. 2.]\n",
            "  [2. 2. 2.]\n",
            "  [2. 2. 2.]\n",
            "  [2. 2. 2.]]]\n"
          ]
        }
      ],
      "source": [
        "A = np.ones((5,5,3))\n",
        "B = 2*np.ones((5,5))\n",
        "print(A * B[:,:,None])"
      ]
    },
    {
      "cell_type": "markdown",
      "metadata": {
        "id": "c4murYbdy2TU"
      },
      "source": [
        "#### 72. How to swap two rows of an array? (★★★) \n",
        "(**hint**: array\\[\\[\\]\\] = array\\[\\[\\]\\])"
      ]
    },
    {
      "cell_type": "code",
      "execution_count": null,
      "metadata": {
        "id": "AwE31iImy2TU",
        "colab": {
          "base_uri": "https://localhost:8080/"
        },
        "outputId": "c1d71730-d83c-4b5a-ec0b-e1ab2dfab982"
      },
      "outputs": [
        {
          "output_type": "stream",
          "name": "stdout",
          "text": [
            "[[ 5  6  7  8  9]\n",
            " [ 0  1  2  3  4]\n",
            " [10 11 12 13 14]\n",
            " [15 16 17 18 19]\n",
            " [20 21 22 23 24]]\n"
          ]
        }
      ],
      "source": [
        "A = np.arange(25).reshape(5,5)\n",
        "A[[0,1]] = A[[1,0]]\n",
        "print(A)"
      ]
    },
    {
      "cell_type": "markdown",
      "metadata": {
        "id": "utzqeYbQy2TU"
      },
      "source": [
        "#### 73. Consider a set of 10 triplets describing 10 triangles (with shared vertices), find the set of unique line segments composing all the  triangles (★★★) \n",
        "(**hint**: repeat, np.roll, np.sort, view, np.unique)"
      ]
    },
    {
      "cell_type": "code",
      "execution_count": null,
      "metadata": {
        "id": "1FKvh1QEy2TU",
        "colab": {
          "base_uri": "https://localhost:8080/"
        },
        "outputId": "00c372a4-6e74-4c8e-c087-00daf92419e5"
      },
      "outputs": [
        {
          "output_type": "stream",
          "name": "stdout",
          "text": [
            "[( 7, 18) ( 7, 99) (15, 70) (15, 86) (17, 27) (17, 52) (17, 56) (17, 70)\n",
            " (18, 99) (21, 23) (21, 76) (23, 47) (23, 60) (23, 76) (27, 52) (30, 94)\n",
            " (30, 97) (41, 72) (41, 83) (47, 53) (47, 60) (47, 81) (53, 81) (56, 70)\n",
            " (70, 86) (72, 83) (79, 89) (79, 97) (89, 97) (94, 97)]\n"
          ]
        }
      ],
      "source": [
        "faces = np.random.randint(0,100,(10,3))\n",
        "f = np.roll(faces.repeat(2,axis=1),-1,axis=1)\n",
        "f = f.reshape(len(f)*3,2)\n",
        "f = np.sort(f,axis=1)\n",
        "g = f.view( dtype=[('p0',f.dtype),('p1',f.dtype)] )\n",
        "g = np.unique(g)\n",
        "print(g)"
      ]
    },
    {
      "cell_type": "markdown",
      "metadata": {
        "id": "bj6ApViKy2TV"
      },
      "source": [
        "#### 74. Given an array C that is a bincount, how to produce an array A such that np.bincount(A) == C? (★★★) \n",
        "(**hint**: np.repeat)"
      ]
    },
    {
      "cell_type": "code",
      "execution_count": null,
      "metadata": {
        "id": "JSyvbvhYy2TV",
        "colab": {
          "base_uri": "https://localhost:8080/"
        },
        "outputId": "8a2ff5ea-89e7-45a3-9679-c52ff30c632e"
      },
      "outputs": [
        {
          "output_type": "stream",
          "name": "stdout",
          "text": [
            "[1 1 2 3 4 4 6]\n"
          ]
        }
      ],
      "source": [
        "C = np.bincount([1,1,2,3,4,4,6])\n",
        "A = np.repeat(np.arange(len(C)), C)\n",
        "print(A)"
      ]
    },
    {
      "cell_type": "markdown",
      "metadata": {
        "id": "ZXnILxQny2TV"
      },
      "source": [
        "#### 75. How to compute averages using a sliding window over an array? (★★★) \n",
        "(**hint**: np.cumsum)"
      ]
    },
    {
      "cell_type": "code",
      "execution_count": null,
      "metadata": {
        "id": "U5E0f-MFy2TW",
        "colab": {
          "base_uri": "https://localhost:8080/"
        },
        "outputId": "aa212a99-2c5b-4af7-9865-fb396bb5cdb8"
      },
      "outputs": [
        {
          "output_type": "stream",
          "name": "stdout",
          "text": [
            "[ 1.  2.  3.  4.  5.  6.  7.  8.  9. 10. 11. 12. 13. 14. 15. 16. 17. 18.]\n"
          ]
        }
      ],
      "source": [
        "from numpy.lib.stride_tricks import sliding_window_view\n",
        "\n",
        "Z = np.arange(20)\n",
        "print(sliding_window_view(Z, window_shape=3).mean(axis=-1))"
      ]
    },
    {
      "cell_type": "markdown",
      "metadata": {
        "id": "a5V0259Gy2TW"
      },
      "source": [
        "#### 76. Consider a one-dimensional array Z, build a two-dimensional array whose first row is (Z\\[0\\],Z\\[1\\],Z\\[2\\]) and each subsequent row is  shifted by 1 (last row should be (Z\\[-3\\],Z\\[-2\\],Z\\[-1\\]) (★★★) \n",
        "(**hint**: from numpy.lib import stride_tricks)"
      ]
    },
    {
      "cell_type": "code",
      "execution_count": null,
      "metadata": {
        "id": "V8VQ3Zaey2TW",
        "colab": {
          "base_uri": "https://localhost:8080/"
        },
        "outputId": "362e58b6-0c08-4e7a-b76b-eee08a936fc6"
      },
      "outputs": [
        {
          "output_type": "stream",
          "name": "stdout",
          "text": [
            "[0 1 2 3 4 5 6 7 8 9]\n",
            "[[0 1 2]\n",
            " [1 2 3]\n",
            " [2 3 4]\n",
            " [3 4 5]\n",
            " [4 5 6]\n",
            " [5 6 7]\n",
            " [6 7 8]\n",
            " [7 8 9]]\n"
          ]
        }
      ],
      "source": [
        "from numpy.lib.stride_tricks import sliding_window_view\n",
        "\n",
        "Z = np.arange(10)\n",
        "print(Z)\n",
        "print(sliding_window_view(Z, window_shape=3))"
      ]
    },
    {
      "cell_type": "markdown",
      "metadata": {
        "id": "fdYXVrh2y2TW"
      },
      "source": [
        "#### 77. How to negate a boolean, or to change the sign of a float inplace? (★★★) \n",
        "(**hint**: np.logical_not, np.negative)"
      ]
    },
    {
      "cell_type": "code",
      "execution_count": null,
      "metadata": {
        "id": "laWYTaC6y2TW",
        "colab": {
          "base_uri": "https://localhost:8080/"
        },
        "outputId": "442b1ded-4841-4320-83c6-607b88a11f27"
      },
      "outputs": [
        {
          "output_type": "execute_result",
          "data": {
            "text/plain": [
              "array([ 6.76625146e-02, -6.11305217e-01,  1.64505122e-01,  4.33642468e-01,\n",
              "       -2.96240871e-01, -1.50391456e-02,  6.73394947e-01, -8.96079282e-01,\n",
              "        9.78327708e-01, -5.47903226e-01,  1.62703881e-01,  2.94648181e-01,\n",
              "       -2.11980006e-01, -2.46031982e-01, -6.52504679e-01, -4.34698694e-01,\n",
              "        2.62340302e-01,  7.03953607e-01,  7.24454434e-01, -1.53717930e-02,\n",
              "       -6.32524325e-01, -8.89239861e-01, -4.84383546e-01, -6.23795269e-01,\n",
              "        8.05916936e-01, -1.76619819e-01,  6.11127183e-01,  5.43143373e-01,\n",
              "       -7.08971167e-01, -4.23678763e-01, -5.90854498e-01, -5.20813260e-01,\n",
              "       -3.65332802e-01, -3.81012722e-01,  1.82677046e-01, -1.20287873e-01,\n",
              "        5.04702100e-01,  9.09078399e-03,  4.58214191e-01,  3.40432611e-01,\n",
              "       -2.29739615e-01, -7.92108906e-01, -8.58063355e-01,  9.58854742e-01,\n",
              "       -4.21321796e-01,  9.02092779e-01, -3.79810489e-01,  5.05452198e-04,\n",
              "       -6.96779766e-01, -2.89722381e-01,  1.28918302e-01,  5.50959397e-01,\n",
              "        4.73974369e-01,  9.98701908e-01, -9.43998961e-01, -2.72927138e-01,\n",
              "       -6.86938612e-01,  2.80720170e-01,  2.90415203e-01, -7.53927688e-01,\n",
              "        8.57167034e-01,  6.24391107e-01, -4.62677421e-01, -4.01465381e-01,\n",
              "        5.20914605e-01,  5.21252487e-01,  5.96670469e-01,  3.20617381e-01,\n",
              "       -5.68497083e-01,  3.31705993e-01,  9.97496562e-01, -6.37787841e-01,\n",
              "        4.84400790e-01, -4.49704997e-01, -4.53110797e-01, -2.06936494e-01,\n",
              "       -4.23912903e-01, -8.69319299e-01,  5.36897961e-01,  8.37706501e-01,\n",
              "       -8.95012099e-01, -4.89208767e-01, -9.86953521e-01, -8.38982116e-01,\n",
              "       -4.60358340e-01, -7.63056441e-02, -7.13579433e-01,  9.84570629e-01,\n",
              "       -2.57885320e-01,  4.90445348e-01,  5.79336436e-01, -5.02506527e-02,\n",
              "       -8.97119335e-02, -3.49304979e-01, -7.62439374e-01, -2.12988804e-01,\n",
              "        5.81861624e-01,  5.94680426e-01, -9.07578055e-01, -1.07315626e-01])"
            ]
          },
          "metadata": {},
          "execution_count": 26
        }
      ],
      "source": [
        "Z = np.random.randint(0,2,100)\n",
        "np.logical_not(Z, out=Z)\n",
        "\n",
        "Z = np.random.uniform(-1.0,1.0,100)\n",
        "np.negative(Z, out=Z)"
      ]
    },
    {
      "cell_type": "markdown",
      "metadata": {
        "id": "vPkdt3Poy2TX"
      },
      "source": [
        "#### 78. Consider 2 sets of points P0,P1 describing lines (2d) and a point p, how to compute distance from p to each line i  (P0\\[i\\],P1\\[i\\])? (★★★)"
      ]
    },
    {
      "cell_type": "code",
      "execution_count": null,
      "metadata": {
        "id": "kbusfWQgy2TX",
        "colab": {
          "base_uri": "https://localhost:8080/"
        },
        "outputId": "5fedda11-be00-4d32-f66c-aed91ad22e6f"
      },
      "outputs": [
        {
          "output_type": "stream",
          "name": "stdout",
          "text": [
            "[ 5.72780664 11.55066067  2.9802148   9.51340803  0.65070839  9.96410186\n",
            "  1.7759127   1.78545409  0.92578219  9.24117205]\n"
          ]
        }
      ],
      "source": [
        "def distance(P0, P1, p):\n",
        "    T = P1 - P0\n",
        "    L = (T**2).sum(axis=1)\n",
        "    U = -((P0[:,0]-p[...,0])*T[:,0] + (P0[:,1]-p[...,1])*T[:,1]) / L\n",
        "    U = U.reshape(len(U),1)\n",
        "    D = P0 + U*T - p\n",
        "    return np.sqrt((D**2).sum(axis=1))\n",
        "\n",
        "P0 = np.random.uniform(-10,10,(10,2))\n",
        "P1 = np.random.uniform(-10,10,(10,2))\n",
        "p  = np.random.uniform(-10,10,( 1,2))\n",
        "print(distance(P0, P1, p))"
      ]
    },
    {
      "cell_type": "markdown",
      "metadata": {
        "id": "4mCXusJdy2TX"
      },
      "source": [
        "#### 79. Consider 2 sets of points P0,P1 describing lines (2d) and a set of points P, how to compute distance from each point j (P\\[j\\]) to each line i (P0\\[i\\],P1\\[i\\])? (★★★)"
      ]
    },
    {
      "cell_type": "code",
      "execution_count": null,
      "metadata": {
        "id": "70U1Ikcoy2TX",
        "colab": {
          "base_uri": "https://localhost:8080/"
        },
        "outputId": "ccd04265-eaea-469f-f424-b31620728949"
      },
      "outputs": [
        {
          "output_type": "stream",
          "name": "stdout",
          "text": [
            "[[4.60295282e+00 3.49370228e+00 4.44235135e+00 1.75687140e+00\n",
            "  1.60335519e+00 4.06128687e+00 1.00637377e+01 6.37113649e+00\n",
            "  1.14661452e+00 4.65749503e+00]\n",
            " [2.20851033e+00 6.42005497e+00 6.79930042e+00 1.67153099e+00\n",
            "  3.85093326e+00 3.81463085e+00 1.05439402e+01 7.61231571e+00\n",
            "  3.30252407e+00 6.57903327e+00]\n",
            " [8.52317911e+00 3.83509465e+00 2.62140138e+00 6.87226085e-01\n",
            "  5.32363979e+00 1.99652236e+00 6.35027870e+00 1.10764988e+00\n",
            "  5.65635074e+00 1.79704879e+00]\n",
            " [1.01484645e+01 4.60694101e-01 2.54889191e+00 4.82881867e+00\n",
            "  1.02608789e-02 7.37866208e+00 1.22079467e+01 7.09126372e+00\n",
            "  2.05195542e-01 3.88775090e+00]\n",
            " [4.14881522e-01 5.97895939e+00 4.77545199e+00 2.13548421e+00\n",
            "  1.64645241e+00 3.52225639e-03 6.86293891e+00 4.32793426e+00\n",
            "  9.60167521e-01 3.92916796e+00]\n",
            " [6.21574096e+00 1.38192847e+01 1.14337250e+01 1.57775099e+00\n",
            "  8.05227681e+00 1.29310495e-01 8.89239179e+00 8.29094318e+00\n",
            "  7.15162055e+00 9.56326798e+00]\n",
            " [2.98135608e-01 8.14139803e+00 7.90508008e+00 9.78890541e-01\n",
            "  4.85922652e+00 3.02113843e+00 1.02194945e+01 7.82148909e+00\n",
            "  4.23138363e+00 7.31237120e+00]\n",
            " [5.18347342e+00 3.68910893e+00 7.82628154e-01 1.05706669e+01\n",
            "  4.26477452e+00 8.39138568e+00 1.54457385e+00 3.53697706e+00\n",
            "  5.21695498e+00 2.82761599e+00]\n",
            " [7.19224551e-01 5.84906726e+00 5.24550816e+00 8.16095392e-01\n",
            "  2.18925251e+00 1.33523734e+00 8.08446529e+00 5.33957869e+00\n",
            "  1.55928099e+00 4.65676032e+00]\n",
            " [2.86426654e+00 1.13043610e+00 5.57257644e+00 1.25092119e+01\n",
            "  8.98188280e+00 1.00835492e+01 4.29955252e+00 7.26693851e+00\n",
            "  9.86565413e+00 7.27691820e+00]]\n"
          ]
        }
      ],
      "source": [
        "P0 = np.random.uniform(-10, 10, (10,2))\n",
        "P1 = np.random.uniform(-10,10,(10,2))\n",
        "p = np.random.uniform(-10, 10, (10,2))\n",
        "print(np.array([distance(P0,P1,p_i) for p_i in p]))"
      ]
    },
    {
      "cell_type": "markdown",
      "metadata": {
        "id": "tWiYlAv-y2TY"
      },
      "source": [
        "#### 80. Consider an arbitrary array, write a function that extract a subpart with a fixed shape and centered on a given element (pad with a `fill` value when necessary) (★★★) \n",
        "(**hint**: minimum, maximum)"
      ]
    },
    {
      "cell_type": "code",
      "execution_count": null,
      "metadata": {
        "id": "gqv44EFby2TY"
      },
      "outputs": [],
      "source": [
        "Z = np.random.randint(0,10,(10,10))\n",
        "shape = (5,5)\n",
        "fill  = 0\n",
        "position = (1,1)\n",
        "\n",
        "R = np.ones(shape, dtype=Z.dtype)*fill\n",
        "P  = np.array(list(position)).astype(int)\n",
        "Rs = np.array(list(R.shape)).astype(int)\n",
        "Zs = np.array(list(Z.shape)).astype(int)\n",
        "\n",
        "R_start = np.zeros((len(shape),)).astype(int)\n",
        "R_stop  = np.array(list(shape)).astype(int)\n",
        "Z_start = (P-Rs//2)\n",
        "Z_stop  = (P+Rs//2)+Rs%2\n",
        "\n",
        "R_start = (R_start - np.minimum(Z_start,0)).tolist()\n",
        "Z_start = (np.maximum(Z_start,0)).tolist()\n",
        "R_stop = np.maximum(R_start, (R_stop - np.maximum(Z_stop-Zs,0))).tolist()\n",
        "Z_stop = (np.minimum(Z_stop,Zs)).tolist()\n",
        "\n",
        "r = [slice(start,stop) for start,stop in zip(R_start,R_stop)]\n",
        "z = [slice(start,stop) for start,stop in zip(Z_start,Z_stop)]\n",
        "R[r] = Z[z]\n",
        "print(Z)\n",
        "print(R)"
      ]
    },
    {
      "cell_type": "markdown",
      "metadata": {
        "id": "v9ypok2wy2TY"
      },
      "source": [
        "#### 81. Consider an array Z = \\[1,2,3,4,5,6,7,8,9,10,11,12,13,14\\], how to generate an array R = \\[\\[1,2,3,4\\], \\[2,3,4,5\\], \\[3,4,5,6\\], ..., \\[11,12,13,14\\]\\]? (★★★) \n",
        "(**hint**: stride\\_tricks.as\\_strided)"
      ]
    },
    {
      "cell_type": "code",
      "execution_count": null,
      "metadata": {
        "id": "-ZwbF3AYy2TY",
        "colab": {
          "base_uri": "https://localhost:8080/"
        },
        "outputId": "77946cf2-c2a0-4456-b83c-abbbe98dc522"
      },
      "outputs": [
        {
          "output_type": "stream",
          "name": "stdout",
          "text": [
            "[[ 1  2  3  4]\n",
            " [ 2  3  4  5]\n",
            " [ 3  4  5  6]\n",
            " [ 4  5  6  7]\n",
            " [ 5  6  7  8]\n",
            " [ 6  7  8  9]\n",
            " [ 7  8  9 10]\n",
            " [ 8  9 10 11]\n",
            " [ 9 10 11 12]\n",
            " [10 11 12 13]\n",
            " [11 12 13 14]]\n"
          ]
        }
      ],
      "source": [
        "from numpy.lib.stride_tricks import sliding_window_view\n",
        "\n",
        "z = np.arange(1, 15, dtype=np.uint32)\n",
        "print(sliding_window_view(z, window_shape=4))"
      ]
    },
    {
      "cell_type": "markdown",
      "metadata": {
        "id": "NBfb6qycy2TY"
      },
      "source": [
        "#### 82. Compute a matrix rank (★★★) \n",
        "(**hint**: np.linalg.svd) (suggestion: np.linalg.svd)"
      ]
    },
    {
      "cell_type": "code",
      "execution_count": null,
      "metadata": {
        "id": "rgRnb7qRy2TZ",
        "colab": {
          "base_uri": "https://localhost:8080/"
        },
        "outputId": "ed58ef71-0c20-4b95-f390-9ae440ecc753"
      },
      "outputs": [
        {
          "output_type": "stream",
          "name": "stdout",
          "text": [
            "10\n"
          ]
        }
      ],
      "source": [
        "Z = np.random.uniform(0,1,(10,10))\n",
        "U, S, V = np.linalg.svd(Z) # Singular Value Decomposition\n",
        "rank = np.sum(S > 1e-10)\n",
        "print(rank)"
      ]
    },
    {
      "cell_type": "markdown",
      "metadata": {
        "id": "cqpcEVPvy2TZ"
      },
      "source": [
        "#### 83. How to find the most frequent value in an array? \n",
        "(**hint**: np.bincount, argmax)"
      ]
    },
    {
      "cell_type": "code",
      "execution_count": null,
      "metadata": {
        "id": "sMp10SIry2TZ",
        "colab": {
          "base_uri": "https://localhost:8080/"
        },
        "outputId": "917b8d38-48e8-4fae-89d5-b555221e9137"
      },
      "outputs": [
        {
          "output_type": "stream",
          "name": "stdout",
          "text": [
            "7\n"
          ]
        }
      ],
      "source": [
        "Z = np.random.randint(0,10,50)\n",
        "print(np.bincount(Z).argmax())"
      ]
    },
    {
      "cell_type": "markdown",
      "metadata": {
        "id": "a8FUPKrVy2TZ"
      },
      "source": [
        "#### 84. Extract all the contiguous 3x3 blocks from a random 10x10 matrix (★★★) \n",
        "(**hint**: stride\\_tricks.as\\_strided)"
      ]
    },
    {
      "cell_type": "code",
      "execution_count": null,
      "metadata": {
        "id": "lOAF-QrHy2TZ",
        "colab": {
          "base_uri": "https://localhost:8080/"
        },
        "outputId": "01f91481-b1b6-4999-f1d5-07cbfc0738e5"
      },
      "outputs": [
        {
          "output_type": "stream",
          "name": "stdout",
          "text": [
            "[[[[3 3 1]\n",
            "   [2 1 4]\n",
            "   [1 4 1]]\n",
            "\n",
            "  [[3 1 4]\n",
            "   [1 4 0]\n",
            "   [4 1 2]]\n",
            "\n",
            "  [[1 4 2]\n",
            "   [4 0 3]\n",
            "   [1 2 2]]\n",
            "\n",
            "  [[4 2 3]\n",
            "   [0 3 4]\n",
            "   [2 2 0]]\n",
            "\n",
            "  [[2 3 3]\n",
            "   [3 4 4]\n",
            "   [2 0 0]]\n",
            "\n",
            "  [[3 3 4]\n",
            "   [4 4 0]\n",
            "   [0 0 4]]\n",
            "\n",
            "  [[3 4 3]\n",
            "   [4 0 3]\n",
            "   [0 4 4]]\n",
            "\n",
            "  [[4 3 1]\n",
            "   [0 3 0]\n",
            "   [4 4 1]]]\n",
            "\n",
            "\n",
            " [[[2 1 4]\n",
            "   [1 4 1]\n",
            "   [0 1 3]]\n",
            "\n",
            "  [[1 4 0]\n",
            "   [4 1 2]\n",
            "   [1 3 3]]\n",
            "\n",
            "  [[4 0 3]\n",
            "   [1 2 2]\n",
            "   [3 3 4]]\n",
            "\n",
            "  [[0 3 4]\n",
            "   [2 2 0]\n",
            "   [3 4 4]]\n",
            "\n",
            "  [[3 4 4]\n",
            "   [2 0 0]\n",
            "   [4 4 4]]\n",
            "\n",
            "  [[4 4 0]\n",
            "   [0 0 4]\n",
            "   [4 4 1]]\n",
            "\n",
            "  [[4 0 3]\n",
            "   [0 4 4]\n",
            "   [4 1 0]]\n",
            "\n",
            "  [[0 3 0]\n",
            "   [4 4 1]\n",
            "   [1 0 0]]]\n",
            "\n",
            "\n",
            " [[[1 4 1]\n",
            "   [0 1 3]\n",
            "   [2 0 3]]\n",
            "\n",
            "  [[4 1 2]\n",
            "   [1 3 3]\n",
            "   [0 3 2]]\n",
            "\n",
            "  [[1 2 2]\n",
            "   [3 3 4]\n",
            "   [3 2 0]]\n",
            "\n",
            "  [[2 2 0]\n",
            "   [3 4 4]\n",
            "   [2 0 1]]\n",
            "\n",
            "  [[2 0 0]\n",
            "   [4 4 4]\n",
            "   [0 1 2]]\n",
            "\n",
            "  [[0 0 4]\n",
            "   [4 4 1]\n",
            "   [1 2 2]]\n",
            "\n",
            "  [[0 4 4]\n",
            "   [4 1 0]\n",
            "   [2 2 3]]\n",
            "\n",
            "  [[4 4 1]\n",
            "   [1 0 0]\n",
            "   [2 3 0]]]\n",
            "\n",
            "\n",
            " [[[0 1 3]\n",
            "   [2 0 3]\n",
            "   [4 4 0]]\n",
            "\n",
            "  [[1 3 3]\n",
            "   [0 3 2]\n",
            "   [4 0 3]]\n",
            "\n",
            "  [[3 3 4]\n",
            "   [3 2 0]\n",
            "   [0 3 0]]\n",
            "\n",
            "  [[3 4 4]\n",
            "   [2 0 1]\n",
            "   [3 0 4]]\n",
            "\n",
            "  [[4 4 4]\n",
            "   [0 1 2]\n",
            "   [0 4 1]]\n",
            "\n",
            "  [[4 4 1]\n",
            "   [1 2 2]\n",
            "   [4 1 3]]\n",
            "\n",
            "  [[4 1 0]\n",
            "   [2 2 3]\n",
            "   [1 3 4]]\n",
            "\n",
            "  [[1 0 0]\n",
            "   [2 3 0]\n",
            "   [3 4 4]]]\n",
            "\n",
            "\n",
            " [[[2 0 3]\n",
            "   [4 4 0]\n",
            "   [3 1 0]]\n",
            "\n",
            "  [[0 3 2]\n",
            "   [4 0 3]\n",
            "   [1 0 3]]\n",
            "\n",
            "  [[3 2 0]\n",
            "   [0 3 0]\n",
            "   [0 3 2]]\n",
            "\n",
            "  [[2 0 1]\n",
            "   [3 0 4]\n",
            "   [3 2 4]]\n",
            "\n",
            "  [[0 1 2]\n",
            "   [0 4 1]\n",
            "   [2 4 0]]\n",
            "\n",
            "  [[1 2 2]\n",
            "   [4 1 3]\n",
            "   [4 0 4]]\n",
            "\n",
            "  [[2 2 3]\n",
            "   [1 3 4]\n",
            "   [0 4 4]]\n",
            "\n",
            "  [[2 3 0]\n",
            "   [3 4 4]\n",
            "   [4 4 1]]]\n",
            "\n",
            "\n",
            " [[[4 4 0]\n",
            "   [3 1 0]\n",
            "   [4 1 0]]\n",
            "\n",
            "  [[4 0 3]\n",
            "   [1 0 3]\n",
            "   [1 0 0]]\n",
            "\n",
            "  [[0 3 0]\n",
            "   [0 3 2]\n",
            "   [0 0 0]]\n",
            "\n",
            "  [[3 0 4]\n",
            "   [3 2 4]\n",
            "   [0 0 3]]\n",
            "\n",
            "  [[0 4 1]\n",
            "   [2 4 0]\n",
            "   [0 3 3]]\n",
            "\n",
            "  [[4 1 3]\n",
            "   [4 0 4]\n",
            "   [3 3 4]]\n",
            "\n",
            "  [[1 3 4]\n",
            "   [0 4 4]\n",
            "   [3 4 0]]\n",
            "\n",
            "  [[3 4 4]\n",
            "   [4 4 1]\n",
            "   [4 0 2]]]\n",
            "\n",
            "\n",
            " [[[3 1 0]\n",
            "   [4 1 0]\n",
            "   [4 0 3]]\n",
            "\n",
            "  [[1 0 3]\n",
            "   [1 0 0]\n",
            "   [0 3 3]]\n",
            "\n",
            "  [[0 3 2]\n",
            "   [0 0 0]\n",
            "   [3 3 2]]\n",
            "\n",
            "  [[3 2 4]\n",
            "   [0 0 3]\n",
            "   [3 2 1]]\n",
            "\n",
            "  [[2 4 0]\n",
            "   [0 3 3]\n",
            "   [2 1 3]]\n",
            "\n",
            "  [[4 0 4]\n",
            "   [3 3 4]\n",
            "   [1 3 0]]\n",
            "\n",
            "  [[0 4 4]\n",
            "   [3 4 0]\n",
            "   [3 0 1]]\n",
            "\n",
            "  [[4 4 1]\n",
            "   [4 0 2]\n",
            "   [0 1 2]]]\n",
            "\n",
            "\n",
            " [[[4 1 0]\n",
            "   [4 0 3]\n",
            "   [3 2 3]]\n",
            "\n",
            "  [[1 0 0]\n",
            "   [0 3 3]\n",
            "   [2 3 2]]\n",
            "\n",
            "  [[0 0 0]\n",
            "   [3 3 2]\n",
            "   [3 2 3]]\n",
            "\n",
            "  [[0 0 3]\n",
            "   [3 2 1]\n",
            "   [2 3 1]]\n",
            "\n",
            "  [[0 3 3]\n",
            "   [2 1 3]\n",
            "   [3 1 4]]\n",
            "\n",
            "  [[3 3 4]\n",
            "   [1 3 0]\n",
            "   [1 4 2]]\n",
            "\n",
            "  [[3 4 0]\n",
            "   [3 0 1]\n",
            "   [4 2 4]]\n",
            "\n",
            "  [[4 0 2]\n",
            "   [0 1 2]\n",
            "   [2 4 3]]]]\n"
          ]
        }
      ],
      "source": [
        "from numpy.lib import stride_tricks\n",
        "\n",
        "Z = np.random.randint(0,5,(10,10))\n",
        "n = 3\n",
        "i = 1 + (Z.shape[0]-3)\n",
        "j = 1 + (Z.shape[1]-3)\n",
        "C = stride_tricks.as_strided(Z, shape=(i, j, n, n), strides=Z.strides + Z.strides)\n",
        "print(C)"
      ]
    },
    {
      "cell_type": "markdown",
      "metadata": {
        "id": "d79S_1yYy2TZ"
      },
      "source": [
        "#### 85. Create a 2D array subclass such that Z\\[i,j\\] == Z\\[j,i\\] (★★★) \n",
        "(**hint**: class method)"
      ]
    },
    {
      "cell_type": "code",
      "execution_count": null,
      "metadata": {
        "id": "bsW6q82wy2Ta",
        "colab": {
          "base_uri": "https://localhost:8080/"
        },
        "outputId": "ff20c1ef-fb82-4a87-f790-9fd0684c6a4a"
      },
      "outputs": [
        {
          "output_type": "stream",
          "name": "stdout",
          "text": [
            "[[ 4 10  9 16 15]\n",
            " [10  9 13  8  1]\n",
            " [ 9 13  8 42 11]\n",
            " [16  8 42  5  1]\n",
            " [15  1 11  1  0]]\n"
          ]
        }
      ],
      "source": [
        "class Symetric(np.ndarray):\n",
        "    def __setitem__(self, index, value):\n",
        "        i,j = index\n",
        "        super(Symetric, self).__setitem__((i,j), value)\n",
        "        super(Symetric, self).__setitem__((j,i), value)\n",
        "\n",
        "def symetric(Z):\n",
        "    return np.asarray(Z + Z.T - np.diag(Z.diagonal())).view(Symetric)\n",
        "\n",
        "S = symetric(np.random.randint(0,10,(5,5)))\n",
        "S[2,3] = 42\n",
        "print(S)"
      ]
    },
    {
      "cell_type": "markdown",
      "metadata": {
        "id": "0CYtYS0ny2Ta"
      },
      "source": [
        "#### 86. Consider a set of p matrices wich shape (n,n) and a set of p vectors with shape (n,1). How to compute the sum of of the p matrix products at once? (result has shape (n,1)) (★★★) \n",
        "(**hint**: np.tensordot)"
      ]
    },
    {
      "cell_type": "code",
      "execution_count": null,
      "metadata": {
        "id": "uVrLHZT1y2Ta",
        "colab": {
          "base_uri": "https://localhost:8080/"
        },
        "outputId": "55ca7c69-7f3c-42bc-bf3c-befb8ef989c8"
      },
      "outputs": [
        {
          "output_type": "stream",
          "name": "stdout",
          "text": [
            "[[200.]\n",
            " [200.]\n",
            " [200.]\n",
            " [200.]\n",
            " [200.]\n",
            " [200.]\n",
            " [200.]\n",
            " [200.]\n",
            " [200.]\n",
            " [200.]\n",
            " [200.]\n",
            " [200.]\n",
            " [200.]\n",
            " [200.]\n",
            " [200.]\n",
            " [200.]\n",
            " [200.]\n",
            " [200.]\n",
            " [200.]\n",
            " [200.]]\n"
          ]
        }
      ],
      "source": [
        "p, n = 10, 20\n",
        "M = np.ones((p,n,n))\n",
        "V = np.ones((p,n,1))\n",
        "S = np.tensordot(M, V, axes=[[0, 2], [0, 1]])\n",
        "print(S)\n",
        "\n",
        "# It works, because:\n",
        "# M is (p,n,n)\n",
        "# V is (p,n,1)\n",
        "# Thus, summing over the paired axes 0 and 0 (of M and V independently),\n",
        "# and 2 and 1, to remain with a (n,1) vector."
      ]
    },
    {
      "cell_type": "markdown",
      "metadata": {
        "id": "-F4p9NQwy2Ta"
      },
      "source": [
        "#### 87. Consider a 16x16 array, how to get the block-sum (block size is 4x4)? (★★★) \n",
        "(**hint**: np.add.reduceat)"
      ]
    },
    {
      "cell_type": "code",
      "execution_count": null,
      "metadata": {
        "id": "f6v8w9IOy2Tb",
        "colab": {
          "base_uri": "https://localhost:8080/"
        },
        "outputId": "125a10b8-230e-4c78-e7a1-3d5aba9192d0"
      },
      "outputs": [
        {
          "output_type": "stream",
          "name": "stdout",
          "text": [
            "[[16. 16. 16. 16.]\n",
            " [16. 16. 16. 16.]\n",
            " [16. 16. 16. 16.]\n",
            " [16. 16. 16. 16.]]\n"
          ]
        }
      ],
      "source": [
        "Z = np.ones((16,16))\n",
        "k = 4\n",
        "S = np.add.reduceat(np.add.reduceat(Z, np.arange(0, Z.shape[0], k), axis=0),\n",
        "                                       np.arange(0, Z.shape[1], k), axis=1)\n",
        "print(S)\n"
      ]
    },
    {
      "cell_type": "markdown",
      "metadata": {
        "id": "VKzkBAgMy2Tb"
      },
      "source": [
        "#### 88. How to implement the Game of Life using numpy arrays? (★★★)"
      ]
    },
    {
      "cell_type": "code",
      "execution_count": null,
      "metadata": {
        "id": "fSXJNncOy2Tb",
        "colab": {
          "base_uri": "https://localhost:8080/"
        },
        "outputId": "24c9af66-5af4-4087-e07f-41ce3a9ecab5"
      },
      "outputs": [
        {
          "output_type": "stream",
          "name": "stdout",
          "text": [
            "[[0 0 0 ... 0 0 0]\n",
            " [0 0 0 ... 0 0 0]\n",
            " [0 0 0 ... 0 0 0]\n",
            " ...\n",
            " [0 0 0 ... 0 0 0]\n",
            " [0 0 0 ... 0 0 0]\n",
            " [0 0 0 ... 0 0 0]]\n"
          ]
        }
      ],
      "source": [
        "def iterate(Z):\n",
        "    # Count neighbours\n",
        "    N = (Z[0:-2,0:-2] + Z[0:-2,1:-1] + Z[0:-2,2:] +\n",
        "         Z[1:-1,0:-2]                + Z[1:-1,2:] +\n",
        "         Z[2:  ,0:-2] + Z[2:  ,1:-1] + Z[2:  ,2:])\n",
        "\n",
        "    # Apply rules\n",
        "    birth = (N==3) & (Z[1:-1,1:-1]==0)\n",
        "    survive = ((N==2) | (N==3)) & (Z[1:-1,1:-1]==1)\n",
        "    Z[...] = 0\n",
        "    Z[1:-1,1:-1][birth | survive] = 1\n",
        "    return Z\n",
        "\n",
        "Z = np.random.randint(0,2,(50,50))\n",
        "for i in range(100): Z = iterate(Z)\n",
        "print(Z)"
      ]
    },
    {
      "cell_type": "markdown",
      "metadata": {
        "id": "EgeTjL1Zy2Tb"
      },
      "source": [
        "#### 89. How to get the n largest values of an array (★★★) \n",
        "(**hint**: np.argsort | np.argpartition)"
      ]
    },
    {
      "cell_type": "code",
      "execution_count": null,
      "metadata": {
        "id": "bo8Pfkkjy2Tb",
        "colab": {
          "base_uri": "https://localhost:8080/"
        },
        "outputId": "3ccff8fd-686b-4603-bf70-b9dcba45f8dd"
      },
      "outputs": [
        {
          "output_type": "stream",
          "name": "stdout",
          "text": [
            "[9995 9996 9997 9998 9999]\n",
            "[9998 9999 9997 9996 9995]\n"
          ]
        }
      ],
      "source": [
        "Z = np.arange(10000)\n",
        "np.random.shuffle(Z)\n",
        "n = 5\n",
        "\n",
        "#Option 1\n",
        "print (Z[np.argsort(Z)[-n:]])\n",
        "\n",
        "#Option 2\n",
        "print (Z[np.argpartition(-Z,n)[:n]])"
      ]
    },
    {
      "cell_type": "markdown",
      "metadata": {
        "id": "bdZAGsFVy2Tc"
      },
      "source": [
        "#### 90. Given an arbitrary number of vectors, build the cartesian product (every combinations of every item) (★★★) \n",
        "(**hint**: np.indices)"
      ]
    },
    {
      "cell_type": "code",
      "execution_count": null,
      "metadata": {
        "scrolled": true,
        "id": "ET4NCAaFy2Tc",
        "colab": {
          "base_uri": "https://localhost:8080/"
        },
        "outputId": "2fe2a8a6-1ac7-43b1-fafb-1bad660d6278"
      },
      "outputs": [
        {
          "output_type": "stream",
          "name": "stdout",
          "text": [
            "[[1 4 6]\n",
            " [1 4 7]\n",
            " [1 5 6]\n",
            " [1 5 7]\n",
            " [2 4 6]\n",
            " [2 4 7]\n",
            " [2 5 6]\n",
            " [2 5 7]\n",
            " [3 4 6]\n",
            " [3 4 7]\n",
            " [3 5 6]\n",
            " [3 5 7]]\n"
          ]
        }
      ],
      "source": [
        "def cartesian(arrays):\n",
        "    arrays = [np.asarray(a) for a in arrays]\n",
        "    shape = (len(x) for x in arrays)\n",
        "\n",
        "    ix = np.indices(shape, dtype=int)\n",
        "    ix = ix.reshape(len(arrays), -1).T\n",
        "\n",
        "    for n, arr in enumerate(arrays):\n",
        "        ix[:, n] = arrays[n][ix[:, n]]\n",
        "\n",
        "    return ix\n",
        "\n",
        "print (cartesian(([1, 2, 3], [4, 5], [6, 7])))"
      ]
    },
    {
      "cell_type": "markdown",
      "metadata": {
        "id": "ya1MMuVUy2Tc"
      },
      "source": [
        "#### 91. How to create a record array from a regular array? (★★★) \n",
        "(**hint**: np.core.records.fromarrays)"
      ]
    },
    {
      "cell_type": "code",
      "execution_count": null,
      "metadata": {
        "id": "7dxehfyiy2Td",
        "colab": {
          "base_uri": "https://localhost:8080/"
        },
        "outputId": "7f538105-e9fe-477f-8ec3-f35d9a899cf5"
      },
      "outputs": [
        {
          "output_type": "stream",
          "name": "stdout",
          "text": [
            "[(b'Hello', 2.5, 3) (b'World', 3.6, 2)]\n"
          ]
        }
      ],
      "source": [
        "Z = np.array([(\"Hello\", 2.5, 3),\n",
        "              (\"World\", 3.6, 2)])\n",
        "R = np.core.records.fromarrays(Z.T,\n",
        "                               names='col1, col2, col3',\n",
        "                               formats = 'S8, f8, i8')\n",
        "print(R)"
      ]
    },
    {
      "cell_type": "markdown",
      "metadata": {
        "id": "3HSPO_Opy2Td"
      },
      "source": [
        "#### 92. Consider a large vector Z, compute Z to the power of 3 using 3 different methods (★★★) \n",
        "(**hint**: np.power, \\*, np.einsum)"
      ]
    },
    {
      "cell_type": "code",
      "execution_count": null,
      "metadata": {
        "id": "SRVcArGXy2Td",
        "colab": {
          "base_uri": "https://localhost:8080/"
        },
        "outputId": "32e10149-3280-4437-cdb9-8632977c5dde"
      },
      "outputs": [
        {
          "output_type": "stream",
          "name": "stdout",
          "text": [
            "1 loop, best of 5: 3.75 s per loop\n",
            "10 loops, best of 5: 162 ms per loop\n",
            "10 loops, best of 5: 148 ms per loop\n"
          ]
        }
      ],
      "source": [
        "x = np.random.rand(int(5e7))\n",
        "\n",
        "%timeit np.power(x,3)\n",
        "%timeit x*x*x\n",
        "%timeit np.einsum('i,i,i->i',x,x,x)"
      ]
    },
    {
      "cell_type": "markdown",
      "metadata": {
        "id": "jKSest0Zy2Td"
      },
      "source": [
        "#### 93. Consider two arrays A and B of shape (8,3) and (2,2). How to find rows of A that contain elements of each row of B regardless of the order of the elements in B? (★★★) \n",
        "(**hint**: np.where)"
      ]
    },
    {
      "cell_type": "code",
      "execution_count": null,
      "metadata": {
        "id": "lZWM28ypy2Td",
        "colab": {
          "base_uri": "https://localhost:8080/"
        },
        "outputId": "142e90c2-02cb-4f75-b32c-6434c0cc979b"
      },
      "outputs": [
        {
          "output_type": "stream",
          "name": "stdout",
          "text": [
            "[1 2 3 6]\n"
          ]
        }
      ],
      "source": [
        "A = np.random.randint(0,5,(8,3))\n",
        "B = np.random.randint(0,5,(2,2))\n",
        "\n",
        "C = (A[..., np.newaxis, np.newaxis] == B)\n",
        "rows = np.where(C.any((3,1)).all(1))[0]\n",
        "print(rows)"
      ]
    },
    {
      "cell_type": "markdown",
      "metadata": {
        "id": "W-GcZbEKy2Te"
      },
      "source": [
        "#### 94. Considering a 10x3 matrix, extract rows with unequal values (e.g. \\[2,2,3\\]) (★★★)"
      ]
    },
    {
      "cell_type": "code",
      "execution_count": null,
      "metadata": {
        "id": "gI7rq5JXy2Te",
        "colab": {
          "base_uri": "https://localhost:8080/"
        },
        "outputId": "0e0e53c1-5dfc-4ffc-aec6-1e1a6745adc5"
      },
      "outputs": [
        {
          "output_type": "stream",
          "name": "stdout",
          "text": [
            "[[3 0 3]\n",
            " [1 2 2]\n",
            " [1 4 1]\n",
            " [0 3 4]\n",
            " [1 2 1]\n",
            " [2 4 0]\n",
            " [0 4 1]\n",
            " [1 4 2]\n",
            " [0 1 1]\n",
            " [1 1 0]]\n",
            "[[3 0 3]\n",
            " [1 2 2]\n",
            " [1 4 1]\n",
            " [0 3 4]\n",
            " [1 2 1]\n",
            " [2 4 0]\n",
            " [0 4 1]\n",
            " [1 4 2]\n",
            " [0 1 1]\n",
            " [1 1 0]]\n",
            "[[3 0 3]\n",
            " [1 2 2]\n",
            " [1 4 1]\n",
            " [0 3 4]\n",
            " [1 2 1]\n",
            " [2 4 0]\n",
            " [0 4 1]\n",
            " [1 4 2]\n",
            " [0 1 1]\n",
            " [1 1 0]]\n"
          ]
        }
      ],
      "source": [
        "Z = np.random.randint(0,5,(10,3))\n",
        "print(Z)\n",
        "# solution for arrays of all dtypes (including string arrays and record arrays)\n",
        "E = np.all(Z[:,1:] == Z[:,:-1], axis=1)\n",
        "U = Z[~E]\n",
        "print(U)\n",
        "# soluiton for numerical arrays only, will work for any number of columns in Z\n",
        "U = Z[Z.max(axis=1) != Z.min(axis=1),:]\n",
        "print(U)"
      ]
    },
    {
      "cell_type": "markdown",
      "metadata": {
        "id": "acY-GREUy2Te"
      },
      "source": [
        "#### 95. Convert a vector of ints into a matrix binary representation (★★★) \n",
        "(**hint**: np.unpackbits)"
      ]
    },
    {
      "cell_type": "code",
      "execution_count": null,
      "metadata": {
        "id": "Zs7BCRPpy2Te",
        "colab": {
          "base_uri": "https://localhost:8080/"
        },
        "outputId": "34fe0175-6c72-43d1-e25b-442d8cb760de"
      },
      "outputs": [
        {
          "output_type": "stream",
          "name": "stdout",
          "text": [
            "[[0 0 0 0 0 0 0 0]\n",
            " [0 0 0 0 0 0 0 1]\n",
            " [0 0 0 0 0 0 1 0]\n",
            " [0 0 0 0 0 0 1 1]\n",
            " [0 0 0 0 1 1 1 1]\n",
            " [0 0 0 1 0 0 0 0]\n",
            " [0 0 1 0 0 0 0 0]\n",
            " [0 1 0 0 0 0 0 0]\n",
            " [1 0 0 0 0 0 0 0]]\n"
          ]
        }
      ],
      "source": [
        "I = np.array([0, 1, 2, 3, 15, 16, 32, 64, 128], dtype=np.uint8)\n",
        "print(np.unpackbits(I[:, np.newaxis], axis=1))"
      ]
    },
    {
      "cell_type": "markdown",
      "metadata": {
        "id": "oHHWbvMVy2Te"
      },
      "source": [
        "#### 96. Given a two dimensional array, how to extract unique rows? (★★★) \n",
        "(**hint**: np.ascontiguousarray)"
      ]
    },
    {
      "cell_type": "code",
      "execution_count": null,
      "metadata": {
        "id": "kWmcJd-zy2Te",
        "colab": {
          "base_uri": "https://localhost:8080/"
        },
        "outputId": "ed46e5cb-782b-4fd7-cb32-46c009967b03"
      },
      "outputs": [
        {
          "output_type": "stream",
          "name": "stdout",
          "text": [
            "[[0 1 0]\n",
            " [0 0 1]\n",
            " [1 1 1]\n",
            " [1 0 1]\n",
            " [1 0 0]\n",
            " [0 0 0]]\n",
            "[[0 0 0]\n",
            " [0 0 1]\n",
            " [0 1 0]\n",
            " [1 0 0]\n",
            " [1 0 1]\n",
            " [1 1 1]]\n"
          ]
        }
      ],
      "source": [
        "Z = np.random.randint(0,2,(6,3))\n",
        "print(Z)\n",
        "T = np.ascontiguousarray(Z).view(np.dtype((np.void, Z.dtype.itemsize * Z.shape[1])))\n",
        "_, idx = np.unique(T, return_index=True)\n",
        "uZ = Z[idx]\n",
        "print(uZ)"
      ]
    },
    {
      "cell_type": "markdown",
      "metadata": {
        "id": "lrsJ8Cfwy2Tf"
      },
      "source": [
        "#### 97. Considering 2 vectors A & B, write the einsum equivalent of inner, outer, sum, and mul function (★★★) \n",
        "(**hint**: np.einsum)"
      ]
    },
    {
      "cell_type": "code",
      "execution_count": null,
      "metadata": {
        "id": "C4N7MrOfy2Tf",
        "colab": {
          "base_uri": "https://localhost:8080/"
        },
        "outputId": "13e3b926-8147-4b9b-b286-e9743ee260da"
      },
      "outputs": [
        {
          "output_type": "execute_result",
          "data": {
            "text/plain": [
              "array([[0.65700416, 0.36265168, 0.39641451, 0.38272759, 0.48714281,\n",
              "        0.00557724, 0.69492019, 0.21467274, 0.223272  , 0.57086507],\n",
              "       [0.79260973, 0.43750294, 0.47823441, 0.46172252, 0.58768902,\n",
              "        0.00672838, 0.83835163, 0.25898117, 0.26935532, 0.68869154],\n",
              "       [0.6148037 , 0.33935797, 0.37095215, 0.35814437, 0.45585282,\n",
              "        0.005219  , 0.65028432, 0.20088396, 0.20893087, 0.53419746],\n",
              "       [0.29746436, 0.16419371, 0.17948012, 0.17328325, 0.22055815,\n",
              "        0.00252514, 0.31463117, 0.09719495, 0.10108834, 0.25846413],\n",
              "       [0.16983202, 0.0937435 , 0.10247101, 0.09893301, 0.12592378,\n",
              "        0.00144169, 0.17963311, 0.05549174, 0.0577146 , 0.14756553],\n",
              "       [0.55694331, 0.30742032, 0.33604111, 0.3244387 , 0.41295162,\n",
              "        0.00472783, 0.58908478, 0.18197837, 0.18926798, 0.48392309],\n",
              "       [0.28489975, 0.15725832, 0.17189905, 0.16596393, 0.21124199,\n",
              "        0.00241848, 0.30134145, 0.09308953, 0.09681847, 0.24754686],\n",
              "       [0.2211896 , 0.12209174, 0.13345846, 0.12885057, 0.16400341,\n",
              "        0.00187766, 0.23395456, 0.07227257, 0.07516763, 0.19218967],\n",
              "       [0.83977992, 0.46353983, 0.50669533, 0.48920078, 0.62266386,\n",
              "        0.0071288 , 0.88824402, 0.27439378, 0.28538532, 0.7296773 ],\n",
              "       [0.86288674, 0.47629428, 0.52063722, 0.5026613 , 0.63979666,\n",
              "        0.00732495, 0.91268435, 0.28194382, 0.29323779, 0.74975461]])"
            ]
          },
          "metadata": {},
          "execution_count": 51
        }
      ],
      "source": [
        "A = np.random.uniform(0,1,10)\n",
        "B = np.random.uniform(0,1,10)\n",
        "\n",
        "np.einsum('i->', A)       # np.sum(A)\n",
        "np.einsum('i,i->i', A, B) # A * B\n",
        "np.einsum('i,i', A, B)    # np.inner(A, B)\n",
        "np.einsum('i,j->ij', A, B)    # np.outer(A, B)"
      ]
    },
    {
      "cell_type": "markdown",
      "metadata": {
        "id": "CZEYxgTzy2Tf"
      },
      "source": [
        "#### 98. Considering a path described by two vectors (X,Y), how to sample it using equidistant samples (★★★)? \n",
        "(**hint**: np.cumsum, np.interp)"
      ]
    },
    {
      "cell_type": "code",
      "execution_count": null,
      "metadata": {
        "collapsed": true,
        "id": "-xEdFj6Ny2Tf"
      },
      "outputs": [],
      "source": [
        "phi = np.arange(0, 10*np.pi, 0.1)\n",
        "a = 1\n",
        "x = a*phi*np.cos(phi)\n",
        "y = a*phi*np.sin(phi)\n",
        "\n",
        "dr = (np.diff(x)**2 + np.diff(y)**2)**.5 # segment lengths\n",
        "r = np.zeros_like(x)\n",
        "r[1:] = np.cumsum(dr)                # integrate path\n",
        "r_int = np.linspace(0, r.max(), 200) # regular spaced path\n",
        "x_int = np.interp(r_int, r, x)       # integrate path\n",
        "y_int = np.interp(r_int, r, y)"
      ]
    },
    {
      "cell_type": "markdown",
      "metadata": {
        "id": "HfsLRSwmy2Tf"
      },
      "source": [
        "#### 99. Given an integer n and a 2D array X, select from X the rows which can be interpreted as draws from a multinomial distribution with n degrees, i.e., the rows which only contain integers and which sum to n. (★★★) \n",
        "(**hint**: np.logical\\_and.reduce, np.mod)"
      ]
    },
    {
      "cell_type": "code",
      "execution_count": null,
      "metadata": {
        "id": "IvLRA_W_y2Tf",
        "colab": {
          "base_uri": "https://localhost:8080/"
        },
        "outputId": "599fa80e-d803-4a85-c7fd-a8efa6fc8e74"
      },
      "outputs": [
        {
          "output_type": "stream",
          "name": "stdout",
          "text": [
            "[[2. 0. 1. 1.]]\n"
          ]
        }
      ],
      "source": [
        "X = np.asarray([[1.0, 0.0, 3.0, 8.0],\n",
        "                [2.0, 0.0, 1.0, 1.0],\n",
        "                [1.5, 2.5, 1.0, 0.0]])\n",
        "n = 4\n",
        "M = np.logical_and.reduce(np.mod(X, 1) == 0, axis=-1)\n",
        "M &= (X.sum(axis=-1) == n)\n",
        "print(X[M])"
      ]
    },
    {
      "cell_type": "markdown",
      "metadata": {
        "id": "Mu026LoYy2Tf"
      },
      "source": [
        "#### 100. Compute bootstrapped 95% confidence intervals for the mean of a 1D array X (i.e., resample the elements of an array with replacement N times, compute the mean of each sample, and then compute percentiles over the means). (★★★) \n",
        "(**hint**: np.percentile)"
      ]
    },
    {
      "cell_type": "code",
      "execution_count": null,
      "metadata": {
        "id": "6QwZHneDy2Tg",
        "colab": {
          "base_uri": "https://localhost:8080/"
        },
        "outputId": "3572376f-a826-4bb4-8819-b325b26cf533"
      },
      "outputs": [
        {
          "output_type": "stream",
          "name": "stdout",
          "text": [
            "[ 0.32243631 -0.62539756  1.02299355 -1.31681035  0.6909506   1.38063549\n",
            " -0.26144872  0.09404761  1.01035645 -0.67065008  0.90660963  0.5945292\n",
            "  1.20611964  1.22706367  0.0379478   0.65747806 -0.76392368  0.35584151\n",
            " -0.08132419 -0.33239843  2.22236548  1.28436987 -0.28785092  0.45556115\n",
            "  1.83979538  0.0825836   0.11661067 -0.99854675 -0.2531547  -0.2957957\n",
            "  0.56400372  0.61309138  1.48845088  1.37869245 -1.81673274 -1.65526463\n",
            "  0.20298057 -1.04898879  0.37622328  0.63307984 -0.26155861  0.64324664\n",
            "  1.34953943  0.17535741 -0.79871558 -0.73479804 -0.06962027  1.18806383\n",
            " -0.02442058  0.50688489 -0.32763824  1.2985143   0.24603353  1.10904265\n",
            "  0.6230146   0.05511195 -0.07506217  0.56353724 -0.56558934 -2.0553144\n",
            "  0.80336792 -2.47200517 -0.20727444 -0.44565512 -0.71091252 -0.47058526\n",
            " -1.4212485  -1.12514496  1.19398107  0.22766167 -0.57496452  0.11508896\n",
            "  0.4086471  -0.42034442  0.07259263  1.10723524 -1.8024518   1.05310737\n",
            "  1.80585108  0.53746852  0.15258073  0.77393156 -0.60670582 -0.90751404\n",
            " -2.60368892  1.2761617  -1.04278171  1.75327224  0.15496523  0.83203295\n",
            " -0.93894912 -0.9928122   1.3950528   0.0530283  -0.14221438 -1.58176374\n",
            "  0.83855278 -0.37224364  1.29793941 -1.30435955]\n",
            "[[ 3 43 14 ... 42 87 45]\n",
            " [15 36 16 ... 82 30 39]\n",
            " [48 43 48 ... 24  7 98]\n",
            " ...\n",
            " [39 20  7 ... 87 97 28]\n",
            " [25 17  6 ... 78 20 16]\n",
            " [65 27 75 ... 54 90 66]]\n",
            "[ 0.14165866  0.13419891  0.09220624  0.18249476  0.04312426  0.20797974\n",
            "  0.23152546  0.01566687  0.09339341  0.05159     0.12963797  0.11509502\n",
            " -0.12222997 -0.02996628 -0.04028486  0.09711233  0.02455227  0.12322808\n",
            "  0.17024456 -0.11443118 -0.03527214  0.11069348  0.02318995 -0.06656927\n",
            "  0.2781016   0.12848625  0.14831847  0.01901301  0.17854692  0.08844204\n",
            "  0.00860937  0.19617244  0.08479333  0.16048076  0.21409259  0.06766196\n",
            "  0.15771692  0.10541331 -0.08019437 -0.04464615  0.07289397  0.09739352\n",
            " -0.08018686  0.12309551  0.09086433  0.13475772  0.15637     0.10993006\n",
            "  0.03405965  0.08704602  0.06818725 -0.01947193 -0.19087689  0.12173183\n",
            "  0.27026795  0.06324349  0.01148765  0.09113541  0.14456855  0.17218145\n",
            "  0.06130573  0.06202916  0.16262987  0.17051697  0.14434645  0.06299042\n",
            "  0.23182138  0.10338957  0.0741953   0.2585687   0.12626682  0.11526935\n",
            "  0.11122437 -0.03962173  0.00430585  0.07114394  0.017152    0.13795863\n",
            "  0.01844182  0.18135286  0.22248508  0.16838481  0.13914015  0.0889858\n",
            "  0.07786646 -0.05420369  0.005768    0.05157896  0.02123126  0.20942845\n",
            "  0.04108036 -0.06335638  0.0872943   0.03054878  0.24551344  0.25890872\n",
            "  0.22979616  0.06861657  0.12592653  0.10702452 -0.07921193  0.18630342\n",
            "  0.30383093 -0.01407684  0.00168981  0.15540797  0.05734517  0.22432949\n",
            "  0.1240165   0.11871138  0.04770554  0.02933469  0.00187419  0.13852879\n",
            "  0.05214319  0.3202103   0.10691338  0.27394665 -0.03419285  0.00264516\n",
            "  0.20676983  0.10014468  0.22880767  0.1574488   0.12037104  0.05539292\n",
            "  0.15924325  0.05674861  0.09347492 -0.02718492  0.12100242  0.15129276\n",
            "  0.06454428  0.27560378  0.09818052  0.10170325 -0.01183612  0.09503029\n",
            "  0.10390899  0.0973226   0.0164924   0.20551988  0.09587311  0.00904445\n",
            "  0.13675261  0.09592124 -0.01696212  0.04985131 -0.08610566  0.07555392\n",
            "  0.02335542 -0.02138425  0.06777726  0.15578011 -0.03098982  0.25725952\n",
            "  0.0508639   0.10189995  0.08980709  0.25783772  0.1587562   0.07181049\n",
            "  0.08745902  0.1605164   0.04824918  0.00938079 -0.09594067  0.13015951\n",
            " -0.02826531  0.03047403  0.04801174  0.066008    0.0841847  -0.06658883\n",
            "  0.0765131   0.03832655  0.09216404  0.107089    0.05075776  0.07883946\n",
            "  0.20107788  0.18248602  0.13596965  0.09706271  0.01485772  0.16939752\n",
            "  0.17701833  0.11450365  0.26547048  0.14255701  0.0412442   0.00606491\n",
            "  0.10780744  0.24284766  0.24134555  0.21181549  0.18695425  0.07605407\n",
            "  0.08197631  0.10769392 -0.05746204  0.04695583 -0.07201642 -0.03375912\n",
            "  0.09170376  0.0273768   0.1369352   0.11350666  0.07448294  0.18701072\n",
            "  0.05786822  0.06671727  0.04160129  0.12863276  0.27345466  0.06086995\n",
            " -0.03580627 -0.03077121  0.20770258  0.05352028  0.11530011 -0.04526224\n",
            "  0.09574735 -0.06405349 -0.04902118  0.08596933  0.12267557 -0.00839732\n",
            " -0.0803652   0.02230041  0.07487906  0.09225377  0.01681445  0.05880405\n",
            "  0.07105951  0.11138901  0.06638188  0.2208259   0.03718959 -0.01730926\n",
            "  0.04515598  0.13206303 -0.00635221  0.05863728  0.09234882  0.12541707\n",
            " -0.06673283  0.05812317 -0.02325844  0.0221877  -0.01199058  0.05931363\n",
            "  0.24960146  0.03455197 -0.03581444  0.05956788  0.04261003  0.10728648\n",
            "  0.16932335  0.03534567 -0.19960101  0.15327846 -0.02869829  0.20410777\n",
            "  0.05259772  0.01056414 -0.00399659  0.05022072  0.18004612  0.12848531\n",
            "  0.2849729  -0.02415957 -0.03331469  0.20118571  0.10349398  0.06279841\n",
            "  0.1358235   0.08255973  0.18281685  0.07212706 -0.01080534  0.04350817\n",
            " -0.08386328  0.14080936  0.06757098  0.07792275 -0.06350385  0.22370798\n",
            "  0.16084959  0.14868108  0.13298115  0.14217527  0.31996981  0.07523614\n",
            "  0.20960046 -0.05698562  0.05774634  0.13345381  0.08328646  0.15179679\n",
            "  0.14177512 -0.0582902   0.12247554  0.00362093 -0.03110649  0.16559581\n",
            "  0.18198397  0.09682245  0.12061456  0.17059751  0.06151942  0.16948278\n",
            "  0.20248984  0.17180916 -0.08008891  0.27043112  0.21893077 -0.0111792\n",
            " -0.07893156 -0.03367023 -0.02893412 -0.03979368 -0.01323984  0.04505113\n",
            "  0.16287493  0.23831947  0.18534017  0.03874401  0.10130327  0.0551921\n",
            "  0.15937218  0.12539636  0.02919802  0.1004815   0.0519203   0.05039754\n",
            " -0.18198584  0.22321409  0.05751244  0.01082129  0.09534584  0.23408347\n",
            " -0.03260706  0.11507297  0.00257017  0.01266632  0.16326672  0.08150452\n",
            " -0.00626972  0.15419478  0.10305671  0.14039632  0.23583063  0.04175853\n",
            " -0.11715574  0.29774081 -0.10597029  0.16714293  0.23842199 -0.03330782\n",
            "  0.10275382  0.15029369  0.08583865 -0.04491592  0.11256608  0.09507049\n",
            "  0.06174995  0.20615639  0.0189916  -0.10093905  0.12432793 -0.00075321\n",
            "  0.13704012  0.13632724  0.26216595 -0.00299324  0.18506372  0.27482105\n",
            "  0.147269    0.08093433  0.10237219  0.18412338  0.00083475  0.10101306\n",
            "  0.0071489   0.25114588 -0.07926531  0.0451634   0.25629049  0.13662404\n",
            "  0.16970915  0.03075783  0.01237784  0.2552651   0.08378511  0.04852904\n",
            "  0.18808702  0.24898722  0.11124391  0.29265593  0.06695503  0.10308963\n",
            "  0.04324968 -0.02615831  0.09692456  0.01134125 -0.13796172  0.04537411\n",
            "  0.03250974  0.03032203 -0.13917631  0.01557909  0.17972444  0.22106224\n",
            "  0.11456083  0.13508806  0.14102875  0.03870836 -0.13723374 -0.04689464\n",
            "  0.05164673 -0.00887205  0.21258851  0.12724677 -0.10931879  0.22887507\n",
            " -0.18233096  0.13183341  0.06862691  0.08790668  0.13203393  0.14612247\n",
            "  0.23859124  0.07576742  0.02845996 -0.06099859  0.19254277  0.08940749\n",
            "  0.09085307  0.10672615  0.15197468  0.16147073  0.08409445 -0.14079058\n",
            "  0.19004872  0.27836212  0.03543559  0.16341366  0.0850892   0.15512607\n",
            "  0.03320471  0.02351538  0.24766067  0.02357859  0.27445618  0.01042357\n",
            "  0.19609716  0.0481585   0.07788739  0.04169316  0.17985509  0.08597698\n",
            " -0.04688319  0.04103664  0.22450045  0.13976029  0.26045418  0.02711245\n",
            "  0.1472802  -0.02889099  0.16020652  0.14695009  0.07825001 -0.0049528\n",
            " -0.04457592  0.14641404  0.1088162  -0.11776426 -0.04484905 -0.10463344\n",
            "  0.02948965  0.11510205  0.09317311  0.00954272  0.05269736 -0.00940732\n",
            "  0.03835771  0.00058122  0.10884862 -0.02281123  0.08469201  0.06301558\n",
            "  0.11328583  0.03061596  0.12677297  0.03041032 -0.09978883  0.01088178\n",
            "  0.10787932 -0.04039031  0.1441592   0.11574977 -0.09925746  0.09921678\n",
            "  0.14483454  0.13373455 -0.01982601  0.10945771  0.03485124  0.2176525\n",
            "  0.14722988 -0.08805189 -0.01297654 -0.00646746  0.12518409  0.17235562\n",
            "  0.1641023   0.21808937  0.03461313  0.07913083  0.05428879  0.25517971\n",
            "  0.11912231  0.13988166  0.18081307  0.24885236  0.10123938  0.10849309\n",
            "  0.23457939  0.22807721  0.18558108  0.05843175 -0.0163989   0.2249057\n",
            "  0.05066904  0.13824783  0.27415319  0.34639756  0.26902584 -0.02624766\n",
            "  0.05687667  0.12601199 -0.00546506  0.18244554  0.13848969  0.11991897\n",
            "  0.05900757  0.07217805  0.17114408  0.0910004   0.22445724  0.02650312\n",
            " -0.03635854 -0.05141769  0.17479863  0.08882103  0.10539237  0.08472854\n",
            " -0.03838892  0.21579939  0.16109918  0.07884009  0.01989648  0.11946732\n",
            "  0.06916987  0.28674353 -0.0459954  -0.0618576   0.14357035  0.08609203\n",
            "  0.3154325   0.14541355  0.17965481  0.18059952  0.07012528  0.22947916\n",
            "  0.28154425  0.04372755  0.15617559  0.13769021  0.05075073 -0.03818665\n",
            "  0.08491299 -0.0660559   0.23577019  0.10342175  0.11340254  0.25762378\n",
            "  0.19495175  0.01599554 -0.0075606   0.06815895  0.07354343 -0.03261499\n",
            "  0.1056696  -0.09895952  0.21251142  0.07383274  0.13457463  0.1963202\n",
            "  0.13109143  0.17965432 -0.04316856  0.14503183  0.16350651  0.10727463\n",
            "  0.03040098  0.06532076  0.10176791  0.12188671  0.14296262  0.09512435\n",
            "  0.09320069  0.08692466 -0.00099893  0.05369994  0.09130864  0.14758165\n",
            " -0.06266826 -0.0970731   0.19363412 -0.13976484 -0.03891039  0.14162106\n",
            "  0.03179977  0.09569171  0.09028419  0.18763754  0.14822804  0.12568858\n",
            "  0.08057243 -0.04994054  0.06851773  0.15512134  0.14122645  0.27048163\n",
            " -0.02269837 -0.03780868  0.09352262  0.10719288  0.08828179  0.06441534\n",
            "  0.08240432  0.15480612  0.11131954  0.00823007  0.1345697   0.05120239\n",
            " -0.06014353  0.03953392  0.19873094  0.09519682  0.19880346 -0.09164336\n",
            "  0.20513099  0.02559099  0.14266467  0.18218244 -0.1428427  -0.00867279\n",
            "  0.1645813   0.06472137  0.05188442  0.28217903  0.22607053  0.10022482\n",
            "  0.05106018  0.15573752  0.12766794  0.27671005  0.13999274  0.16197792\n",
            "  0.26281371  0.09832878  0.05753823  0.08245126  0.21870693  0.16438929\n",
            "  0.02259282  0.22922852 -0.02259365  0.16396161  0.08925069  0.09015288\n",
            " -0.06054619  0.12989449  0.12875476 -0.02872569  0.15828018 -0.0995689\n",
            "  0.05001599  0.0406374   0.08726596  0.19826441 -0.0084166   0.2849655\n",
            "  0.07745549  0.14006059  0.23618177  0.02751517  0.19779411  0.10507225\n",
            " -0.10112052  0.0996823   0.22420094  0.19976388  0.10167042  0.266949\n",
            "  0.14535525 -0.00553103  0.09016128  0.25699541  0.0420505   0.26801955\n",
            "  0.04487706  0.26167632  0.0096111   0.11422135  0.05385841  0.08418307\n",
            "  0.06520184  0.07143765  0.15800538  0.15088886 -0.15928077  0.19255322\n",
            "  0.1363474   0.14930343  0.14073852  0.1281658   0.05975934  0.12630001\n",
            "  0.24709284  0.19548077 -0.11873544  0.18401506  0.14563142  0.04103115\n",
            "  0.1069508   0.07200523  0.24441797  0.0225656   0.00746657  0.06800788\n",
            "  0.1109158   0.2171136   0.19736478  0.04415171  0.05596478  0.07232364\n",
            "  0.08098372  0.06832049  0.09631532  0.24048392  0.17175536  0.18096613\n",
            "  0.16739337 -0.05191905  0.02541192  0.38132116  0.06489985  0.03176876\n",
            "  0.13417245  0.11085461 -0.0309052   0.17936652 -0.01456506  0.04468272\n",
            "  0.1672509   0.07553584  0.06623606 -0.11437981  0.191814   -0.02671782\n",
            " -0.03502844 -0.09606606  0.08008796  0.20492425  0.17944583 -0.05239488\n",
            "  0.04708213  0.14533742  0.09891912  0.15539469  0.13307245 -0.11825891\n",
            "  0.15351403 -0.09288636  0.07879174  0.22134842  0.22614328  0.36346964\n",
            "  0.08218206  0.21643227  0.18920035  0.04157547  0.00663432  0.00291575\n",
            "  0.10703374  0.1216863   0.04356073 -0.04208518  0.15603433  0.09418435\n",
            " -0.02861832  0.04501313  0.23190064 -0.0431982   0.1920679   0.06616632\n",
            "  0.11680204 -0.03913481  0.24587545  0.00760301  0.25053997  0.10018929\n",
            " -0.01187836  0.04732574  0.10050133  0.11023614  0.04615743 -0.13830737\n",
            "  0.1155411   0.01328154 -0.01115108  0.03329529 -0.01170927  0.07489113\n",
            "  0.1526675   0.04352999  0.22947797 -0.00767664 -0.12415936  0.10206169\n",
            "  0.02308492  0.0325456   0.08681564  0.03230289  0.22924628  0.08195753\n",
            "  0.04965476  0.0424957   0.05299575  0.10849977  0.11510046  0.04933003\n",
            "  0.08106272  0.14725161  0.17872805  0.01133009 -0.0469407   0.16701342\n",
            "  0.0560681  -0.07062459  0.13204954  0.12075143 -0.03662026 -0.02675487\n",
            "  0.01042234  0.18560693 -0.04219786  0.10760696 -0.00489582  0.12223315\n",
            "  0.13285203 -0.09730264 -0.06668483  0.11875899  0.26012127  0.13585459\n",
            "  0.16441999 -0.08347858  0.01650505  0.01589161  0.10559962  0.12330077\n",
            "  0.28952701  0.06587887  0.10605525  0.13236735  0.26084593  0.14083028\n",
            "  0.14560146  0.13959748  0.06743703 -0.00779533  0.0640857   0.09175875\n",
            "  0.12900427  0.16773676  0.21399653  0.21956182  0.01271824 -0.16069372\n",
            " -0.11447318  0.18103064  0.20912646  0.06485387  0.24674309  0.03127646\n",
            "  0.1483198   0.09163352  0.04453678  0.03912469  0.09393295  0.21684036\n",
            " -0.0240754   0.2034697   0.1834606   0.04303104  0.12004959  0.10378186\n",
            "  0.14968162  0.12683403  0.01119804  0.08486711  0.31097865  0.31977399\n",
            "  0.06329124  0.13720541  0.14780713  0.0575528   0.03938102  0.17347536\n",
            "  0.08262016 -0.00203358  0.19938546 -0.02624387  0.20059882  0.12270854\n",
            "  0.21744102  0.28879137  0.03055881  0.10505046  0.05906897  0.13991666\n",
            "  0.01520738  0.29060638  0.20098466  0.00172172 -0.04329761  0.09783128\n",
            "  0.10015636  0.1129271   0.08385692  0.15671085  0.19066718  0.04965769\n",
            " -0.04161886  0.04491417  0.01926821 -0.0166127   0.19028692 -0.02349981\n",
            "  0.04190872  0.03695266  0.15251881  0.20325519  0.13150679  0.10056305\n",
            "  0.05931598  0.0200195  -0.03062202  0.09276603 -0.02955082 -0.072334\n",
            "  0.1658648   0.077113    0.05417708  0.17512869  0.00976055  0.24093576\n",
            "  0.02122878  0.14560902  0.1040784   0.04073435  0.28771222  0.20416003\n",
            " -0.02897701  0.23340963  0.15070927  0.21586424 -0.09836327  0.11183376\n",
            "  0.04686711  0.0740403   0.0571628   0.01209149 -0.14429068  0.15444678\n",
            "  0.01734489 -0.03157554 -0.02119266  0.17276454  0.14394162  0.09634443\n",
            " -0.04092947  0.11064034 -0.02054186  0.03510693]\n",
            "[-0.10466686  0.2744653 ]\n"
          ]
        }
      ],
      "source": [
        "X = np.random.randn(100) # random 1D array\n",
        "print(X)\n",
        "N = 1000 # number of bootstrap samples\n",
        "idx = np.random.randint(0, X.size, (N, X.size))\n",
        "print(idx)\n",
        "means = X[idx].mean(axis=1)\n",
        "print(means)\n",
        "confint = np.percentile(means, [2.5, 97.5])\n",
        "print(confint)"
      ]
    }
  ],
  "metadata": {
    "kernelspec": {
      "display_name": "Python 3",
      "language": "python",
      "name": "python3"
    },
    "language_info": {
      "codemirror_mode": {
        "name": "ipython",
        "version": 3
      },
      "file_extension": ".py",
      "mimetype": "text/x-python",
      "name": "python",
      "nbconvert_exporter": "python",
      "pygments_lexer": "ipython3",
      "version": "3.8.3"
    },
    "colab": {
      "name": "Numpy_tasks.ipynb",
      "provenance": [],
      "collapsed_sections": []
    }
  },
  "nbformat": 4,
  "nbformat_minor": 0
}