{
  "nbformat": 4,
  "nbformat_minor": 0,
  "metadata": {
    "colab": {
      "name": "Task7_Assignment10.ipynb",
      "provenance": [],
      "collapsed_sections": []
    },
    "kernelspec": {
      "name": "python3",
      "display_name": "Python 3"
    },
    "language_info": {
      "name": "python"
    }
  },
  "cells": [
    {
      "cell_type": "markdown",
      "source": [
        "You are provided with a dataset from USA Forensic Science Service\n",
        "which has description of 6 types of glass; defined in terms of their\n",
        "oxide content (i.e. Na, Fe, K, etc). Your task is to use K-Nearest\n",
        "Neighbor (KNN) classifier to classify the glasses.\n",
        "\n",
        "Attribute Information:\n",
        "\n",
        "1. Id number: 1 to 214\n",
        "2. RI: refractive index\n",
        "3. Na: Sodium (unit measurement: weight percent in corresponding oxide, as are attributes 4-10)\n",
        "4. Mg: Magnesium\n",
        "5. Al: Aluminum\n",
        "6. Si: Silicon\n",
        "7. K: Potassium\n",
        "8. Ca: Calcium\n",
        "9. Ba: Barium\n",
        "10. Fe: Iron\n",
        "11. Type of glass: (class attribute)\n",
        "-- 1 building_windows_float_processed\n",
        "\n",
        "-- 2 building_windows_non_float_processed\n",
        "\n",
        "-- 3 vehicle_windows_float_processed\n",
        "\n",
        "-- 4 vehicle_windows_non_float_processed (none in this database)\n",
        "\n",
        "-- 5 containers\n",
        "\n",
        "-- 6 tableware\n",
        "\n",
        "-- 7 headlamps"
      ],
      "metadata": {
        "id": "MaNtgC3hL9bw"
      }
    },
    {
      "cell_type": "code",
      "execution_count": 1,
      "metadata": {
        "id": "lHbrg5kQLj_Q"
      },
      "outputs": [],
      "source": [
        "import pandas as pd\n",
        "import numpy as np\n",
        "import matplotlib.pyplot as plt\n",
        "import seaborn as sns\n",
        "from sklearn.preprocessing import StandardScaler\n",
        "from sklearn.neighbors import KNeighborsClassifier\n",
        "from sklearn.metrics import classification_report,accuracy_score, plot_roc_curve\n",
        "from sklearn.model_selection import cross_val_score"
      ]
    },
    {
      "cell_type": "code",
      "source": [
        "#Creating Training and Testing dataframes\n",
        "\n",
        "train_df = pd.read_csv(\"/content/Assignment10_trainKNN.txt\", header=None)\n",
        "train_df.columns= [\"ID\", \"RI\", \"Na\", \"Mg\", \"Al\", \"Si\", \"K\", \"Ca\", \"Ba\", \"Fe\", \"Type_of_Glass\"]\n",
        "\n",
        "train_df = train_df.drop('ID', axis=1) # Drop ID since irrelevant to predictions\n",
        "#train_df.head()\n",
        "\n",
        "test_df = pd.read_csv(\"/content/Assignment10_testKNN.txt\", header=None) \n",
        "test_df.columns = [\"ID\", \"RI\", \"Na\", \"Mg\", \"Al\", \"Si\", \"K\", \"Ca\", \"Ba\", \"Fe\", \"Type_of_Glass\"]\n",
        "test_df = test_df.drop('ID', axis=1)\n",
        "#test_df.head()\n",
        "\n"
      ],
      "metadata": {
        "id": "42w15YvsMjHV"
      },
      "execution_count": 2,
      "outputs": []
    },
    {
      "cell_type": "code",
      "source": [
        "def standardize (df):\n",
        "    for col in df.columns[:-1]: \n",
        "      df[col] = (df[col] - df[col].mean())/df[col].std()\n",
        "    return df"
      ],
      "metadata": {
        "id": "8HqCT51sDZAc"
      },
      "execution_count": 3,
      "outputs": []
    },
    {
      "cell_type": "code",
      "source": [
        "train = standardize(train_df)\n",
        "test = standardize(test_df)\n",
        "train.head()"
      ],
      "metadata": {
        "colab": {
          "base_uri": "https://localhost:8080/",
          "height": 206
        },
        "id": "uuly-F6kDc8n",
        "outputId": "dbf10f62-b9d5-41da-c342-e1cfcd8800aa"
      },
      "execution_count": 4,
      "outputs": [
        {
          "output_type": "execute_result",
          "data": {
            "text/plain": [
              "         RI        Na        Mg        Al        Si         K        Ca  \\\n",
              "0  0.888537  0.338119  1.242977 -0.720654 -1.120263 -0.682898 -0.113060   \n",
              "1 -0.224221  0.657345  0.603903 -0.191863  0.123880 -0.058551 -0.760269   \n",
              "2 -0.692234  0.197659  0.568000  0.174223  0.464382 -0.192340 -0.795443   \n",
              "3 -0.207857 -0.210950  0.668529 -0.334230 -0.033275  0.075237 -0.485909   \n",
              "4 -0.286405 -0.134335  0.618265 -0.435920  0.582248  0.045506 -0.591432   \n",
              "\n",
              "        Ba        Fe  Type_of_Glass  \n",
              "0 -0.33849 -0.581932              1  \n",
              "1 -0.33849 -0.581932              1  \n",
              "2 -0.33849 -0.581932              1  \n",
              "3 -0.33849 -0.581932              1  \n",
              "4 -0.33849 -0.581932              1  "
            ],
            "text/html": [
              "\n",
              "  <div id=\"df-17413ae9-f633-4de7-8965-32f6de232034\">\n",
              "    <div class=\"colab-df-container\">\n",
              "      <div>\n",
              "<style scoped>\n",
              "    .dataframe tbody tr th:only-of-type {\n",
              "        vertical-align: middle;\n",
              "    }\n",
              "\n",
              "    .dataframe tbody tr th {\n",
              "        vertical-align: top;\n",
              "    }\n",
              "\n",
              "    .dataframe thead th {\n",
              "        text-align: right;\n",
              "    }\n",
              "</style>\n",
              "<table border=\"1\" class=\"dataframe\">\n",
              "  <thead>\n",
              "    <tr style=\"text-align: right;\">\n",
              "      <th></th>\n",
              "      <th>RI</th>\n",
              "      <th>Na</th>\n",
              "      <th>Mg</th>\n",
              "      <th>Al</th>\n",
              "      <th>Si</th>\n",
              "      <th>K</th>\n",
              "      <th>Ca</th>\n",
              "      <th>Ba</th>\n",
              "      <th>Fe</th>\n",
              "      <th>Type_of_Glass</th>\n",
              "    </tr>\n",
              "  </thead>\n",
              "  <tbody>\n",
              "    <tr>\n",
              "      <th>0</th>\n",
              "      <td>0.888537</td>\n",
              "      <td>0.338119</td>\n",
              "      <td>1.242977</td>\n",
              "      <td>-0.720654</td>\n",
              "      <td>-1.120263</td>\n",
              "      <td>-0.682898</td>\n",
              "      <td>-0.113060</td>\n",
              "      <td>-0.33849</td>\n",
              "      <td>-0.581932</td>\n",
              "      <td>1</td>\n",
              "    </tr>\n",
              "    <tr>\n",
              "      <th>1</th>\n",
              "      <td>-0.224221</td>\n",
              "      <td>0.657345</td>\n",
              "      <td>0.603903</td>\n",
              "      <td>-0.191863</td>\n",
              "      <td>0.123880</td>\n",
              "      <td>-0.058551</td>\n",
              "      <td>-0.760269</td>\n",
              "      <td>-0.33849</td>\n",
              "      <td>-0.581932</td>\n",
              "      <td>1</td>\n",
              "    </tr>\n",
              "    <tr>\n",
              "      <th>2</th>\n",
              "      <td>-0.692234</td>\n",
              "      <td>0.197659</td>\n",
              "      <td>0.568000</td>\n",
              "      <td>0.174223</td>\n",
              "      <td>0.464382</td>\n",
              "      <td>-0.192340</td>\n",
              "      <td>-0.795443</td>\n",
              "      <td>-0.33849</td>\n",
              "      <td>-0.581932</td>\n",
              "      <td>1</td>\n",
              "    </tr>\n",
              "    <tr>\n",
              "      <th>3</th>\n",
              "      <td>-0.207857</td>\n",
              "      <td>-0.210950</td>\n",
              "      <td>0.668529</td>\n",
              "      <td>-0.334230</td>\n",
              "      <td>-0.033275</td>\n",
              "      <td>0.075237</td>\n",
              "      <td>-0.485909</td>\n",
              "      <td>-0.33849</td>\n",
              "      <td>-0.581932</td>\n",
              "      <td>1</td>\n",
              "    </tr>\n",
              "    <tr>\n",
              "      <th>4</th>\n",
              "      <td>-0.286405</td>\n",
              "      <td>-0.134335</td>\n",
              "      <td>0.618265</td>\n",
              "      <td>-0.435920</td>\n",
              "      <td>0.582248</td>\n",
              "      <td>0.045506</td>\n",
              "      <td>-0.591432</td>\n",
              "      <td>-0.33849</td>\n",
              "      <td>-0.581932</td>\n",
              "      <td>1</td>\n",
              "    </tr>\n",
              "  </tbody>\n",
              "</table>\n",
              "</div>\n",
              "      <button class=\"colab-df-convert\" onclick=\"convertToInteractive('df-17413ae9-f633-4de7-8965-32f6de232034')\"\n",
              "              title=\"Convert this dataframe to an interactive table.\"\n",
              "              style=\"display:none;\">\n",
              "        \n",
              "  <svg xmlns=\"http://www.w3.org/2000/svg\" height=\"24px\"viewBox=\"0 0 24 24\"\n",
              "       width=\"24px\">\n",
              "    <path d=\"M0 0h24v24H0V0z\" fill=\"none\"/>\n",
              "    <path d=\"M18.56 5.44l.94 2.06.94-2.06 2.06-.94-2.06-.94-.94-2.06-.94 2.06-2.06.94zm-11 1L8.5 8.5l.94-2.06 2.06-.94-2.06-.94L8.5 2.5l-.94 2.06-2.06.94zm10 10l.94 2.06.94-2.06 2.06-.94-2.06-.94-.94-2.06-.94 2.06-2.06.94z\"/><path d=\"M17.41 7.96l-1.37-1.37c-.4-.4-.92-.59-1.43-.59-.52 0-1.04.2-1.43.59L10.3 9.45l-7.72 7.72c-.78.78-.78 2.05 0 2.83L4 21.41c.39.39.9.59 1.41.59.51 0 1.02-.2 1.41-.59l7.78-7.78 2.81-2.81c.8-.78.8-2.07 0-2.86zM5.41 20L4 18.59l7.72-7.72 1.47 1.35L5.41 20z\"/>\n",
              "  </svg>\n",
              "      </button>\n",
              "      \n",
              "  <style>\n",
              "    .colab-df-container {\n",
              "      display:flex;\n",
              "      flex-wrap:wrap;\n",
              "      gap: 12px;\n",
              "    }\n",
              "\n",
              "    .colab-df-convert {\n",
              "      background-color: #E8F0FE;\n",
              "      border: none;\n",
              "      border-radius: 50%;\n",
              "      cursor: pointer;\n",
              "      display: none;\n",
              "      fill: #1967D2;\n",
              "      height: 32px;\n",
              "      padding: 0 0 0 0;\n",
              "      width: 32px;\n",
              "    }\n",
              "\n",
              "    .colab-df-convert:hover {\n",
              "      background-color: #E2EBFA;\n",
              "      box-shadow: 0px 1px 2px rgba(60, 64, 67, 0.3), 0px 1px 3px 1px rgba(60, 64, 67, 0.15);\n",
              "      fill: #174EA6;\n",
              "    }\n",
              "\n",
              "    [theme=dark] .colab-df-convert {\n",
              "      background-color: #3B4455;\n",
              "      fill: #D2E3FC;\n",
              "    }\n",
              "\n",
              "    [theme=dark] .colab-df-convert:hover {\n",
              "      background-color: #434B5C;\n",
              "      box-shadow: 0px 1px 3px 1px rgba(0, 0, 0, 0.15);\n",
              "      filter: drop-shadow(0px 1px 2px rgba(0, 0, 0, 0.3));\n",
              "      fill: #FFFFFF;\n",
              "    }\n",
              "  </style>\n",
              "\n",
              "      <script>\n",
              "        const buttonEl =\n",
              "          document.querySelector('#df-17413ae9-f633-4de7-8965-32f6de232034 button.colab-df-convert');\n",
              "        buttonEl.style.display =\n",
              "          google.colab.kernel.accessAllowed ? 'block' : 'none';\n",
              "\n",
              "        async function convertToInteractive(key) {\n",
              "          const element = document.querySelector('#df-17413ae9-f633-4de7-8965-32f6de232034');\n",
              "          const dataTable =\n",
              "            await google.colab.kernel.invokeFunction('convertToInteractive',\n",
              "                                                     [key], {});\n",
              "          if (!dataTable) return;\n",
              "\n",
              "          const docLinkHtml = 'Like what you see? Visit the ' +\n",
              "            '<a target=\"_blank\" href=https://colab.research.google.com/notebooks/data_table.ipynb>data table notebook</a>'\n",
              "            + ' to learn more about interactive tables.';\n",
              "          element.innerHTML = '';\n",
              "          dataTable['output_type'] = 'display_data';\n",
              "          await google.colab.output.renderOutput(dataTable, element);\n",
              "          const docLink = document.createElement('div');\n",
              "          docLink.innerHTML = docLinkHtml;\n",
              "          element.appendChild(docLink);\n",
              "        }\n",
              "      </script>\n",
              "    </div>\n",
              "  </div>\n",
              "  "
            ]
          },
          "metadata": {},
          "execution_count": 4
        }
      ]
    },
    {
      "cell_type": "code",
      "source": [
        "X_train = train.iloc[: , :-1]\n",
        "Y_train = train.iloc[: , -1]\n",
        "\n",
        "X_test = test.iloc[: , :-1]\n",
        "Y_test = test.iloc[: , -1]"
      ],
      "metadata": {
        "id": "WahjIKB5DtIN"
      },
      "execution_count": 5,
      "outputs": []
    },
    {
      "cell_type": "code",
      "source": [
        "best_k=0\n",
        "bestcross_val_score = 0\n",
        "\n",
        "for i in range(1,11):\n",
        "  knn = KNeighborsClassifier(i) #initialising the model\n",
        "\n",
        "  knn.fit(X_train, Y_train) # training the model\n",
        "  \n",
        "  print(\"K value: \" , i, \"\\tTrain Accuracy:\",knn.score(X_train, Y_train), \"\\tVal Accuracy: \", np.mean(cross_val_score(knn, X_train, Y_train, cv=6, scoring=\"accuracy\"))) \n",
        "  if bestcross_val_score < np.mean(cross_val_score(knn, X_train, Y_train, cv=6, scoring=\"accuracy\")):\n",
        "    bestcross_val_score = np.mean(cross_val_score(knn, X_train, Y_train, cv=6, scoring=\"accuracy\"))\n",
        "    best_k = i\n"
      ],
      "metadata": {
        "colab": {
          "base_uri": "https://localhost:8080/"
        },
        "id": "DhnD0HsaEMkS",
        "outputId": "f2a2d074-6d1a-4dc5-9624-50ab16b7f80b"
      },
      "execution_count": 6,
      "outputs": [
        {
          "output_type": "stream",
          "name": "stdout",
          "text": [
            "K value:  1 \tTrain Accuracy: 1.0 \tVal Accuracy:  0.6270517676767676\n",
            "K value:  2 \tTrain Accuracy: 0.8418367346938775 \tVal Accuracy:  0.6990214646464646\n",
            "K value:  3 \tTrain Accuracy: 0.8520408163265306 \tVal Accuracy:  0.6732954545454545\n",
            "K value:  4 \tTrain Accuracy: 0.7959183673469388 \tVal Accuracy:  0.6833964646464646\n",
            "K value:  5 \tTrain Accuracy: 0.8010204081632653 \tVal Accuracy:  0.6785037878787877\n",
            "K value:  6 \tTrain Accuracy: 0.7806122448979592 \tVal Accuracy:  0.6835542929292929\n",
            "K value:  7 \tTrain Accuracy: 0.7346938775510204 \tVal Accuracy:  0.6630366161616161\n",
            "K value:  8 \tTrain Accuracy: 0.7551020408163265 \tVal Accuracy:  0.647885101010101\n",
            "K value:  9 \tTrain Accuracy: 0.7244897959183674 \tVal Accuracy:  0.6482007575757576\n",
            "K value:  10 \tTrain Accuracy: 0.7142857142857143 \tVal Accuracy:  0.6482007575757576\n"
          ]
        }
      ]
    },
    {
      "cell_type": "code",
      "source": [
        "print(\"Best Accuracy achieved with K= \", best_k)\n",
        "\n",
        "knn = KNeighborsClassifier(best_k) #initialising the model\n",
        "knn.fit(X_train, Y_train) # training the model\n",
        "\n",
        "y_pred= knn.predict(X_test)\n",
        "df= pd.DataFrame({\"Actual\" : Y_test, \"Predicted\" : y_pred})\n",
        "df"
      ],
      "metadata": {
        "colab": {
          "base_uri": "https://localhost:8080/",
          "height": 631
        },
        "id": "EAbpZf4XFZjO",
        "outputId": "3e562bcc-71d4-45d6-bebf-6b04e1014877"
      },
      "execution_count": 7,
      "outputs": [
        {
          "output_type": "stream",
          "name": "stdout",
          "text": [
            "Best Accuracy achieved with K=  2\n"
          ]
        },
        {
          "output_type": "execute_result",
          "data": {
            "text/plain": [
              "    Actual  Predicted\n",
              "0        1          1\n",
              "1        1          1\n",
              "2        1          1\n",
              "3        2          2\n",
              "4        2          2\n",
              "5        2          1\n",
              "6        3          2\n",
              "7        3          1\n",
              "8        3          1\n",
              "9        5          2\n",
              "10       5          2\n",
              "11       5          5\n",
              "12       6          6\n",
              "13       6          2\n",
              "14       6          6\n",
              "15       7          7\n",
              "16       7          7\n",
              "17       7          7"
            ],
            "text/html": [
              "\n",
              "  <div id=\"df-b220a2ac-9318-477b-802c-8ccf5dd51412\">\n",
              "    <div class=\"colab-df-container\">\n",
              "      <div>\n",
              "<style scoped>\n",
              "    .dataframe tbody tr th:only-of-type {\n",
              "        vertical-align: middle;\n",
              "    }\n",
              "\n",
              "    .dataframe tbody tr th {\n",
              "        vertical-align: top;\n",
              "    }\n",
              "\n",
              "    .dataframe thead th {\n",
              "        text-align: right;\n",
              "    }\n",
              "</style>\n",
              "<table border=\"1\" class=\"dataframe\">\n",
              "  <thead>\n",
              "    <tr style=\"text-align: right;\">\n",
              "      <th></th>\n",
              "      <th>Actual</th>\n",
              "      <th>Predicted</th>\n",
              "    </tr>\n",
              "  </thead>\n",
              "  <tbody>\n",
              "    <tr>\n",
              "      <th>0</th>\n",
              "      <td>1</td>\n",
              "      <td>1</td>\n",
              "    </tr>\n",
              "    <tr>\n",
              "      <th>1</th>\n",
              "      <td>1</td>\n",
              "      <td>1</td>\n",
              "    </tr>\n",
              "    <tr>\n",
              "      <th>2</th>\n",
              "      <td>1</td>\n",
              "      <td>1</td>\n",
              "    </tr>\n",
              "    <tr>\n",
              "      <th>3</th>\n",
              "      <td>2</td>\n",
              "      <td>2</td>\n",
              "    </tr>\n",
              "    <tr>\n",
              "      <th>4</th>\n",
              "      <td>2</td>\n",
              "      <td>2</td>\n",
              "    </tr>\n",
              "    <tr>\n",
              "      <th>5</th>\n",
              "      <td>2</td>\n",
              "      <td>1</td>\n",
              "    </tr>\n",
              "    <tr>\n",
              "      <th>6</th>\n",
              "      <td>3</td>\n",
              "      <td>2</td>\n",
              "    </tr>\n",
              "    <tr>\n",
              "      <th>7</th>\n",
              "      <td>3</td>\n",
              "      <td>1</td>\n",
              "    </tr>\n",
              "    <tr>\n",
              "      <th>8</th>\n",
              "      <td>3</td>\n",
              "      <td>1</td>\n",
              "    </tr>\n",
              "    <tr>\n",
              "      <th>9</th>\n",
              "      <td>5</td>\n",
              "      <td>2</td>\n",
              "    </tr>\n",
              "    <tr>\n",
              "      <th>10</th>\n",
              "      <td>5</td>\n",
              "      <td>2</td>\n",
              "    </tr>\n",
              "    <tr>\n",
              "      <th>11</th>\n",
              "      <td>5</td>\n",
              "      <td>5</td>\n",
              "    </tr>\n",
              "    <tr>\n",
              "      <th>12</th>\n",
              "      <td>6</td>\n",
              "      <td>6</td>\n",
              "    </tr>\n",
              "    <tr>\n",
              "      <th>13</th>\n",
              "      <td>6</td>\n",
              "      <td>2</td>\n",
              "    </tr>\n",
              "    <tr>\n",
              "      <th>14</th>\n",
              "      <td>6</td>\n",
              "      <td>6</td>\n",
              "    </tr>\n",
              "    <tr>\n",
              "      <th>15</th>\n",
              "      <td>7</td>\n",
              "      <td>7</td>\n",
              "    </tr>\n",
              "    <tr>\n",
              "      <th>16</th>\n",
              "      <td>7</td>\n",
              "      <td>7</td>\n",
              "    </tr>\n",
              "    <tr>\n",
              "      <th>17</th>\n",
              "      <td>7</td>\n",
              "      <td>7</td>\n",
              "    </tr>\n",
              "  </tbody>\n",
              "</table>\n",
              "</div>\n",
              "      <button class=\"colab-df-convert\" onclick=\"convertToInteractive('df-b220a2ac-9318-477b-802c-8ccf5dd51412')\"\n",
              "              title=\"Convert this dataframe to an interactive table.\"\n",
              "              style=\"display:none;\">\n",
              "        \n",
              "  <svg xmlns=\"http://www.w3.org/2000/svg\" height=\"24px\"viewBox=\"0 0 24 24\"\n",
              "       width=\"24px\">\n",
              "    <path d=\"M0 0h24v24H0V0z\" fill=\"none\"/>\n",
              "    <path d=\"M18.56 5.44l.94 2.06.94-2.06 2.06-.94-2.06-.94-.94-2.06-.94 2.06-2.06.94zm-11 1L8.5 8.5l.94-2.06 2.06-.94-2.06-.94L8.5 2.5l-.94 2.06-2.06.94zm10 10l.94 2.06.94-2.06 2.06-.94-2.06-.94-.94-2.06-.94 2.06-2.06.94z\"/><path d=\"M17.41 7.96l-1.37-1.37c-.4-.4-.92-.59-1.43-.59-.52 0-1.04.2-1.43.59L10.3 9.45l-7.72 7.72c-.78.78-.78 2.05 0 2.83L4 21.41c.39.39.9.59 1.41.59.51 0 1.02-.2 1.41-.59l7.78-7.78 2.81-2.81c.8-.78.8-2.07 0-2.86zM5.41 20L4 18.59l7.72-7.72 1.47 1.35L5.41 20z\"/>\n",
              "  </svg>\n",
              "      </button>\n",
              "      \n",
              "  <style>\n",
              "    .colab-df-container {\n",
              "      display:flex;\n",
              "      flex-wrap:wrap;\n",
              "      gap: 12px;\n",
              "    }\n",
              "\n",
              "    .colab-df-convert {\n",
              "      background-color: #E8F0FE;\n",
              "      border: none;\n",
              "      border-radius: 50%;\n",
              "      cursor: pointer;\n",
              "      display: none;\n",
              "      fill: #1967D2;\n",
              "      height: 32px;\n",
              "      padding: 0 0 0 0;\n",
              "      width: 32px;\n",
              "    }\n",
              "\n",
              "    .colab-df-convert:hover {\n",
              "      background-color: #E2EBFA;\n",
              "      box-shadow: 0px 1px 2px rgba(60, 64, 67, 0.3), 0px 1px 3px 1px rgba(60, 64, 67, 0.15);\n",
              "      fill: #174EA6;\n",
              "    }\n",
              "\n",
              "    [theme=dark] .colab-df-convert {\n",
              "      background-color: #3B4455;\n",
              "      fill: #D2E3FC;\n",
              "    }\n",
              "\n",
              "    [theme=dark] .colab-df-convert:hover {\n",
              "      background-color: #434B5C;\n",
              "      box-shadow: 0px 1px 3px 1px rgba(0, 0, 0, 0.15);\n",
              "      filter: drop-shadow(0px 1px 2px rgba(0, 0, 0, 0.3));\n",
              "      fill: #FFFFFF;\n",
              "    }\n",
              "  </style>\n",
              "\n",
              "      <script>\n",
              "        const buttonEl =\n",
              "          document.querySelector('#df-b220a2ac-9318-477b-802c-8ccf5dd51412 button.colab-df-convert');\n",
              "        buttonEl.style.display =\n",
              "          google.colab.kernel.accessAllowed ? 'block' : 'none';\n",
              "\n",
              "        async function convertToInteractive(key) {\n",
              "          const element = document.querySelector('#df-b220a2ac-9318-477b-802c-8ccf5dd51412');\n",
              "          const dataTable =\n",
              "            await google.colab.kernel.invokeFunction('convertToInteractive',\n",
              "                                                     [key], {});\n",
              "          if (!dataTable) return;\n",
              "\n",
              "          const docLinkHtml = 'Like what you see? Visit the ' +\n",
              "            '<a target=\"_blank\" href=https://colab.research.google.com/notebooks/data_table.ipynb>data table notebook</a>'\n",
              "            + ' to learn more about interactive tables.';\n",
              "          element.innerHTML = '';\n",
              "          dataTable['output_type'] = 'display_data';\n",
              "          await google.colab.output.renderOutput(dataTable, element);\n",
              "          const docLink = document.createElement('div');\n",
              "          docLink.innerHTML = docLinkHtml;\n",
              "          element.appendChild(docLink);\n",
              "        }\n",
              "      </script>\n",
              "    </div>\n",
              "  </div>\n",
              "  "
            ]
          },
          "metadata": {},
          "execution_count": 7
        }
      ]
    },
    {
      "cell_type": "code",
      "source": [
        "confusion_matrix = pd.crosstab(Y_test, y_pred, rownames=['Actual'], colnames=['Predicted'])\n",
        "sns.heatmap(confusion_matrix, annot=True)"
      ],
      "metadata": {
        "colab": {
          "base_uri": "https://localhost:8080/",
          "height": 300
        },
        "id": "OjPfiYQNG_80",
        "outputId": "1d484708-4e35-4dea-d655-b726cdb884f1"
      },
      "execution_count": 8,
      "outputs": [
        {
          "output_type": "execute_result",
          "data": {
            "text/plain": [
              "<matplotlib.axes._subplots.AxesSubplot at 0x7faaabb3bf50>"
            ]
          },
          "metadata": {},
          "execution_count": 8
        },
        {
          "output_type": "display_data",
          "data": {
            "text/plain": [
              "<Figure size 432x288 with 2 Axes>"
            ],
            "image/png": "[encoded data removed]"
          },
          "metadata": {
            "needs_background": "light"
          }
        }
      ]
    },
    {
      "cell_type": "markdown",
      "source": [
        "**Manhattan**"
      ],
      "metadata": {
        "id": "2gAq9_tuXvBr"
      }
    },
    {
      "cell_type": "code",
      "source": [
        "manh_knn = KNeighborsClassifier(n_neighbors= best_k, metric=\"manhattan\")\n",
        "manh_knn.fit(X_train, Y_train)\n",
        "\n",
        "manh_Y_pred = manh_knn.predict(X_test)\n",
        "\n",
        "print(classification_report(Y_test, manh_Y_pred))\n",
        "\n",
        "print(\"ACCURACY:\", accuracy_score(Y_test, manh_Y_pred))"
      ],
      "metadata": {
        "colab": {
          "base_uri": "https://localhost:8080/"
        },
        "id": "2zx4TK6JXuor",
        "outputId": "d60ae1a4-3bee-46db-c9ba-aa11bf2cdf0d"
      },
      "execution_count": 9,
      "outputs": [
        {
          "output_type": "stream",
          "name": "stdout",
          "text": [
            "              precision    recall  f1-score   support\n",
            "\n",
            "           1       0.60      1.00      0.75         3\n",
            "           2       0.25      0.67      0.36         3\n",
            "           3       0.00      0.00      0.00         3\n",
            "           5       1.00      0.33      0.50         3\n",
            "           6       1.00      0.33      0.50         3\n",
            "           7       1.00      1.00      1.00         3\n",
            "\n",
            "    accuracy                           0.56        18\n",
            "   macro avg       0.64      0.56      0.52        18\n",
            "weighted avg       0.64      0.56      0.52        18\n",
            "\n",
            "ACCURACY: 0.5555555555555556\n"
          ]
        },
        {
          "output_type": "stream",
          "name": "stderr",
          "text": [
            "/usr/local/lib/python3.7/dist-packages/sklearn/metrics/_classification.py:1318: UndefinedMetricWarning: Precision and F-score are ill-defined and being set to 0.0 in labels with no predicted samples. Use `zero_division` parameter to control this behavior.\n",
            "  _warn_prf(average, modifier, msg_start, len(result))\n",
            "/usr/local/lib/python3.7/dist-packages/sklearn/metrics/_classification.py:1318: UndefinedMetricWarning: Precision and F-score are ill-defined and being set to 0.0 in labels with no predicted samples. Use `zero_division` parameter to control this behavior.\n",
            "  _warn_prf(average, modifier, msg_start, len(result))\n",
            "/usr/local/lib/python3.7/dist-packages/sklearn/metrics/_classification.py:1318: UndefinedMetricWarning: Precision and F-score are ill-defined and being set to 0.0 in labels with no predicted samples. Use `zero_division` parameter to control this behavior.\n",
            "  _warn_prf(average, modifier, msg_start, len(result))\n"
          ]
        }
      ]
    },
    {
      "cell_type": "markdown",
      "source": [
        "**Euclidean**"
      ],
      "metadata": {
        "id": "95fU8VTmY7uz"
      }
    },
    {
      "cell_type": "code",
      "source": [
        "seq_knn = KNeighborsClassifier(n_neighbors= best_k, metric=\"sqeuclidean\")\n",
        "seq_knn.fit(X_train, Y_train)\n",
        "\n",
        "seq_Y_pred = seq_knn.predict(X_test)\n",
        "\n",
        "print(classification_report(Y_test, seq_Y_pred))\n",
        "\n",
        "print(\"ACCURACY:\", accuracy_score(Y_test, seq_Y_pred))"
      ],
      "metadata": {
        "colab": {
          "base_uri": "https://localhost:8080/"
        },
        "id": "fqVcS9-xZCJj",
        "outputId": "d023b122-937a-44eb-fbbe-1fca49ff9cc4"
      },
      "execution_count": 10,
      "outputs": [
        {
          "output_type": "stream",
          "name": "stdout",
          "text": [
            "              precision    recall  f1-score   support\n",
            "\n",
            "           1       0.50      1.00      0.67         3\n",
            "           2       0.33      0.67      0.44         3\n",
            "           3       0.00      0.00      0.00         3\n",
            "           5       1.00      0.33      0.50         3\n",
            "           6       1.00      0.67      0.80         3\n",
            "           7       1.00      1.00      1.00         3\n",
            "\n",
            "    accuracy                           0.61        18\n",
            "   macro avg       0.64      0.61      0.57        18\n",
            "weighted avg       0.64      0.61      0.57        18\n",
            "\n",
            "ACCURACY: 0.6111111111111112\n"
          ]
        },
        {
          "output_type": "stream",
          "name": "stderr",
          "text": [
            "/usr/local/lib/python3.7/dist-packages/sklearn/metrics/_classification.py:1318: UndefinedMetricWarning: Precision and F-score are ill-defined and being set to 0.0 in labels with no predicted samples. Use `zero_division` parameter to control this behavior.\n",
            "  _warn_prf(average, modifier, msg_start, len(result))\n",
            "/usr/local/lib/python3.7/dist-packages/sklearn/metrics/_classification.py:1318: UndefinedMetricWarning: Precision and F-score are ill-defined and being set to 0.0 in labels with no predicted samples. Use `zero_division` parameter to control this behavior.\n",
            "  _warn_prf(average, modifier, msg_start, len(result))\n",
            "/usr/local/lib/python3.7/dist-packages/sklearn/metrics/_classification.py:1318: UndefinedMetricWarning: Precision and F-score are ill-defined and being set to 0.0 in labels with no predicted samples. Use `zero_division` parameter to control this behavior.\n",
            "  _warn_prf(average, modifier, msg_start, len(result))\n"
          ]
        }
      ]
    },
    {
      "cell_type": "code",
      "source": [
        "if accuracy_score(Y_test, seq_Y_pred) > accuracy_score(Y_test, manh_Y_pred) :\n",
        "  print(\"From the two comparisons we can come to the conclusion that the ACCURACY of squared euclidean is better than manhattan as distance metrics for the predictions.\")\n",
        "else:\n",
        "  print(\"From the two comparisons we can come to the conclusion that the ACCURACY of manhattan is better than squared euclidean as distance metrics for the predictions.\")"
      ],
      "metadata": {
        "colab": {
          "base_uri": "https://localhost:8080/"
        },
        "id": "aYl75uNIjHbv",
        "outputId": "29c00af3-fd2a-4c16-d662-de46f0698321"
      },
      "execution_count": 11,
      "outputs": [
        {
          "output_type": "stream",
          "name": "stdout",
          "text": [
            "From the two comparisons we can come to the conclusion that the ACCURACY of squared euclidean is better than manhattan as distance metrics for the predictions.\n"
          ]
        }
      ]
    }
  ]
}